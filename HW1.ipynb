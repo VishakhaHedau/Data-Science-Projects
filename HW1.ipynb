{
 "cells": [
  {
   "cell_type": "markdown",
   "metadata": {},
   "source": [
    "# Data input\n",
    "\n",
    "Submission deadline: Sept 20 11:59 AM"
   ]
  },
  {
   "cell_type": "markdown",
   "metadata": {},
   "source": [
    "In general data can be acquired as:\n",
    "* downloadable files (e.g. CSV, txt, Excel, JSON files and other common data formats)\n",
    "* through API (Application Program Interface)\n",
    "* through databases "
   ]
  },
  {
   "cell_type": "markdown",
   "metadata": {},
   "source": [
    "In this lab we will provide examples how to work with downloadable data in the two most common formats:\n",
    "* comma-separated-values (CSV) or text files (txt) more generally \n",
    "* and Excel or XLS files\n",
    "\n",
    "Also as urban analytics is often inherently spatial we'll consider another specific format often used for the spatial data: JSON"
   ]
  },
  {
   "cell_type": "markdown",
   "metadata": {},
   "source": [
    "We will also provide some basic descriptive analytics, like getting the number of records, defining timeframes or summing up numeric columns.\n",
    "\n",
    "It is always a good idea to start data analytics with such descriptive analysis as not only it gives an idea of the scale (and thus utility) of the data, but also allows to spot possible issues"
   ]
  },
  {
   "cell_type": "code",
   "execution_count": 1,
   "metadata": {},
   "outputs": [
    {
     "name": "stdout",
     "output_type": "stream",
     "text": [
      "Requirement already satisfied: pandas in /opt/conda/lib/python3.8/site-packages (1.3.3)\n",
      "Requirement already satisfied: python-dateutil>=2.7.3 in /opt/conda/lib/python3.8/site-packages (from pandas) (2.8.1)\n",
      "Requirement already satisfied: pytz>=2017.3 in /opt/conda/lib/python3.8/site-packages (from pandas) (2021.1)\n",
      "Requirement already satisfied: numpy>=1.17.3 in /opt/conda/lib/python3.8/site-packages (from pandas) (1.21.1)\n",
      "Requirement already satisfied: six>=1.5 in /opt/conda/lib/python3.8/site-packages (from python-dateutil>=2.7.3->pandas) (1.15.0)\n",
      "Note: you may need to restart the kernel to use updated packages.\n"
     ]
    }
   ],
   "source": [
    "pip install pandas"
   ]
  },
  {
   "cell_type": "code",
   "execution_count": 26,
   "metadata": {},
   "outputs": [
    {
     "name": "stdout",
     "output_type": "stream",
     "text": [
      "Requirement already satisfied: xlrd in /opt/conda/lib/python3.8/site-packages (2.0.1)\n",
      "Note: you may need to restart the kernel to use updated packages.\n"
     ]
    }
   ],
   "source": [
    "pip install xlrd"
   ]
  },
  {
   "cell_type": "code",
   "execution_count": 3,
   "metadata": {},
   "outputs": [],
   "source": [
    "import numpy as np\n",
    "import pandas as pd #first we'll need module pandas to work with the dataframes\n",
    "%matplotlib inline"
   ]
  },
  {
   "cell_type": "markdown",
   "metadata": {},
   "source": [
    "## Example 1. The 311 service requests (CSV) in Boston\n",
    "\n",
    "The data contains all 311 call service requests, including their time, location, type of issue and many other details\n",
    "\n",
    "Source https://data.boston.gov/dataset/311-service-requests"
   ]
  },
  {
   "cell_type": "code",
   "execution_count": 4,
   "metadata": {},
   "outputs": [],
   "source": [
    "#lets specify the file location on the web\n",
    "#we can actually upload the data directly from there!\n",
    "#the data is provided by year, so consider the most recent full year available - 2019\n",
    "fname = '311_service_requests_2020.csv'"
   ]
  },
  {
   "cell_type": "code",
   "execution_count": 5,
   "metadata": {},
   "outputs": [],
   "source": [
    "boston311 = pd.read_csv(fname) #upload the data"
   ]
  },
  {
   "cell_type": "code",
   "execution_count": 6,
   "metadata": {},
   "outputs": [
    {
     "data": {
      "text/html": [
       "<div>\n",
       "<style scoped>\n",
       "    .dataframe tbody tr th:only-of-type {\n",
       "        vertical-align: middle;\n",
       "    }\n",
       "\n",
       "    .dataframe tbody tr th {\n",
       "        vertical-align: top;\n",
       "    }\n",
       "\n",
       "    .dataframe thead th {\n",
       "        text-align: right;\n",
       "    }\n",
       "</style>\n",
       "<table border=\"1\" class=\"dataframe\">\n",
       "  <thead>\n",
       "    <tr style=\"text-align: right;\">\n",
       "      <th></th>\n",
       "      <th>case_enquiry_id</th>\n",
       "      <th>open_dt</th>\n",
       "      <th>target_dt</th>\n",
       "      <th>closed_dt</th>\n",
       "      <th>ontime</th>\n",
       "      <th>case_status</th>\n",
       "      <th>closure_reason</th>\n",
       "      <th>case_title</th>\n",
       "      <th>subject</th>\n",
       "      <th>reason</th>\n",
       "      <th>...</th>\n",
       "      <th>police_district</th>\n",
       "      <th>neighborhood</th>\n",
       "      <th>neighborhood_services_district</th>\n",
       "      <th>ward</th>\n",
       "      <th>precinct</th>\n",
       "      <th>location_street_name</th>\n",
       "      <th>location_zipcode</th>\n",
       "      <th>latitude</th>\n",
       "      <th>longitude</th>\n",
       "      <th>source</th>\n",
       "    </tr>\n",
       "  </thead>\n",
       "  <tbody>\n",
       "    <tr>\n",
       "      <th>0</th>\n",
       "      <td>101003156172</td>\n",
       "      <td>2020-01-10 11:32:00</td>\n",
       "      <td>2020-05-09 11:32:13</td>\n",
       "      <td>NaN</td>\n",
       "      <td>OVERDUE</td>\n",
       "      <td>Open</td>\n",
       "      <td></td>\n",
       "      <td>Unsatisfactory Living Conditions</td>\n",
       "      <td>Inspectional Services</td>\n",
       "      <td>Housing</td>\n",
       "      <td>...</td>\n",
       "      <td>B3</td>\n",
       "      <td>Dorchester</td>\n",
       "      <td>9</td>\n",
       "      <td>14</td>\n",
       "      <td>1411</td>\n",
       "      <td>2 Osprey Way</td>\n",
       "      <td>2124.0</td>\n",
       "      <td>42.2925</td>\n",
       "      <td>-71.0939</td>\n",
       "      <td>Constituent Call</td>\n",
       "    </tr>\n",
       "    <tr>\n",
       "      <th>1</th>\n",
       "      <td>101003171366</td>\n",
       "      <td>2020-01-16 12:08:00</td>\n",
       "      <td>2021-01-15 12:09:19</td>\n",
       "      <td>NaN</td>\n",
       "      <td>ONTIME</td>\n",
       "      <td>Open</td>\n",
       "      <td></td>\n",
       "      <td>New Tree Requests</td>\n",
       "      <td>Parks &amp; Recreation Department</td>\n",
       "      <td>Trees</td>\n",
       "      <td>...</td>\n",
       "      <td>E18</td>\n",
       "      <td>Hyde Park</td>\n",
       "      <td>10</td>\n",
       "      <td>Ward 18</td>\n",
       "      <td>1822</td>\n",
       "      <td>141 Sherrin St</td>\n",
       "      <td>2136.0</td>\n",
       "      <td>42.2668</td>\n",
       "      <td>-71.1256</td>\n",
       "      <td>Employee Generated</td>\n",
       "    </tr>\n",
       "    <tr>\n",
       "      <th>2</th>\n",
       "      <td>101003175987</td>\n",
       "      <td>2020-01-22 15:34:00</td>\n",
       "      <td>2020-01-23 15:34:03</td>\n",
       "      <td>NaN</td>\n",
       "      <td>OVERDUE</td>\n",
       "      <td>Open</td>\n",
       "      <td></td>\n",
       "      <td>Sidewalk Repair (Make Safe)</td>\n",
       "      <td>Public Works Department</td>\n",
       "      <td>Highway Maintenance</td>\n",
       "      <td>...</td>\n",
       "      <td>D4</td>\n",
       "      <td>Boston</td>\n",
       "      <td>6</td>\n",
       "      <td>04</td>\n",
       "      <td>0402</td>\n",
       "      <td>155 Dartmouth St</td>\n",
       "      <td>2116.0</td>\n",
       "      <td>42.3476</td>\n",
       "      <td>-71.0757</td>\n",
       "      <td>Citizens Connect App</td>\n",
       "    </tr>\n",
       "    <tr>\n",
       "      <th>3</th>\n",
       "      <td>101003180345</td>\n",
       "      <td>2020-01-27 21:33:00</td>\n",
       "      <td>2020-02-11 08:30:00</td>\n",
       "      <td>NaN</td>\n",
       "      <td>OVERDUE</td>\n",
       "      <td>Open</td>\n",
       "      <td></td>\n",
       "      <td>PRINTED :</td>\n",
       "      <td>Public Works Department</td>\n",
       "      <td>Street Lights</td>\n",
       "      <td>...</td>\n",
       "      <td>A15</td>\n",
       "      <td>Charlestown</td>\n",
       "      <td>2</td>\n",
       "      <td>02</td>\n",
       "      <td>0202</td>\n",
       "      <td>45 First Ave</td>\n",
       "      <td>2129.0</td>\n",
       "      <td>42.3762</td>\n",
       "      <td>-71.0529</td>\n",
       "      <td>Citizens Connect App</td>\n",
       "    </tr>\n",
       "    <tr>\n",
       "      <th>4</th>\n",
       "      <td>101003183226</td>\n",
       "      <td>2020-01-30 14:55:58</td>\n",
       "      <td>2020-04-29 14:55:59</td>\n",
       "      <td>NaN</td>\n",
       "      <td>OVERDUE</td>\n",
       "      <td>Open</td>\n",
       "      <td></td>\n",
       "      <td>Rental Unit Delivery Conditions</td>\n",
       "      <td>Inspectional Services</td>\n",
       "      <td>Housing</td>\n",
       "      <td>...</td>\n",
       "      <td>A7</td>\n",
       "      <td>East Boston</td>\n",
       "      <td>1</td>\n",
       "      <td>Ward 1</td>\n",
       "      <td>0104</td>\n",
       "      <td>117 Havre St</td>\n",
       "      <td>2128.0</td>\n",
       "      <td>42.3728</td>\n",
       "      <td>-71.0383</td>\n",
       "      <td>Constituent Call</td>\n",
       "    </tr>\n",
       "  </tbody>\n",
       "</table>\n",
       "<p>5 rows × 29 columns</p>\n",
       "</div>"
      ],
      "text/plain": [
       "   case_enquiry_id              open_dt            target_dt closed_dt  \\\n",
       "0     101003156172  2020-01-10 11:32:00  2020-05-09 11:32:13       NaN   \n",
       "1     101003171366  2020-01-16 12:08:00  2021-01-15 12:09:19       NaN   \n",
       "2     101003175987  2020-01-22 15:34:00  2020-01-23 15:34:03       NaN   \n",
       "3     101003180345  2020-01-27 21:33:00  2020-02-11 08:30:00       NaN   \n",
       "4     101003183226  2020-01-30 14:55:58  2020-04-29 14:55:59       NaN   \n",
       "\n",
       "    ontime case_status closure_reason                        case_title  \\\n",
       "0  OVERDUE        Open                 Unsatisfactory Living Conditions   \n",
       "1   ONTIME        Open                                New Tree Requests   \n",
       "2  OVERDUE        Open                      Sidewalk Repair (Make Safe)   \n",
       "3  OVERDUE        Open                                       PRINTED :    \n",
       "4  OVERDUE        Open                  Rental Unit Delivery Conditions   \n",
       "\n",
       "                         subject               reason  ... police_district  \\\n",
       "0          Inspectional Services              Housing  ...              B3   \n",
       "1  Parks & Recreation Department                Trees  ...             E18   \n",
       "2        Public Works Department  Highway Maintenance  ...              D4   \n",
       "3        Public Works Department        Street Lights  ...             A15   \n",
       "4          Inspectional Services              Housing  ...              A7   \n",
       "\n",
       "  neighborhood neighborhood_services_district     ward precinct  \\\n",
       "0   Dorchester                              9       14     1411   \n",
       "1    Hyde Park                             10  Ward 18     1822   \n",
       "2       Boston                              6       04     0402   \n",
       "3  Charlestown                              2       02     0202   \n",
       "4  East Boston                              1   Ward 1     0104   \n",
       "\n",
       "  location_street_name location_zipcode latitude longitude  \\\n",
       "0         2 Osprey Way           2124.0  42.2925  -71.0939   \n",
       "1       141 Sherrin St           2136.0  42.2668  -71.1256   \n",
       "2     155 Dartmouth St           2116.0  42.3476  -71.0757   \n",
       "3         45 First Ave           2129.0  42.3762  -71.0529   \n",
       "4         117 Havre St           2128.0  42.3728  -71.0383   \n",
       "\n",
       "                 source  \n",
       "0      Constituent Call  \n",
       "1    Employee Generated  \n",
       "2  Citizens Connect App  \n",
       "3  Citizens Connect App  \n",
       "4      Constituent Call  \n",
       "\n",
       "[5 rows x 29 columns]"
      ]
     },
     "execution_count": 6,
     "metadata": {},
     "output_type": "execute_result"
    }
   ],
   "source": [
    "#preview the data\n",
    "boston311.head()"
   ]
  },
  {
   "cell_type": "code",
   "execution_count": 7,
   "metadata": {},
   "outputs": [
    {
     "data": {
      "text/plain": [
       "Index(['case_enquiry_id', 'open_dt', 'target_dt', 'closed_dt', 'ontime',\n",
       "       'case_status', 'closure_reason', 'case_title', 'subject', 'reason',\n",
       "       'type', 'queue', 'department', 'submittedphoto', 'closedphoto',\n",
       "       'location', 'fire_district', 'pwd_district', 'city_council_district',\n",
       "       'police_district', 'neighborhood', 'neighborhood_services_district',\n",
       "       'ward', 'precinct', 'location_street_name', 'location_zipcode',\n",
       "       'latitude', 'longitude', 'source'],\n",
       "      dtype='object')"
      ]
     },
     "execution_count": 7,
     "metadata": {},
     "output_type": "execute_result"
    }
   ],
   "source": [
    "#get the list of columns\n",
    "boston311.columns"
   ]
  },
  {
   "cell_type": "code",
   "execution_count": 8,
   "metadata": {},
   "outputs": [
    {
     "data": {
      "text/plain": [
       "161717"
      ]
     },
     "execution_count": 8,
     "metadata": {},
     "output_type": "execute_result"
    }
   ],
   "source": [
    "#get the total number of records\n",
    "len(boston311)"
   ]
  },
  {
   "cell_type": "code",
   "execution_count": 9,
   "metadata": {},
   "outputs": [
    {
     "data": {
      "text/html": [
       "<div>\n",
       "<style scoped>\n",
       "    .dataframe tbody tr th:only-of-type {\n",
       "        vertical-align: middle;\n",
       "    }\n",
       "\n",
       "    .dataframe tbody tr th {\n",
       "        vertical-align: top;\n",
       "    }\n",
       "\n",
       "    .dataframe thead th {\n",
       "        text-align: right;\n",
       "    }\n",
       "</style>\n",
       "<table border=\"1\" class=\"dataframe\">\n",
       "  <thead>\n",
       "    <tr style=\"text-align: right;\">\n",
       "      <th></th>\n",
       "      <th>case_enquiry_id</th>\n",
       "      <th>location_zipcode</th>\n",
       "      <th>latitude</th>\n",
       "      <th>longitude</th>\n",
       "    </tr>\n",
       "  </thead>\n",
       "  <tbody>\n",
       "    <tr>\n",
       "      <th>count</th>\n",
       "      <td>1.617170e+05</td>\n",
       "      <td>126496.000000</td>\n",
       "      <td>161717.000000</td>\n",
       "      <td>161717.000000</td>\n",
       "    </tr>\n",
       "    <tr>\n",
       "      <th>mean</th>\n",
       "      <td>1.010033e+11</td>\n",
       "      <td>2126.907041</td>\n",
       "      <td>42.331518</td>\n",
       "      <td>-71.078489</td>\n",
       "    </tr>\n",
       "    <tr>\n",
       "      <th>std</th>\n",
       "      <td>7.906295e+04</td>\n",
       "      <td>17.751533</td>\n",
       "      <td>0.034112</td>\n",
       "      <td>0.033925</td>\n",
       "    </tr>\n",
       "    <tr>\n",
       "      <th>min</th>\n",
       "      <td>1.010031e+11</td>\n",
       "      <td>2108.000000</td>\n",
       "      <td>42.231500</td>\n",
       "      <td>-71.185400</td>\n",
       "    </tr>\n",
       "    <tr>\n",
       "      <th>25%</th>\n",
       "      <td>1.010032e+11</td>\n",
       "      <td>2119.000000</td>\n",
       "      <td>42.306100</td>\n",
       "      <td>-71.094500</td>\n",
       "    </tr>\n",
       "    <tr>\n",
       "      <th>50%</th>\n",
       "      <td>1.010033e+11</td>\n",
       "      <td>2126.000000</td>\n",
       "      <td>42.340600</td>\n",
       "      <td>-71.067100</td>\n",
       "    </tr>\n",
       "    <tr>\n",
       "      <th>75%</th>\n",
       "      <td>1.010033e+11</td>\n",
       "      <td>2130.000000</td>\n",
       "      <td>42.359400</td>\n",
       "      <td>-71.058700</td>\n",
       "    </tr>\n",
       "    <tr>\n",
       "      <th>max</th>\n",
       "      <td>1.010034e+11</td>\n",
       "      <td>2467.000000</td>\n",
       "      <td>42.395200</td>\n",
       "      <td>-70.995100</td>\n",
       "    </tr>\n",
       "  </tbody>\n",
       "</table>\n",
       "</div>"
      ],
      "text/plain": [
       "       case_enquiry_id  location_zipcode       latitude      longitude\n",
       "count     1.617170e+05     126496.000000  161717.000000  161717.000000\n",
       "mean      1.010033e+11       2126.907041      42.331518     -71.078489\n",
       "std       7.906295e+04         17.751533       0.034112       0.033925\n",
       "min       1.010031e+11       2108.000000      42.231500     -71.185400\n",
       "25%       1.010032e+11       2119.000000      42.306100     -71.094500\n",
       "50%       1.010033e+11       2126.000000      42.340600     -71.067100\n",
       "75%       1.010033e+11       2130.000000      42.359400     -71.058700\n",
       "max       1.010034e+11       2467.000000      42.395200     -70.995100"
      ]
     },
     "execution_count": 9,
     "metadata": {},
     "output_type": "execute_result"
    }
   ],
   "source": [
    "#summary statistics for all the numeric columns\n",
    "boston311.describe()"
   ]
  },
  {
   "cell_type": "markdown",
   "metadata": {},
   "source": [
    "Gives a good idea of how many records have a valid number defined and also averages and ranges for latitute/logitude\n",
    "\n",
    "statistics for zipcode and id won't make that much sense \n",
    "\n",
    "as while these data has numeric type its categorical in nature and computing averages is somewhat meaningless"
   ]
  },
  {
   "cell_type": "markdown",
   "metadata": {},
   "source": [
    "Some additional descriptive analysis one might be interested is to learn more about the categorical variables, e.g. subject, reason, type, neighborhood, zip_code"
   ]
  },
  {
   "cell_type": "code",
   "execution_count": 10,
   "metadata": {},
   "outputs": [],
   "source": [
    "#first let's get the list of unique values for each, or at least the number of such values"
   ]
  },
  {
   "cell_type": "code",
   "execution_count": 11,
   "metadata": {},
   "outputs": [
    {
     "data": {
      "text/plain": [
       "array(['Inspectional Services', 'Parks & Recreation Department',\n",
       "       'Public Works Department', 'Property Management',\n",
       "       \"Mayor's 24 Hour Hotline\", 'Transportation - Traffic Division',\n",
       "       'Animal Control', 'Boston Water & Sewer Commission',\n",
       "       'Boston Police Department', 'Consumer Affairs & Licensing',\n",
       "       'Neighborhood Services'], dtype=object)"
      ]
     },
     "execution_count": 11,
     "metadata": {},
     "output_type": "execute_result"
    }
   ],
   "source": [
    "boston311.subject.unique()"
   ]
  },
  {
   "cell_type": "code",
   "execution_count": 12,
   "metadata": {},
   "outputs": [
    {
     "data": {
      "text/plain": [
       "11"
      ]
     },
     "execution_count": 12,
     "metadata": {},
     "output_type": "execute_result"
    }
   ],
   "source": [
    "len(boston311.subject.unique())"
   ]
  },
  {
   "cell_type": "code",
   "execution_count": 13,
   "metadata": {},
   "outputs": [
    {
     "data": {
      "text/plain": [
       "43"
      ]
     },
     "execution_count": 13,
     "metadata": {},
     "output_type": "execute_result"
    }
   ],
   "source": [
    "len(boston311.reason.unique())"
   ]
  },
  {
   "cell_type": "code",
   "execution_count": 14,
   "metadata": {},
   "outputs": [
    {
     "data": {
      "text/plain": [
       "171"
      ]
     },
     "execution_count": 14,
     "metadata": {},
     "output_type": "execute_result"
    }
   ],
   "source": [
    "len(boston311.type.unique())"
   ]
  },
  {
   "cell_type": "markdown",
   "metadata": {},
   "source": [
    "And if e.g. we want to know the number of complaints per subject we can group the dataframe as following"
   ]
  },
  {
   "cell_type": "code",
   "execution_count": 15,
   "metadata": {},
   "outputs": [
    {
     "data": {
      "text/plain": [
       "Public Works Department              85739\n",
       "Transportation - Traffic Division    33328\n",
       "Inspectional Services                14022\n",
       "Mayor's 24 Hour Hotline              12207\n",
       "Parks & Recreation Department        10935\n",
       "Animal Control                        2196\n",
       "Property Management                   2170\n",
       "Boston Water & Sewer Commission        748\n",
       "Boston Police Department               344\n",
       "Consumer Affairs & Licensing            18\n",
       "Neighborhood Services                   10\n",
       "Name: subject, dtype: int64"
      ]
     },
     "execution_count": 15,
     "metadata": {},
     "output_type": "execute_result"
    }
   ],
   "source": [
    "boston311['subject'].value_counts()"
   ]
  },
  {
   "cell_type": "code",
   "execution_count": 16,
   "metadata": {},
   "outputs": [
    {
     "data": {
      "text/plain": [
       "<AxesSubplot:xlabel='subject'>"
      ]
     },
     "execution_count": 16,
     "metadata": {},
     "output_type": "execute_result"
    },
    {
     "data": {
      "image/png": "[encoded data removed]",
      "text/plain": [
       "<Figure size 432x288 with 1 Axes>"
      ]
     },
     "metadata": {
      "needs_background": "light"
     },
     "output_type": "display_data"
    }
   ],
   "source": [
    "#or visualizing as a histogram\n",
    "boston311[['subject','case_enquiry_id']].groupby(by=['subject']).count().plot.bar()"
   ]
  },
  {
   "cell_type": "markdown",
   "metadata": {},
   "source": [
    "### Task 1. Count the number of unique neighborhoods (1 pt)"
   ]
  },
  {
   "cell_type": "code",
   "execution_count": 17,
   "metadata": {
    "deletable": false,
    "nbgrader": {
     "cell_type": "code",
     "checksum": "2d669999681fde23d6bca62baea8805e",
     "grade": false,
     "grade_id": "cell-a8413268b66a106a",
     "locked": false,
     "schema_version": 3,
     "solution": true,
     "task": false
    }
   },
   "outputs": [
    {
     "data": {
      "text/plain": [
       "25"
      ]
     },
     "execution_count": 17,
     "metadata": {},
     "output_type": "execute_result"
    }
   ],
   "source": [
    "# complete the below function with solution code. The function should return the number of unique neighborhoods\n",
    "\n",
    "def printCount(boston311):\n",
    "    \n",
    "    '''Count the number of unique neighborhoods'''\n",
    "    \n",
    "    #len(boston311.neighborhood.unique())\n",
    "    return len(boston311.neighborhood.unique())\n",
    "    raise NotImplementedError()\n",
    "\n",
    "\n",
    "printCount(boston311)"
   ]
  },
  {
   "cell_type": "code",
   "execution_count": null,
   "metadata": {
    "deletable": false,
    "editable": false,
    "nbgrader": {
     "cell_type": "code",
     "checksum": "f9ed8a7f6967520820bd08d979c792f2",
     "grade": true,
     "grade_id": "cell-cf5c411cee5930e6",
     "locked": true,
     "points": 1,
     "schema_version": 3,
     "solution": false,
     "task": false
    }
   },
   "outputs": [],
   "source": []
  },
  {
   "cell_type": "markdown",
   "metadata": {},
   "source": [
    "### Task 2: Visualize the number of complaints by neighborhood (1 pt)"
   ]
  },
  {
   "cell_type": "code",
   "execution_count": 18,
   "metadata": {},
   "outputs": [
    {
     "data": {
      "text/plain": [
       "Dorchester                                      25580\n",
       "Roxbury                                         15391\n",
       "South Boston / South Boston Waterfront          12302\n",
       "Allston / Brighton                              11564\n",
       "East Boston                                     10938\n",
       "South End                                       10814\n",
       "Hyde Park                                        9127\n",
       "Jamaica Plain                                    8922\n",
       "Downtown / Financial District                    8140\n",
       "Greater Mattapan                                 7296\n",
       "Back Bay                                         7113\n",
       "West Roxbury                                     5857\n",
       "Roslindale                                       5688\n",
       "Charlestown                                      5402\n",
       "Boston                                           4224\n",
       "Beacon Hill                                      3272\n",
       "Fenway / Kenmore / Audubon Circle / Longwood     2750\n",
       "Mission Hill                                     2555\n",
       "                                                 2132\n",
       "South Boston                                     1210\n",
       "Brighton                                          647\n",
       "Allston                                           340\n",
       "Mattapan                                          313\n",
       "Chestnut Hill                                      10\n",
       "Name: neighborhood, dtype: int64"
      ]
     },
     "execution_count": 18,
     "metadata": {},
     "output_type": "execute_result"
    }
   ],
   "source": [
    "boston311['neighborhood'].value_counts()"
   ]
  },
  {
   "cell_type": "code",
   "execution_count": 19,
   "metadata": {
    "deletable": false,
    "nbgrader": {
     "cell_type": "code",
     "checksum": "0207fd6fa97f79ee5d0d473eff6859db",
     "grade": true,
     "grade_id": "cell-0d507c260cbf5b99",
     "locked": false,
     "points": 1,
     "schema_version": 3,
     "solution": true,
     "task": false
    }
   },
   "outputs": [
    {
     "ename": "NotImplementedError",
     "evalue": "",
     "output_type": "error",
     "traceback": [
      "\u001b[0;31m---------------------------------------------------------------------------\u001b[0m",
      "\u001b[0;31mNotImplementedError\u001b[0m                       Traceback (most recent call last)",
      "\u001b[0;32m<ipython-input-19-31ff649c65e7>\u001b[0m in \u001b[0;36m<module>\u001b[0;34m\u001b[0m\n\u001b[1;32m      1\u001b[0m \u001b[0mboston311\u001b[0m\u001b[0;34m[\u001b[0m\u001b[0;34m[\u001b[0m\u001b[0;34m'neighborhood'\u001b[0m\u001b[0;34m,\u001b[0m\u001b[0;34m'case_enquiry_id'\u001b[0m\u001b[0;34m]\u001b[0m\u001b[0;34m]\u001b[0m\u001b[0;34m.\u001b[0m\u001b[0mgroupby\u001b[0m\u001b[0;34m(\u001b[0m\u001b[0mby\u001b[0m\u001b[0;34m=\u001b[0m\u001b[0;34m[\u001b[0m\u001b[0;34m'neighborhood'\u001b[0m\u001b[0;34m]\u001b[0m\u001b[0;34m)\u001b[0m\u001b[0;34m.\u001b[0m\u001b[0mcount\u001b[0m\u001b[0;34m(\u001b[0m\u001b[0;34m)\u001b[0m\u001b[0;34m.\u001b[0m\u001b[0mplot\u001b[0m\u001b[0;34m.\u001b[0m\u001b[0mbar\u001b[0m\u001b[0;34m(\u001b[0m\u001b[0;34m)\u001b[0m\u001b[0;34m\u001b[0m\u001b[0;34m\u001b[0m\u001b[0m\n\u001b[0;32m----> 2\u001b[0;31m \u001b[0;32mraise\u001b[0m \u001b[0mNotImplementedError\u001b[0m\u001b[0;34m(\u001b[0m\u001b[0;34m)\u001b[0m\u001b[0;34m\u001b[0m\u001b[0;34m\u001b[0m\u001b[0m\n\u001b[0m",
      "\u001b[0;31mNotImplementedError\u001b[0m: "
     ]
    },
    {
     "data": {
      "image/png": "[encoded data removed]",
      "text/plain": [
       "<Figure size 432x288 with 1 Axes>"
      ]
     },
     "metadata": {
      "needs_background": "light"
     },
     "output_type": "display_data"
    }
   ],
   "source": [
    "boston311[['neighborhood','case_enquiry_id']].groupby(by=['neighborhood']).count().plot.bar()\n",
    "raise NotImplementedError()"
   ]
  },
  {
   "cell_type": "markdown",
   "metadata": {},
   "source": [
    "## Example 2. Real-estate data sales (XLS)\n",
    "\n",
    "The data contains information on all the residential real estate sold in NYC, including address of the house/unit, its size, age, time of sale and of course the price"
   ]
  },
  {
   "cell_type": "code",
   "execution_count": 21,
   "metadata": {},
   "outputs": [],
   "source": [
    "url = '2015_brooklyn.xls'"
   ]
  },
  {
   "cell_type": "code",
   "execution_count": 22,
   "metadata": {},
   "outputs": [],
   "source": [
    "re_sales = pd.read_excel(url)"
   ]
  },
  {
   "cell_type": "code",
   "execution_count": 23,
   "metadata": {},
   "outputs": [
    {
     "data": {
      "text/html": [
       "<div>\n",
       "<style scoped>\n",
       "    .dataframe tbody tr th:only-of-type {\n",
       "        vertical-align: middle;\n",
       "    }\n",
       "\n",
       "    .dataframe tbody tr th {\n",
       "        vertical-align: top;\n",
       "    }\n",
       "\n",
       "    .dataframe thead th {\n",
       "        text-align: right;\n",
       "    }\n",
       "</style>\n",
       "<table border=\"1\" class=\"dataframe\">\n",
       "  <thead>\n",
       "    <tr style=\"text-align: right;\">\n",
       "      <th></th>\n",
       "      <th>BROOKLYN ANNUALIZE SALE FOR 2015.  (All Sales From  January 1, 2015 - December 31, 2015)</th>\n",
       "      <th>Unnamed: 1</th>\n",
       "      <th>Unnamed: 2</th>\n",
       "      <th>Unnamed: 3</th>\n",
       "      <th>Unnamed: 4</th>\n",
       "      <th>Unnamed: 5</th>\n",
       "      <th>Unnamed: 6</th>\n",
       "      <th>Unnamed: 7</th>\n",
       "      <th>Unnamed: 8</th>\n",
       "      <th>Unnamed: 9</th>\n",
       "      <th>...</th>\n",
       "      <th>Unnamed: 11</th>\n",
       "      <th>Unnamed: 12</th>\n",
       "      <th>Unnamed: 13</th>\n",
       "      <th>Unnamed: 14</th>\n",
       "      <th>Unnamed: 15</th>\n",
       "      <th>Unnamed: 16</th>\n",
       "      <th>Unnamed: 17</th>\n",
       "      <th>Unnamed: 18</th>\n",
       "      <th>Unnamed: 19</th>\n",
       "      <th>Unnamed: 20</th>\n",
       "    </tr>\n",
       "  </thead>\n",
       "  <tbody>\n",
       "    <tr>\n",
       "      <th>0</th>\n",
       "      <td>Sales File as of 3/31/2016.  Coop Sales Files ...</td>\n",
       "      <td>NaN</td>\n",
       "      <td>NaN</td>\n",
       "      <td>NaN</td>\n",
       "      <td>NaN</td>\n",
       "      <td>NaN</td>\n",
       "      <td>NaN</td>\n",
       "      <td>NaN</td>\n",
       "      <td>NaN</td>\n",
       "      <td>NaN</td>\n",
       "      <td>...</td>\n",
       "      <td>NaN</td>\n",
       "      <td>NaN</td>\n",
       "      <td>NaN</td>\n",
       "      <td>NaN</td>\n",
       "      <td>NaN</td>\n",
       "      <td>NaN</td>\n",
       "      <td>NaN</td>\n",
       "      <td>NaN</td>\n",
       "      <td>NaN</td>\n",
       "      <td>NaN</td>\n",
       "    </tr>\n",
       "    <tr>\n",
       "      <th>1</th>\n",
       "      <td>Neighborhood Name 4/1/16.  Descriptive Data as...</td>\n",
       "      <td>NaN</td>\n",
       "      <td>NaN</td>\n",
       "      <td>NaN</td>\n",
       "      <td>NaN</td>\n",
       "      <td>NaN</td>\n",
       "      <td>NaN</td>\n",
       "      <td>NaN</td>\n",
       "      <td>NaN</td>\n",
       "      <td>NaN</td>\n",
       "      <td>...</td>\n",
       "      <td>NaN</td>\n",
       "      <td>NaN</td>\n",
       "      <td>NaN</td>\n",
       "      <td>NaN</td>\n",
       "      <td>NaN</td>\n",
       "      <td>NaN</td>\n",
       "      <td>NaN</td>\n",
       "      <td>NaN</td>\n",
       "      <td>NaN</td>\n",
       "      <td>NaN</td>\n",
       "    </tr>\n",
       "    <tr>\n",
       "      <th>2</th>\n",
       "      <td>Building Class Category is based on Building C...</td>\n",
       "      <td>NaN</td>\n",
       "      <td>NaN</td>\n",
       "      <td>NaN</td>\n",
       "      <td>NaN</td>\n",
       "      <td>NaN</td>\n",
       "      <td>NaN</td>\n",
       "      <td>NaN</td>\n",
       "      <td>NaN</td>\n",
       "      <td>NaN</td>\n",
       "      <td>...</td>\n",
       "      <td>NaN</td>\n",
       "      <td>NaN</td>\n",
       "      <td>NaN</td>\n",
       "      <td>NaN</td>\n",
       "      <td>NaN</td>\n",
       "      <td>NaN</td>\n",
       "      <td>NaN</td>\n",
       "      <td>NaN</td>\n",
       "      <td>NaN</td>\n",
       "      <td>NaN</td>\n",
       "    </tr>\n",
       "    <tr>\n",
       "      <th>3</th>\n",
       "      <td>BOROUGH\\n</td>\n",
       "      <td>NEIGHBORHOOD\\n</td>\n",
       "      <td>BUILDING CLASS CATEGORY\\n</td>\n",
       "      <td>TAX CLASS AT PRESENT\\n</td>\n",
       "      <td>BLOCK\\n</td>\n",
       "      <td>LOT\\n</td>\n",
       "      <td>EASE-MENT\\n</td>\n",
       "      <td>BUILDING CLASS AT PRESENT\\n</td>\n",
       "      <td>ADDRESS\\n</td>\n",
       "      <td>APARTMENT NUMBER\\n</td>\n",
       "      <td>...</td>\n",
       "      <td>RESIDENTIAL UNITS\\n</td>\n",
       "      <td>COMMERCIAL UNITS\\n</td>\n",
       "      <td>TOTAL UNITS\\n</td>\n",
       "      <td>LAND SQUARE FEET\\n</td>\n",
       "      <td>GROSS SQUARE FEET\\n</td>\n",
       "      <td>YEAR BUILT\\n</td>\n",
       "      <td>TAX CLASS AT TIME OF SALE\\n</td>\n",
       "      <td>BUILDING CLASS AT TIME OF SALE\\n</td>\n",
       "      <td>SALE PRICE\\n</td>\n",
       "      <td>SALE DATE\\n</td>\n",
       "    </tr>\n",
       "    <tr>\n",
       "      <th>4</th>\n",
       "      <td>3</td>\n",
       "      <td>BATH BEACH</td>\n",
       "      <td>01  ONE FAMILY DWELLINGS</td>\n",
       "      <td>1</td>\n",
       "      <td>6360</td>\n",
       "      <td>22</td>\n",
       "      <td></td>\n",
       "      <td>A5</td>\n",
       "      <td>8647 15TH AVENUE</td>\n",
       "      <td></td>\n",
       "      <td>...</td>\n",
       "      <td>1</td>\n",
       "      <td>0</td>\n",
       "      <td>1</td>\n",
       "      <td>1547</td>\n",
       "      <td>1428</td>\n",
       "      <td>1930</td>\n",
       "      <td>1</td>\n",
       "      <td>A5</td>\n",
       "      <td>758000</td>\n",
       "      <td>2015-03-31 00:00:00</td>\n",
       "    </tr>\n",
       "  </tbody>\n",
       "</table>\n",
       "<p>5 rows × 21 columns</p>\n",
       "</div>"
      ],
      "text/plain": [
       "  BROOKLYN ANNUALIZE SALE FOR 2015.  (All Sales From  January 1, 2015 - December 31, 2015)  \\\n",
       "0  Sales File as of 3/31/2016.  Coop Sales Files ...                                         \n",
       "1  Neighborhood Name 4/1/16.  Descriptive Data as...                                         \n",
       "2  Building Class Category is based on Building C...                                         \n",
       "3                                          BOROUGH\\n                                         \n",
       "4                                                  3                                         \n",
       "\n",
       "                  Unnamed: 1                                    Unnamed: 2  \\\n",
       "0                        NaN                                           NaN   \n",
       "1                        NaN                                           NaN   \n",
       "2                        NaN                                           NaN   \n",
       "3             NEIGHBORHOOD\\n                     BUILDING CLASS CATEGORY\\n   \n",
       "4  BATH BEACH                 01  ONE FAMILY DWELLINGS                       \n",
       "\n",
       "               Unnamed: 3 Unnamed: 4 Unnamed: 5   Unnamed: 6  \\\n",
       "0                     NaN        NaN        NaN          NaN   \n",
       "1                     NaN        NaN        NaN          NaN   \n",
       "2                     NaN        NaN        NaN          NaN   \n",
       "3  TAX CLASS AT PRESENT\\n    BLOCK\\n      LOT\\n  EASE-MENT\\n   \n",
       "4                       1       6360         22                \n",
       "\n",
       "                    Unnamed: 7                                 Unnamed: 8  \\\n",
       "0                          NaN                                        NaN   \n",
       "1                          NaN                                        NaN   \n",
       "2                          NaN                                        NaN   \n",
       "3  BUILDING CLASS AT PRESENT\\n                                  ADDRESS\\n   \n",
       "4                           A5  8647 15TH AVENUE                            \n",
       "\n",
       "           Unnamed: 9  ...          Unnamed: 11         Unnamed: 12  \\\n",
       "0                 NaN  ...                  NaN                 NaN   \n",
       "1                 NaN  ...                  NaN                 NaN   \n",
       "2                 NaN  ...                  NaN                 NaN   \n",
       "3  APARTMENT NUMBER\\n  ...  RESIDENTIAL UNITS\\n  COMMERCIAL UNITS\\n   \n",
       "4                      ...                    1                   0   \n",
       "\n",
       "     Unnamed: 13         Unnamed: 14          Unnamed: 15   Unnamed: 16  \\\n",
       "0            NaN                 NaN                  NaN           NaN   \n",
       "1            NaN                 NaN                  NaN           NaN   \n",
       "2            NaN                 NaN                  NaN           NaN   \n",
       "3  TOTAL UNITS\\n  LAND SQUARE FEET\\n  GROSS SQUARE FEET\\n  YEAR BUILT\\n   \n",
       "4              1                1547                 1428          1930   \n",
       "\n",
       "                   Unnamed: 17                       Unnamed: 18  \\\n",
       "0                          NaN                               NaN   \n",
       "1                          NaN                               NaN   \n",
       "2                          NaN                               NaN   \n",
       "3  TAX CLASS AT TIME OF SALE\\n  BUILDING CLASS AT TIME OF SALE\\n   \n",
       "4                            1                                A5   \n",
       "\n",
       "    Unnamed: 19          Unnamed: 20  \n",
       "0           NaN                  NaN  \n",
       "1           NaN                  NaN  \n",
       "2           NaN                  NaN  \n",
       "3  SALE PRICE\\n          SALE DATE\\n  \n",
       "4        758000  2015-03-31 00:00:00  \n",
       "\n",
       "[5 rows x 21 columns]"
      ]
     },
     "execution_count": 23,
     "metadata": {},
     "output_type": "execute_result"
    }
   ],
   "source": [
    "re_sales.head()"
   ]
  },
  {
   "cell_type": "markdown",
   "metadata": {},
   "source": [
    "We'll need to skip first 4 lines to make it pandas-frienly \n",
    "\n",
    "And also consider alternative data ingestion approach: download to the local folder first and then upload from local drive"
   ]
  },
  {
   "cell_type": "code",
   "execution_count": 27,
   "metadata": {},
   "outputs": [
    {
     "ename": "ValueError",
     "evalue": "unknown url type: '2015_brooklyn.xls'",
     "output_type": "error",
     "traceback": [
      "\u001b[0;31m---------------------------------------------------------------------------\u001b[0m",
      "\u001b[0;31mValueError\u001b[0m                                Traceback (most recent call last)",
      "\u001b[0;32m<ipython-input-27-25c0ab456192>\u001b[0m in \u001b[0;36m<module>\u001b[0;34m\u001b[0m\n\u001b[1;32m      1\u001b[0m \u001b[0;32mimport\u001b[0m \u001b[0murllib\u001b[0m \u001b[0;31m#use urllib mobule for web requests\u001b[0m\u001b[0;34m\u001b[0m\u001b[0;34m\u001b[0m\u001b[0m\n\u001b[1;32m      2\u001b[0m \u001b[0mdataDir\u001b[0m\u001b[0;34m=\u001b[0m\u001b[0;34m''\u001b[0m \u001b[0;31m#local data folder to use\u001b[0m\u001b[0;34m\u001b[0m\u001b[0;34m\u001b[0m\u001b[0m\n\u001b[0;32m----> 3\u001b[0;31m \u001b[0murllib\u001b[0m\u001b[0;34m.\u001b[0m\u001b[0mrequest\u001b[0m\u001b[0;34m.\u001b[0m\u001b[0murlretrieve\u001b[0m\u001b[0;34m(\u001b[0m\u001b[0murl\u001b[0m\u001b[0;34m,\u001b[0m\u001b[0mdataDir\u001b[0m\u001b[0;34m+\u001b[0m\u001b[0mfname\u001b[0m\u001b[0;34m)\u001b[0m\u001b[0;34m\u001b[0m\u001b[0;34m\u001b[0m\u001b[0m\n\u001b[0m",
      "\u001b[0;32m/opt/conda/lib/python3.8/urllib/request.py\u001b[0m in \u001b[0;36murlretrieve\u001b[0;34m(url, filename, reporthook, data)\u001b[0m\n\u001b[1;32m    245\u001b[0m     \u001b[0murl_type\u001b[0m\u001b[0;34m,\u001b[0m \u001b[0mpath\u001b[0m \u001b[0;34m=\u001b[0m \u001b[0m_splittype\u001b[0m\u001b[0;34m(\u001b[0m\u001b[0murl\u001b[0m\u001b[0;34m)\u001b[0m\u001b[0;34m\u001b[0m\u001b[0;34m\u001b[0m\u001b[0m\n\u001b[1;32m    246\u001b[0m \u001b[0;34m\u001b[0m\u001b[0m\n\u001b[0;32m--> 247\u001b[0;31m     \u001b[0;32mwith\u001b[0m \u001b[0mcontextlib\u001b[0m\u001b[0;34m.\u001b[0m\u001b[0mclosing\u001b[0m\u001b[0;34m(\u001b[0m\u001b[0murlopen\u001b[0m\u001b[0;34m(\u001b[0m\u001b[0murl\u001b[0m\u001b[0;34m,\u001b[0m \u001b[0mdata\u001b[0m\u001b[0;34m)\u001b[0m\u001b[0;34m)\u001b[0m \u001b[0;32mas\u001b[0m \u001b[0mfp\u001b[0m\u001b[0;34m:\u001b[0m\u001b[0;34m\u001b[0m\u001b[0;34m\u001b[0m\u001b[0m\n\u001b[0m\u001b[1;32m    248\u001b[0m         \u001b[0mheaders\u001b[0m \u001b[0;34m=\u001b[0m \u001b[0mfp\u001b[0m\u001b[0;34m.\u001b[0m\u001b[0minfo\u001b[0m\u001b[0;34m(\u001b[0m\u001b[0;34m)\u001b[0m\u001b[0;34m\u001b[0m\u001b[0;34m\u001b[0m\u001b[0m\n\u001b[1;32m    249\u001b[0m \u001b[0;34m\u001b[0m\u001b[0m\n",
      "\u001b[0;32m/opt/conda/lib/python3.8/urllib/request.py\u001b[0m in \u001b[0;36murlopen\u001b[0;34m(url, data, timeout, cafile, capath, cadefault, context)\u001b[0m\n\u001b[1;32m    220\u001b[0m     \u001b[0;32melse\u001b[0m\u001b[0;34m:\u001b[0m\u001b[0;34m\u001b[0m\u001b[0;34m\u001b[0m\u001b[0m\n\u001b[1;32m    221\u001b[0m         \u001b[0mopener\u001b[0m \u001b[0;34m=\u001b[0m \u001b[0m_opener\u001b[0m\u001b[0;34m\u001b[0m\u001b[0;34m\u001b[0m\u001b[0m\n\u001b[0;32m--> 222\u001b[0;31m     \u001b[0;32mreturn\u001b[0m \u001b[0mopener\u001b[0m\u001b[0;34m.\u001b[0m\u001b[0mopen\u001b[0m\u001b[0;34m(\u001b[0m\u001b[0murl\u001b[0m\u001b[0;34m,\u001b[0m \u001b[0mdata\u001b[0m\u001b[0;34m,\u001b[0m \u001b[0mtimeout\u001b[0m\u001b[0;34m)\u001b[0m\u001b[0;34m\u001b[0m\u001b[0;34m\u001b[0m\u001b[0m\n\u001b[0m\u001b[1;32m    223\u001b[0m \u001b[0;34m\u001b[0m\u001b[0m\n\u001b[1;32m    224\u001b[0m \u001b[0;32mdef\u001b[0m \u001b[0minstall_opener\u001b[0m\u001b[0;34m(\u001b[0m\u001b[0mopener\u001b[0m\u001b[0;34m)\u001b[0m\u001b[0;34m:\u001b[0m\u001b[0;34m\u001b[0m\u001b[0;34m\u001b[0m\u001b[0m\n",
      "\u001b[0;32m/opt/conda/lib/python3.8/urllib/request.py\u001b[0m in \u001b[0;36mopen\u001b[0;34m(self, fullurl, data, timeout)\u001b[0m\n\u001b[1;32m    507\u001b[0m         \u001b[0;31m# accept a URL or a Request object\u001b[0m\u001b[0;34m\u001b[0m\u001b[0;34m\u001b[0m\u001b[0;34m\u001b[0m\u001b[0m\n\u001b[1;32m    508\u001b[0m         \u001b[0;32mif\u001b[0m \u001b[0misinstance\u001b[0m\u001b[0;34m(\u001b[0m\u001b[0mfullurl\u001b[0m\u001b[0;34m,\u001b[0m \u001b[0mstr\u001b[0m\u001b[0;34m)\u001b[0m\u001b[0;34m:\u001b[0m\u001b[0;34m\u001b[0m\u001b[0;34m\u001b[0m\u001b[0m\n\u001b[0;32m--> 509\u001b[0;31m             \u001b[0mreq\u001b[0m \u001b[0;34m=\u001b[0m \u001b[0mRequest\u001b[0m\u001b[0;34m(\u001b[0m\u001b[0mfullurl\u001b[0m\u001b[0;34m,\u001b[0m \u001b[0mdata\u001b[0m\u001b[0;34m)\u001b[0m\u001b[0;34m\u001b[0m\u001b[0;34m\u001b[0m\u001b[0m\n\u001b[0m\u001b[1;32m    510\u001b[0m         \u001b[0;32melse\u001b[0m\u001b[0;34m:\u001b[0m\u001b[0;34m\u001b[0m\u001b[0;34m\u001b[0m\u001b[0m\n\u001b[1;32m    511\u001b[0m             \u001b[0mreq\u001b[0m \u001b[0;34m=\u001b[0m \u001b[0mfullurl\u001b[0m\u001b[0;34m\u001b[0m\u001b[0;34m\u001b[0m\u001b[0m\n",
      "\u001b[0;32m/opt/conda/lib/python3.8/urllib/request.py\u001b[0m in \u001b[0;36m__init__\u001b[0;34m(self, url, data, headers, origin_req_host, unverifiable, method)\u001b[0m\n\u001b[1;32m    326\u001b[0m                  \u001b[0morigin_req_host\u001b[0m\u001b[0;34m=\u001b[0m\u001b[0;32mNone\u001b[0m\u001b[0;34m,\u001b[0m \u001b[0munverifiable\u001b[0m\u001b[0;34m=\u001b[0m\u001b[0;32mFalse\u001b[0m\u001b[0;34m,\u001b[0m\u001b[0;34m\u001b[0m\u001b[0;34m\u001b[0m\u001b[0m\n\u001b[1;32m    327\u001b[0m                  method=None):\n\u001b[0;32m--> 328\u001b[0;31m         \u001b[0mself\u001b[0m\u001b[0;34m.\u001b[0m\u001b[0mfull_url\u001b[0m \u001b[0;34m=\u001b[0m \u001b[0murl\u001b[0m\u001b[0;34m\u001b[0m\u001b[0;34m\u001b[0m\u001b[0m\n\u001b[0m\u001b[1;32m    329\u001b[0m         \u001b[0mself\u001b[0m\u001b[0;34m.\u001b[0m\u001b[0mheaders\u001b[0m \u001b[0;34m=\u001b[0m \u001b[0;34m{\u001b[0m\u001b[0;34m}\u001b[0m\u001b[0;34m\u001b[0m\u001b[0;34m\u001b[0m\u001b[0m\n\u001b[1;32m    330\u001b[0m         \u001b[0mself\u001b[0m\u001b[0;34m.\u001b[0m\u001b[0munredirected_hdrs\u001b[0m \u001b[0;34m=\u001b[0m \u001b[0;34m{\u001b[0m\u001b[0;34m}\u001b[0m\u001b[0;34m\u001b[0m\u001b[0;34m\u001b[0m\u001b[0m\n",
      "\u001b[0;32m/opt/conda/lib/python3.8/urllib/request.py\u001b[0m in \u001b[0;36mfull_url\u001b[0;34m(self, url)\u001b[0m\n\u001b[1;32m    352\u001b[0m         \u001b[0mself\u001b[0m\u001b[0;34m.\u001b[0m\u001b[0m_full_url\u001b[0m \u001b[0;34m=\u001b[0m \u001b[0munwrap\u001b[0m\u001b[0;34m(\u001b[0m\u001b[0murl\u001b[0m\u001b[0;34m)\u001b[0m\u001b[0;34m\u001b[0m\u001b[0;34m\u001b[0m\u001b[0m\n\u001b[1;32m    353\u001b[0m         \u001b[0mself\u001b[0m\u001b[0;34m.\u001b[0m\u001b[0m_full_url\u001b[0m\u001b[0;34m,\u001b[0m \u001b[0mself\u001b[0m\u001b[0;34m.\u001b[0m\u001b[0mfragment\u001b[0m \u001b[0;34m=\u001b[0m \u001b[0m_splittag\u001b[0m\u001b[0;34m(\u001b[0m\u001b[0mself\u001b[0m\u001b[0;34m.\u001b[0m\u001b[0m_full_url\u001b[0m\u001b[0;34m)\u001b[0m\u001b[0;34m\u001b[0m\u001b[0;34m\u001b[0m\u001b[0m\n\u001b[0;32m--> 354\u001b[0;31m         \u001b[0mself\u001b[0m\u001b[0;34m.\u001b[0m\u001b[0m_parse\u001b[0m\u001b[0;34m(\u001b[0m\u001b[0;34m)\u001b[0m\u001b[0;34m\u001b[0m\u001b[0;34m\u001b[0m\u001b[0m\n\u001b[0m\u001b[1;32m    355\u001b[0m \u001b[0;34m\u001b[0m\u001b[0m\n\u001b[1;32m    356\u001b[0m     \u001b[0;34m@\u001b[0m\u001b[0mfull_url\u001b[0m\u001b[0;34m.\u001b[0m\u001b[0mdeleter\u001b[0m\u001b[0;34m\u001b[0m\u001b[0;34m\u001b[0m\u001b[0m\n",
      "\u001b[0;32m/opt/conda/lib/python3.8/urllib/request.py\u001b[0m in \u001b[0;36m_parse\u001b[0;34m(self)\u001b[0m\n\u001b[1;32m    381\u001b[0m         \u001b[0mself\u001b[0m\u001b[0;34m.\u001b[0m\u001b[0mtype\u001b[0m\u001b[0;34m,\u001b[0m \u001b[0mrest\u001b[0m \u001b[0;34m=\u001b[0m \u001b[0m_splittype\u001b[0m\u001b[0;34m(\u001b[0m\u001b[0mself\u001b[0m\u001b[0;34m.\u001b[0m\u001b[0m_full_url\u001b[0m\u001b[0;34m)\u001b[0m\u001b[0;34m\u001b[0m\u001b[0;34m\u001b[0m\u001b[0m\n\u001b[1;32m    382\u001b[0m         \u001b[0;32mif\u001b[0m \u001b[0mself\u001b[0m\u001b[0;34m.\u001b[0m\u001b[0mtype\u001b[0m \u001b[0;32mis\u001b[0m \u001b[0;32mNone\u001b[0m\u001b[0;34m:\u001b[0m\u001b[0;34m\u001b[0m\u001b[0;34m\u001b[0m\u001b[0m\n\u001b[0;32m--> 383\u001b[0;31m             \u001b[0;32mraise\u001b[0m \u001b[0mValueError\u001b[0m\u001b[0;34m(\u001b[0m\u001b[0;34m\"unknown url type: %r\"\u001b[0m \u001b[0;34m%\u001b[0m \u001b[0mself\u001b[0m\u001b[0;34m.\u001b[0m\u001b[0mfull_url\u001b[0m\u001b[0;34m)\u001b[0m\u001b[0;34m\u001b[0m\u001b[0;34m\u001b[0m\u001b[0m\n\u001b[0m\u001b[1;32m    384\u001b[0m         \u001b[0mself\u001b[0m\u001b[0;34m.\u001b[0m\u001b[0mhost\u001b[0m\u001b[0;34m,\u001b[0m \u001b[0mself\u001b[0m\u001b[0;34m.\u001b[0m\u001b[0mselector\u001b[0m \u001b[0;34m=\u001b[0m \u001b[0m_splithost\u001b[0m\u001b[0;34m(\u001b[0m\u001b[0mrest\u001b[0m\u001b[0;34m)\u001b[0m\u001b[0;34m\u001b[0m\u001b[0;34m\u001b[0m\u001b[0m\n\u001b[1;32m    385\u001b[0m         \u001b[0;32mif\u001b[0m \u001b[0mself\u001b[0m\u001b[0;34m.\u001b[0m\u001b[0mhost\u001b[0m\u001b[0;34m:\u001b[0m\u001b[0;34m\u001b[0m\u001b[0;34m\u001b[0m\u001b[0m\n",
      "\u001b[0;31mValueError\u001b[0m: unknown url type: '2015_brooklyn.xls'"
     ]
    }
   ],
   "source": [
    "import urllib #use urllib mobule for web requests\n",
    "dataDir='' #local data folder to use\n",
    "urllib.request.urlretrieve(url,dataDir+fname)"
   ]
  },
  {
   "cell_type": "code",
   "execution_count": null,
   "metadata": {},
   "outputs": [],
   "source": [
    "re_sales.head() #now the dataframe looks reasonable"
   ]
  },
  {
   "cell_type": "code",
   "execution_count": null,
   "metadata": {},
   "outputs": [],
   "source": [
    "re_sales.columns #list of the columns to assess the metadata"
   ]
  },
  {
   "cell_type": "code",
   "execution_count": null,
   "metadata": {},
   "outputs": [],
   "source": [
    "#notice that field names contain an artifact from the original data represenation - end of line symbol '\\n'\n",
    "#this way we won't be able to access the fields as before using \".\" syntax, but we can still use \"[]\" syntax like"
   ]
  },
  {
   "cell_type": "code",
   "execution_count": null,
   "metadata": {},
   "outputs": [],
   "source": [
    "re_sales['SALE PRICE\\n'].sum() #this will be the total sales volume"
   ]
  },
  {
   "cell_type": "code",
   "execution_count": null,
   "metadata": {},
   "outputs": [],
   "source": [
    "re_sales.describe() #statistics for numeric columns"
   ]
  },
  {
   "cell_type": "markdown",
   "metadata": {},
   "source": [
    "It also helps us spot some issues with the data - zero min's for zip code, size, year (also average age of 1774 does not look right and is likely affected by that), sale price show that some records are unreliable"
   ]
  },
  {
   "cell_type": "markdown",
   "metadata": {},
   "source": [
    "Also lets introduce some descriptive analysis, e.g. total price and average price per unit"
   ]
  },
  {
   "cell_type": "code",
   "execution_count": null,
   "metadata": {},
   "outputs": [],
   "source": [
    "re_sales['SALE PRICE\\n'].mean() #average price per unit"
   ]
  },
  {
   "cell_type": "code",
   "execution_count": null,
   "metadata": {},
   "outputs": [],
   "source": [
    "#or visualizing an average sale price per zip code \n",
    "#ideally this would make more sense as a spatial visualization on the map. but let us get to that later\n",
    "#we'll use groupby here. Note that groupby will apply mean to all the fields other than the ones used for grouping (by)\n",
    "#so we first filter the datarame to keep only two columns - 'ZIP CODE\\n','SALE PRICE\\n' - first for grouping, second for taking averages\n",
    "re_sales[['ZIP CODE\\n','SALE PRICE\\n']].groupby(by=['ZIP CODE\\n']).mean()"
   ]
  },
  {
   "cell_type": "code",
   "execution_count": null,
   "metadata": {},
   "outputs": [],
   "source": [
    "re_sales[['ZIP CODE\\n','SALE PRICE\\n']].groupby(by=['ZIP CODE\\n']).mean().plot.bar()"
   ]
  },
  {
   "cell_type": "markdown",
   "metadata": {},
   "source": [
    "But price per unit is not always the best characteristics of the market as units might be quite different, ranging from small studios to large houses. Besides particularly expensive ones may affect the averages. Median price is often used along with the price per square foot. In the next excercise, we'll try to compute an average price per square foot. For now let's skip the technical issue like missing/zero data and just plow ahead. In the next lab we'll talk about how those should addressed."
   ]
  },
  {
   "cell_type": "markdown",
   "metadata": {},
   "source": [
    "### Task 3.  (1 pt)\n",
    "Quantify the average price per square foot per zip code. Visualize result as a bar plot. Which zip codes are the three most expensive ones?"
   ]
  },
  {
   "cell_type": "markdown",
   "metadata": {},
   "source": [
    "Hints: First, use \"group_by\" to create an aggregate with cumulative price and sq foot size and then add a new field through assignment dividing one by the other. \n",
    "\n",
    "You can use sort_values to order dataframe by price per zip code and see the top three zip codes.\n",
    "\n",
    "Not mandatory, but if you want python to give you a specific list of the top three zip codes, you can use .iloc to slice it and get the index converting it to a list. But then make sure to ignore zip codes with infinite prices (likely due to zero house sizes)."
   ]
  },
  {
   "cell_type": "code",
   "execution_count": null,
   "metadata": {
    "deletable": false,
    "nbgrader": {
     "cell_type": "code",
     "checksum": "9337ee16e905b630e7439c83ec90dbfd",
     "grade": true,
     "grade_id": "cell-2240eb2d9b98684c",
     "locked": false,
     "points": 1,
     "schema_version": 3,
     "solution": true,
     "task": false
    }
   },
   "outputs": [],
   "source": [
    "# YOUR CODE HERE\n",
    "raise NotImplementedError()"
   ]
  },
  {
   "cell_type": "markdown",
   "metadata": {},
   "source": [
    "## Example 3. Street Pavement Rating\n",
    "\n",
    "The New York City Department of Transportation is responsible for keeping the City's streets in good repair. The Agency performs ongoing assessment of New York City streets. Ratings are based on a scale from 1 to 10, and results are grouped in the following categories: Good (%) - ratings of 8 to 10, Fair (%) - ratings of 4 to 7, and Poor (%) - ratings of 1 to 3. Rating dates started from 1994 to 2019. This data will allow you to create a map."
   ]
  },
  {
   "cell_type": "markdown",
   "metadata": {},
   "source": [
    "GeoJSON is a JSON based format designed to represent the geographical features with their non-spatial attributes. Besides GeoJSON, shapefile is also a common format for geographical datasets. For more information, please check https://geojson.org/."
   ]
  },
  {
   "cell_type": "markdown",
   "metadata": {},
   "source": [
    "As JSON contains spatial information (in this case shapes of the streets) along with the data, we'll need a slightly different vehicle to load it. There is a module geopandas which we'll use below. In short its just like pandas, but having a special column \"geometry\" which is meant to contain spatial info"
   ]
  },
  {
   "cell_type": "code",
   "execution_count": null,
   "metadata": {},
   "outputs": [],
   "source": [
    "import geopandas as gpd\n",
    "url = 'Street_Pavement_Rating.geojson'\n",
    "\n",
    "rating = gpd.read_file(url)"
   ]
  },
  {
   "cell_type": "code",
   "execution_count": null,
   "metadata": {},
   "outputs": [],
   "source": [
    "rating.shape #shape of the dataframe - first is the number of records (streets)"
   ]
  },
  {
   "cell_type": "code",
   "execution_count": null,
   "metadata": {},
   "outputs": [],
   "source": [
    "rating.head() #lets preview the data"
   ]
  },
  {
   "cell_type": "code",
   "execution_count": null,
   "metadata": {},
   "outputs": [],
   "source": [
    "rating.iloc[:,:-1].describe() #note that we can't apply describe to a geometry column so need to exclude it first"
   ]
  },
  {
   "cell_type": "code",
   "execution_count": null,
   "metadata": {},
   "outputs": [],
   "source": [
    "#Notice that this time describe look differently. This is because the values in the dataframe are not treated as numbers but categorical values"
   ]
  },
  {
   "cell_type": "code",
   "execution_count": null,
   "metadata": {},
   "outputs": [],
   "source": [
    "#if we want them as numbers we need to perform type convertion\n",
    "rating['length'] = rating['length'].astype(int)\n",
    "rating['length'].describe()"
   ]
  },
  {
   "cell_type": "code",
   "execution_count": null,
   "metadata": {},
   "outputs": [],
   "source": [
    "#now let's count how many streets are in either condition based on 'rating_word'\n",
    "rating['rating_word'].value_counts()"
   ]
  },
  {
   "cell_type": "code",
   "execution_count": null,
   "metadata": {},
   "outputs": [],
   "source": [
    "#now let's count the cumulative length of those in either condition based on 'rating_word'\n",
    "rating[['rating_word','length']].groupby(by=['rating_word']).sum()"
   ]
  },
  {
   "cell_type": "code",
   "execution_count": null,
   "metadata": {},
   "outputs": [],
   "source": [
    "#and visualize overall conditions of the roads using piechart\n",
    "rating[['rating_word','length']].groupby(by=['rating_word']).sum().plot.pie(y='length')"
   ]
  },
  {
   "cell_type": "markdown",
   "metadata": {},
   "source": [
    "And let's use the true power of geopandas - visualize the streetmap"
   ]
  },
  {
   "cell_type": "code",
   "execution_count": null,
   "metadata": {},
   "outputs": [],
   "source": [
    "rating.plot(column=None, figsize=(10,10)) #first just the shapes of the streetmap without any information"
   ]
  },
  {
   "cell_type": "code",
   "execution_count": null,
   "metadata": {},
   "outputs": [],
   "source": [
    "#and now visualize the streets according to their status \n",
    "rating.plot(column='rating_word',cmap='Spectral',figsize=(10,10),legend=True)"
   ]
  },
  {
   "cell_type": "markdown",
   "metadata": {},
   "source": [
    "### Task 4. (1 pt)\n",
    "Visualize only the poorly maintained roads so we can zoom into those that need particular attention.\n",
    "\n",
    "HINT: Filter the dataframe first using slicing by an appropriate condition on rating.rating_word"
   ]
  },
  {
   "cell_type": "code",
   "execution_count": null,
   "metadata": {
    "deletable": false,
    "nbgrader": {
     "cell_type": "code",
     "checksum": "dc324f612ae78d97bd7f20bfca5e588a",
     "grade": true,
     "grade_id": "cell-3295992ea2e4b512",
     "locked": false,
     "points": 1,
     "schema_version": 3,
     "solution": true,
     "task": false
    }
   },
   "outputs": [],
   "source": [
    "# YOUR CODE HERE\n",
    "raise NotImplementedError()"
   ]
  },
  {
   "cell_type": "markdown",
   "metadata": {},
   "source": [
    "### Task 5. COVID-19 Data by ZIP Code (3 pts)\n",
    "\n",
    "This dataset includes confirmed case rates, case counts, death rates, death counts, and the percent of people tested with a positive result since March. Follwing download links refer to the dataset uploaded on Sep 1st. Dataset is provided by NYC health, please check https://www1.nyc.gov/site/doh/covid/covid-19-data.page for more information and other COVID19 related datasets.\n",
    "\n",
    "Task: \n",
    "    \n",
    "    a) Aggregate dataset by Borough, calculate total cases amount in each Borough, and then visualize as a barplot\n",
    "    \n",
    "    b) Calculate borough-wise positive case percentage among all the tests administered and \n",
    "    \n",
    "    c) among the borough population (%% of populating tested positive), and then visualize as barplots. \n",
    "    \n",
    "    Notice that both quantities b) and c) matter as otherwise the percentage of people tested positive might depend on the testing availability and practice which are not necessary consistent among boroughs.\n",
    "\n",
    "\n",
    "Hint: The column for case amount is “COVID_CASE_COUNT\". Try groupby function in pandas to get total cases and tests by borough. Positive case percentage is ‘100*COVID_CASE_COUNT'/'TOTAL_COVID_TESTS'. To calculate positive case percentage, you might first need a borough level dataframe."
   ]
  },
  {
   "cell_type": "code",
   "execution_count": null,
   "metadata": {},
   "outputs": [],
   "source": [
    "url = 'https://raw.githubusercontent.com/nychealth/coronavirus-data/7953c97d1e58bbed9934ea04affb12ca74d9c0fb/data-by-modzcta.csv'\n",
    "\n",
    "df = pd.read_csv(url)"
   ]
  },
  {
   "cell_type": "code",
   "execution_count": null,
   "metadata": {
    "deletable": false,
    "nbgrader": {
     "cell_type": "code",
     "checksum": "97ec808310a985076583aaaf656211e6",
     "grade": true,
     "grade_id": "cell-d257402b07b4862b",
     "locked": false,
     "points": 3,
     "schema_version": 3,
     "solution": true,
     "task": false
    }
   },
   "outputs": [],
   "source": [
    "# YOUR CODE HERE\n",
    "raise NotImplementedError()"
   ]
  },
  {
   "cell_type": "code",
   "execution_count": null,
   "metadata": {},
   "outputs": [],
   "source": []
  }
 ],
 "metadata": {
  "kernelspec": {
   "display_name": "Python [conda env:root] *",
   "language": "python",
   "name": "conda-root-py"
  },
  "language_info": {
   "codemirror_mode": {
    "name": "ipython",
    "version": 3
   },
   "file_extension": ".py",
   "mimetype": "text/x-python",
   "name": "python",
   "nbconvert_exporter": "python",
   "pygments_lexer": "ipython3",
   "version": "3.8.8"
  }
 },
 "nbformat": 4,
 "nbformat_minor": 2
}
