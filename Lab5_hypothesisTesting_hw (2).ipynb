{
 "cells": [
  {
   "cell_type": "markdown",
   "metadata": {},
   "source": [
    "# LAB 5. Hypothesis testing. Green taxi case.\n",
    "\n",
    "## Homework due:  Oct 18, 12 noon"
   ]
  },
  {
   "cell_type": "markdown",
   "metadata": {},
   "source": [
    "Test varios hypothesis about ridership volume and trip characteristics for green taxi trips in 2019-2020. \n",
    "\n",
    "Does the ridership decline over time? Does it depend on the day of the week and time of the day? Does the distribution of the trip parameters (distance, time, speed) depend on the day of the week and borough?"
   ]
  },
  {
   "cell_type": "code",
   "execution_count": 2,
   "metadata": {},
   "outputs": [],
   "source": [
    "#import the modules\n",
    "import pandas as pd\n",
    "import geopandas as gpd\n",
    "import urllib.request\n",
    "import os\n",
    "import numpy as np\n",
    "from scipy import stats\n",
    "import matplotlib.pyplot as plt\n",
    "import warnings\n",
    "warnings.filterwarnings('ignore')"
   ]
  },
  {
   "cell_type": "code",
   "execution_count": 3,
   "metadata": {},
   "outputs": [
    {
     "data": {
      "text/html": [
       "<div>\n",
       "<style scoped>\n",
       "    .dataframe tbody tr th:only-of-type {\n",
       "        vertical-align: middle;\n",
       "    }\n",
       "\n",
       "    .dataframe tbody tr th {\n",
       "        vertical-align: top;\n",
       "    }\n",
       "\n",
       "    .dataframe thead th {\n",
       "        text-align: right;\n",
       "    }\n",
       "</style>\n",
       "<table border=\"1\" class=\"dataframe\">\n",
       "  <thead>\n",
       "    <tr style=\"text-align: right;\">\n",
       "      <th></th>\n",
       "      <th>lpep_pickup_datetime</th>\n",
       "      <th>lpep_dropoff_datetime</th>\n",
       "      <th>PULocationID</th>\n",
       "      <th>DOLocationID</th>\n",
       "      <th>trip_distance</th>\n",
       "      <th>fare_amount</th>\n",
       "      <th>total_amount</th>\n",
       "    </tr>\n",
       "  </thead>\n",
       "  <tbody>\n",
       "    <tr>\n",
       "      <th>0</th>\n",
       "      <td>2019-08-01 00:22:12</td>\n",
       "      <td>2019-08-01 00:22:38</td>\n",
       "      <td>145</td>\n",
       "      <td>145.0</td>\n",
       "      <td>0.00</td>\n",
       "      <td>2.5</td>\n",
       "      <td>3.30</td>\n",
       "    </tr>\n",
       "    <tr>\n",
       "      <th>1</th>\n",
       "      <td>2019-08-01 00:11:35</td>\n",
       "      <td>2019-08-01 00:25:53</td>\n",
       "      <td>66</td>\n",
       "      <td>49.0</td>\n",
       "      <td>2.55</td>\n",
       "      <td>11.5</td>\n",
       "      <td>15.36</td>\n",
       "    </tr>\n",
       "    <tr>\n",
       "      <th>2</th>\n",
       "      <td>2019-08-01 00:56:09</td>\n",
       "      <td>2019-08-01 01:12:02</td>\n",
       "      <td>65</td>\n",
       "      <td>68.0</td>\n",
       "      <td>4.33</td>\n",
       "      <td>15.5</td>\n",
       "      <td>21.55</td>\n",
       "    </tr>\n",
       "    <tr>\n",
       "      <th>3</th>\n",
       "      <td>2019-07-31 23:59:42</td>\n",
       "      <td>2019-08-01 00:11:44</td>\n",
       "      <td>25</td>\n",
       "      <td>133.0</td>\n",
       "      <td>3.85</td>\n",
       "      <td>13.0</td>\n",
       "      <td>16.30</td>\n",
       "    </tr>\n",
       "    <tr>\n",
       "      <th>4</th>\n",
       "      <td>2019-08-01 00:20:34</td>\n",
       "      <td>2019-08-01 00:28:44</td>\n",
       "      <td>75</td>\n",
       "      <td>263.0</td>\n",
       "      <td>1.30</td>\n",
       "      <td>7.5</td>\n",
       "      <td>12.55</td>\n",
       "    </tr>\n",
       "  </tbody>\n",
       "</table>\n",
       "</div>"
      ],
      "text/plain": [
       "  lpep_pickup_datetime lpep_dropoff_datetime  PULocationID  DOLocationID  \\\n",
       "0  2019-08-01 00:22:12   2019-08-01 00:22:38           145         145.0   \n",
       "1  2019-08-01 00:11:35   2019-08-01 00:25:53            66          49.0   \n",
       "2  2019-08-01 00:56:09   2019-08-01 01:12:02            65          68.0   \n",
       "3  2019-07-31 23:59:42   2019-08-01 00:11:44            25         133.0   \n",
       "4  2019-08-01 00:20:34   2019-08-01 00:28:44            75         263.0   \n",
       "\n",
       "   trip_distance  fare_amount  total_amount  \n",
       "0           0.00          2.5          3.30  \n",
       "1           2.55         11.5         15.36  \n",
       "2           4.33         15.5         21.55  \n",
       "3           3.85         13.0         16.30  \n",
       "4           1.30          7.5         12.55  "
      ]
     },
     "execution_count": 3,
     "metadata": {},
     "output_type": "execute_result"
    }
   ],
   "source": [
    "dfTaxi = pd.read_csv('/home/jovyan/shared/Data/greenTaxi1920.csv')\n",
    "dfTaxi.head()"
   ]
  },
  {
   "cell_type": "code",
   "execution_count": 4,
   "metadata": {},
   "outputs": [],
   "source": [
    "#take care of the timestamp types\n",
    "dfTaxi['lpep_pickup_datetime'] = pd.to_datetime(dfTaxi['lpep_pickup_datetime'])\n",
    "dfTaxi['lpep_dropoff_datetime'] = pd.to_datetime(dfTaxi['lpep_dropoff_datetime'])"
   ]
  },
  {
   "cell_type": "code",
   "execution_count": 9,
   "metadata": {},
   "outputs": [],
   "source": [
    "#extract date, year, day of the week and hour (takes some time around half a minute)\n",
    "dfTaxi['Date'] = dfTaxi['lpep_pickup_datetime'].dt.date\n",
    "dfTaxi['Month'] = dfTaxi['lpep_pickup_datetime'].dt.month\n",
    "dfTaxi['Year'] = dfTaxi['lpep_pickup_datetime'].dt.year\n",
    "dfTaxi['DOW'] = dfTaxi['lpep_pickup_datetime'].dt.dayofweek\n",
    "dfTaxi['Hour'] = dfTaxi['lpep_pickup_datetime'].dt.hour\n",
    "dfTaxi = dfTaxi.loc[dfTaxi['Year'].isin([2019, 2020])]"
   ]
  },
  {
   "cell_type": "code",
   "execution_count": 8,
   "metadata": {},
   "outputs": [
    {
     "data": {
      "text/plain": [
       "lpep_pickup_datetime     datetime64[ns]\n",
       "lpep_dropoff_datetime    datetime64[ns]\n",
       "PULocationID                      int64\n",
       "DOLocationID                    float64\n",
       "trip_distance                   float64\n",
       "fare_amount                     float64\n",
       "total_amount                    float64\n",
       "Date                             object\n",
       "Month                             int64\n",
       "Year                              int64\n",
       "DOW                               int64\n",
       "Hour                             object\n",
       "dtype: object"
      ]
     },
     "execution_count": 8,
     "metadata": {},
     "output_type": "execute_result"
    }
   ],
   "source": [
    "dfTaxi.dtypes"
   ]
  },
  {
   "cell_type": "code",
   "execution_count": 5,
   "metadata": {},
   "outputs": [
    {
     "data": {
      "text/html": [
       "<div>\n",
       "<style scoped>\n",
       "    .dataframe tbody tr th:only-of-type {\n",
       "        vertical-align: middle;\n",
       "    }\n",
       "\n",
       "    .dataframe tbody tr th {\n",
       "        vertical-align: top;\n",
       "    }\n",
       "\n",
       "    .dataframe thead th {\n",
       "        text-align: right;\n",
       "    }\n",
       "</style>\n",
       "<table border=\"1\" class=\"dataframe\">\n",
       "  <thead>\n",
       "    <tr style=\"text-align: right;\">\n",
       "      <th></th>\n",
       "      <th>lpep_pickup_datetime</th>\n",
       "      <th>lpep_dropoff_datetime</th>\n",
       "      <th>PULocationID</th>\n",
       "      <th>DOLocationID</th>\n",
       "      <th>trip_distance</th>\n",
       "      <th>fare_amount</th>\n",
       "      <th>total_amount</th>\n",
       "      <th>Date</th>\n",
       "      <th>Month</th>\n",
       "      <th>Year</th>\n",
       "      <th>DOW</th>\n",
       "      <th>Hour</th>\n",
       "    </tr>\n",
       "  </thead>\n",
       "  <tbody>\n",
       "    <tr>\n",
       "      <th>0</th>\n",
       "      <td>2019-08-01 00:22:12</td>\n",
       "      <td>2019-08-01 00:22:38</td>\n",
       "      <td>145</td>\n",
       "      <td>145.0</td>\n",
       "      <td>0.00</td>\n",
       "      <td>2.5</td>\n",
       "      <td>3.30</td>\n",
       "      <td>2019-08-01</td>\n",
       "      <td>8</td>\n",
       "      <td>2019</td>\n",
       "      <td>3</td>\n",
       "      <td>0</td>\n",
       "    </tr>\n",
       "    <tr>\n",
       "      <th>1</th>\n",
       "      <td>2019-08-01 00:11:35</td>\n",
       "      <td>2019-08-01 00:25:53</td>\n",
       "      <td>66</td>\n",
       "      <td>49.0</td>\n",
       "      <td>2.55</td>\n",
       "      <td>11.5</td>\n",
       "      <td>15.36</td>\n",
       "      <td>2019-08-01</td>\n",
       "      <td>8</td>\n",
       "      <td>2019</td>\n",
       "      <td>3</td>\n",
       "      <td>0</td>\n",
       "    </tr>\n",
       "    <tr>\n",
       "      <th>2</th>\n",
       "      <td>2019-08-01 00:56:09</td>\n",
       "      <td>2019-08-01 01:12:02</td>\n",
       "      <td>65</td>\n",
       "      <td>68.0</td>\n",
       "      <td>4.33</td>\n",
       "      <td>15.5</td>\n",
       "      <td>21.55</td>\n",
       "      <td>2019-08-01</td>\n",
       "      <td>8</td>\n",
       "      <td>2019</td>\n",
       "      <td>3</td>\n",
       "      <td>0</td>\n",
       "    </tr>\n",
       "    <tr>\n",
       "      <th>3</th>\n",
       "      <td>2019-07-31 23:59:42</td>\n",
       "      <td>2019-08-01 00:11:44</td>\n",
       "      <td>25</td>\n",
       "      <td>133.0</td>\n",
       "      <td>3.85</td>\n",
       "      <td>13.0</td>\n",
       "      <td>16.30</td>\n",
       "      <td>2019-07-31</td>\n",
       "      <td>7</td>\n",
       "      <td>2019</td>\n",
       "      <td>2</td>\n",
       "      <td>23</td>\n",
       "    </tr>\n",
       "    <tr>\n",
       "      <th>4</th>\n",
       "      <td>2019-08-01 00:20:34</td>\n",
       "      <td>2019-08-01 00:28:44</td>\n",
       "      <td>75</td>\n",
       "      <td>263.0</td>\n",
       "      <td>1.30</td>\n",
       "      <td>7.5</td>\n",
       "      <td>12.55</td>\n",
       "      <td>2019-08-01</td>\n",
       "      <td>8</td>\n",
       "      <td>2019</td>\n",
       "      <td>3</td>\n",
       "      <td>0</td>\n",
       "    </tr>\n",
       "    <tr>\n",
       "      <th>...</th>\n",
       "      <td>...</td>\n",
       "      <td>...</td>\n",
       "      <td>...</td>\n",
       "      <td>...</td>\n",
       "      <td>...</td>\n",
       "      <td>...</td>\n",
       "      <td>...</td>\n",
       "      <td>...</td>\n",
       "      <td>...</td>\n",
       "      <td>...</td>\n",
       "      <td>...</td>\n",
       "      <td>...</td>\n",
       "    </tr>\n",
       "    <tr>\n",
       "      <th>6668168</th>\n",
       "      <td>2019-01-31 23:08:27</td>\n",
       "      <td>2019-01-31 23:22:59</td>\n",
       "      <td>255</td>\n",
       "      <td>226.0</td>\n",
       "      <td>3.33</td>\n",
       "      <td>13.0</td>\n",
       "      <td>18.39</td>\n",
       "      <td>2019-01-31</td>\n",
       "      <td>1</td>\n",
       "      <td>2019</td>\n",
       "      <td>3</td>\n",
       "      <td>23</td>\n",
       "    </tr>\n",
       "    <tr>\n",
       "      <th>6668169</th>\n",
       "      <td>2019-01-31 23:21:26</td>\n",
       "      <td>2019-01-31 23:23:05</td>\n",
       "      <td>75</td>\n",
       "      <td>151.0</td>\n",
       "      <td>0.72</td>\n",
       "      <td>4.0</td>\n",
       "      <td>6.36</td>\n",
       "      <td>2019-01-31</td>\n",
       "      <td>1</td>\n",
       "      <td>2019</td>\n",
       "      <td>3</td>\n",
       "      <td>23</td>\n",
       "    </tr>\n",
       "    <tr>\n",
       "      <th>6668170</th>\n",
       "      <td>2019-01-31 23:30:05</td>\n",
       "      <td>2019-01-31 23:36:14</td>\n",
       "      <td>75</td>\n",
       "      <td>238.0</td>\n",
       "      <td>1.75</td>\n",
       "      <td>7.0</td>\n",
       "      <td>8.30</td>\n",
       "      <td>2019-01-31</td>\n",
       "      <td>1</td>\n",
       "      <td>2019</td>\n",
       "      <td>3</td>\n",
       "      <td>23</td>\n",
       "    </tr>\n",
       "    <tr>\n",
       "      <th>6668171</th>\n",
       "      <td>2019-01-31 23:59:58</td>\n",
       "      <td>2019-02-01 00:04:18</td>\n",
       "      <td>74</td>\n",
       "      <td>74.0</td>\n",
       "      <td>0.57</td>\n",
       "      <td>5.0</td>\n",
       "      <td>7.30</td>\n",
       "      <td>2019-01-31</td>\n",
       "      <td>1</td>\n",
       "      <td>2019</td>\n",
       "      <td>3</td>\n",
       "      <td>23</td>\n",
       "    </tr>\n",
       "    <tr>\n",
       "      <th>6668172</th>\n",
       "      <td>2019-01-31 23:18:22</td>\n",
       "      <td>2019-01-31 23:26:06</td>\n",
       "      <td>75</td>\n",
       "      <td>262.0</td>\n",
       "      <td>2.11</td>\n",
       "      <td>8.5</td>\n",
       "      <td>11.76</td>\n",
       "      <td>2019-01-31</td>\n",
       "      <td>1</td>\n",
       "      <td>2019</td>\n",
       "      <td>3</td>\n",
       "      <td>23</td>\n",
       "    </tr>\n",
       "  </tbody>\n",
       "</table>\n",
       "<p>6667936 rows × 12 columns</p>\n",
       "</div>"
      ],
      "text/plain": [
       "        lpep_pickup_datetime lpep_dropoff_datetime  PULocationID  \\\n",
       "0        2019-08-01 00:22:12   2019-08-01 00:22:38           145   \n",
       "1        2019-08-01 00:11:35   2019-08-01 00:25:53            66   \n",
       "2        2019-08-01 00:56:09   2019-08-01 01:12:02            65   \n",
       "3        2019-07-31 23:59:42   2019-08-01 00:11:44            25   \n",
       "4        2019-08-01 00:20:34   2019-08-01 00:28:44            75   \n",
       "...                      ...                   ...           ...   \n",
       "6668168  2019-01-31 23:08:27   2019-01-31 23:22:59           255   \n",
       "6668169  2019-01-31 23:21:26   2019-01-31 23:23:05            75   \n",
       "6668170  2019-01-31 23:30:05   2019-01-31 23:36:14            75   \n",
       "6668171  2019-01-31 23:59:58   2019-02-01 00:04:18            74   \n",
       "6668172  2019-01-31 23:18:22   2019-01-31 23:26:06            75   \n",
       "\n",
       "         DOLocationID  trip_distance  fare_amount  total_amount        Date  \\\n",
       "0               145.0           0.00          2.5          3.30  2019-08-01   \n",
       "1                49.0           2.55         11.5         15.36  2019-08-01   \n",
       "2                68.0           4.33         15.5         21.55  2019-08-01   \n",
       "3               133.0           3.85         13.0         16.30  2019-07-31   \n",
       "4               263.0           1.30          7.5         12.55  2019-08-01   \n",
       "...               ...            ...          ...           ...         ...   \n",
       "6668168         226.0           3.33         13.0         18.39  2019-01-31   \n",
       "6668169         151.0           0.72          4.0          6.36  2019-01-31   \n",
       "6668170         238.0           1.75          7.0          8.30  2019-01-31   \n",
       "6668171          74.0           0.57          5.0          7.30  2019-01-31   \n",
       "6668172         262.0           2.11          8.5         11.76  2019-01-31   \n",
       "\n",
       "         Month  Year  DOW  Hour  \n",
       "0            8  2019    3     0  \n",
       "1            8  2019    3     0  \n",
       "2            8  2019    3     0  \n",
       "3            7  2019    2    23  \n",
       "4            8  2019    3     0  \n",
       "...        ...   ...  ...   ...  \n",
       "6668168      1  2019    3    23  \n",
       "6668169      1  2019    3    23  \n",
       "6668170      1  2019    3    23  \n",
       "6668171      1  2019    3    23  \n",
       "6668172      1  2019    3    23  \n",
       "\n",
       "[6667936 rows x 12 columns]"
      ]
     },
     "execution_count": 5,
     "metadata": {},
     "output_type": "execute_result"
    }
   ],
   "source": [
    "dfTaxi"
   ]
  },
  {
   "cell_type": "code",
   "execution_count": 6,
   "metadata": {},
   "outputs": [],
   "source": [
    "#calculate trip duration in minutes\n",
    "dfTaxi['trip_duration'] = (dfTaxi['lpep_dropoff_datetime'] - dfTaxi['lpep_pickup_datetime'])\n",
    "dfTaxi['trip_duration'] = dfTaxi['trip_duration'].dt.total_seconds() / 60"
   ]
  },
  {
   "cell_type": "code",
   "execution_count": 7,
   "metadata": {},
   "outputs": [],
   "source": [
    "dfTaxi['speed'] = dfTaxi['trip_distance'] / (dfTaxi['trip_duration'] / 60) #avg trip speed in miles per hoiur"
   ]
  },
  {
   "cell_type": "code",
   "execution_count": 8,
   "metadata": {},
   "outputs": [
    {
     "data": {
      "text/plain": [
       "6667936"
      ]
     },
     "execution_count": 8,
     "metadata": {},
     "output_type": "execute_result"
    }
   ],
   "source": [
    "len(dfTaxi) #original number of records"
   ]
  },
  {
   "cell_type": "code",
   "execution_count": 9,
   "metadata": {},
   "outputs": [
    {
     "data": {
      "text/plain": [
       "6387664"
      ]
     },
     "execution_count": 9,
     "metadata": {},
     "output_type": "execute_result"
    }
   ],
   "source": [
    "#sanity filtering\n",
    "dfTaxi = dfTaxi[(dfTaxi.trip_distance < 100)& (dfTaxi.speed <= 80) & (dfTaxi.speed >= 1) & (dfTaxi.trip_duration <= 100) & (dfTaxi.trip_duration >= 1)]\n",
    "len(dfTaxi) #remaining records"
   ]
  },
  {
   "cell_type": "code",
   "execution_count": 10,
   "metadata": {},
   "outputs": [],
   "source": [
    "#daily total trip counts and cumulative duration and distance traveled\n",
    "dfTaxiDaily = dfTaxi.groupby(['Year','Month','DOW','Date']).\\\n",
    "            agg({'lpep_pickup_datetime':'count','trip_duration':'sum','trip_distance':'sum'}).\\\n",
    "            rename(columns={'lpep_pickup_datetime':'trip_count'}).reset_index()\n",
    "dfTaxiDaily = dfTaxiDaily.sort_values(by='Date')"
   ]
  },
  {
   "cell_type": "code",
   "execution_count": 11,
   "metadata": {},
   "outputs": [],
   "source": [
    "dfTaxiDaily['speed'] = dfTaxiDaily['trip_distance'] / dfTaxiDaily['trip_duration'] * 60"
   ]
  },
  {
   "cell_type": "code",
   "execution_count": 12,
   "metadata": {},
   "outputs": [
    {
     "data": {
      "text/html": [
       "<div>\n",
       "<style scoped>\n",
       "    .dataframe tbody tr th:only-of-type {\n",
       "        vertical-align: middle;\n",
       "    }\n",
       "\n",
       "    .dataframe tbody tr th {\n",
       "        vertical-align: top;\n",
       "    }\n",
       "\n",
       "    .dataframe thead th {\n",
       "        text-align: right;\n",
       "    }\n",
       "</style>\n",
       "<table border=\"1\" class=\"dataframe\">\n",
       "  <thead>\n",
       "    <tr style=\"text-align: right;\">\n",
       "      <th></th>\n",
       "      <th>Year</th>\n",
       "      <th>Month</th>\n",
       "      <th>DOW</th>\n",
       "      <th>Date</th>\n",
       "      <th>trip_count</th>\n",
       "      <th>trip_duration</th>\n",
       "      <th>trip_distance</th>\n",
       "      <th>speed</th>\n",
       "    </tr>\n",
       "  </thead>\n",
       "  <tbody>\n",
       "    <tr>\n",
       "      <th>4</th>\n",
       "      <td>2019</td>\n",
       "      <td>1</td>\n",
       "      <td>1</td>\n",
       "      <td>2019-01-01</td>\n",
       "      <td>14367</td>\n",
       "      <td>192406.050000</td>\n",
       "      <td>53838.05</td>\n",
       "      <td>16.788885</td>\n",
       "    </tr>\n",
       "    <tr>\n",
       "      <th>9</th>\n",
       "      <td>2019</td>\n",
       "      <td>1</td>\n",
       "      <td>2</td>\n",
       "      <td>2019-01-02</td>\n",
       "      <td>18005</td>\n",
       "      <td>271232.433333</td>\n",
       "      <td>65944.76</td>\n",
       "      <td>14.587804</td>\n",
       "    </tr>\n",
       "    <tr>\n",
       "      <th>14</th>\n",
       "      <td>2019</td>\n",
       "      <td>1</td>\n",
       "      <td>3</td>\n",
       "      <td>2019-01-03</td>\n",
       "      <td>19858</td>\n",
       "      <td>309655.900000</td>\n",
       "      <td>72154.53</td>\n",
       "      <td>13.980912</td>\n",
       "    </tr>\n",
       "    <tr>\n",
       "      <th>19</th>\n",
       "      <td>2019</td>\n",
       "      <td>1</td>\n",
       "      <td>4</td>\n",
       "      <td>2019-01-04</td>\n",
       "      <td>21001</td>\n",
       "      <td>319105.950000</td>\n",
       "      <td>74338.68</td>\n",
       "      <td>13.977554</td>\n",
       "    </tr>\n",
       "    <tr>\n",
       "      <th>23</th>\n",
       "      <td>2019</td>\n",
       "      <td>1</td>\n",
       "      <td>5</td>\n",
       "      <td>2019-01-05</td>\n",
       "      <td>19386</td>\n",
       "      <td>258513.416667</td>\n",
       "      <td>63392.53</td>\n",
       "      <td>14.713170</td>\n",
       "    </tr>\n",
       "  </tbody>\n",
       "</table>\n",
       "</div>"
      ],
      "text/plain": [
       "    Year  Month  DOW        Date  trip_count  trip_duration  trip_distance  \\\n",
       "4   2019      1    1  2019-01-01       14367  192406.050000       53838.05   \n",
       "9   2019      1    2  2019-01-02       18005  271232.433333       65944.76   \n",
       "14  2019      1    3  2019-01-03       19858  309655.900000       72154.53   \n",
       "19  2019      1    4  2019-01-04       21001  319105.950000       74338.68   \n",
       "23  2019      1    5  2019-01-05       19386  258513.416667       63392.53   \n",
       "\n",
       "        speed  \n",
       "4   16.788885  \n",
       "9   14.587804  \n",
       "14  13.980912  \n",
       "19  13.977554  \n",
       "23  14.713170  "
      ]
     },
     "execution_count": 12,
     "metadata": {},
     "output_type": "execute_result"
    }
   ],
   "source": [
    "dfTaxiDaily.head()"
   ]
  },
  {
   "cell_type": "code",
   "execution_count": 13,
   "metadata": {},
   "outputs": [
    {
     "data": {
      "image/png": "[encoded data removed]",
      "text/plain": [
       "<Figure size 432x288 with 1 Axes>"
      ]
     },
     "metadata": {
      "needs_background": "light"
     },
     "output_type": "display_data"
    }
   ],
   "source": [
    "#ridership timeline - daily trip counts; seem to decline and particularly during the pandemics lockdown\n",
    "plt.plot(dfTaxiDaily['Date'], dfTaxiDaily['trip_count'])\n",
    "plt.xticks(rotation=70);\n",
    "plt.show()"
   ]
  },
  {
   "cell_type": "code",
   "execution_count": 14,
   "metadata": {},
   "outputs": [
    {
     "data": {
      "text/plain": [
       "<matplotlib.legend.Legend at 0x7f9338999ca0>"
      ]
     },
     "execution_count": 14,
     "metadata": {},
     "output_type": "execute_result"
    },
    {
     "data": {
      "image/png": "[encoded data removed]",
      "text/plain": [
       "<Figure size 432x288 with 1 Axes>"
      ]
     },
     "metadata": {
      "needs_background": "light"
     },
     "output_type": "display_data"
    }
   ],
   "source": [
    "#histograms of daily counts in 2019 and 2020 - distributions look different\n",
    "plt.hist(dfTaxiDaily.loc[dfTaxiDaily['Year']==2019]['trip_count'].values,bins=30,label='2019')\n",
    "plt.hist(dfTaxiDaily.loc[dfTaxiDaily['Year']==2020]['trip_count'].values,bins=30,alpha=0.9,label='2020')\n",
    "#plt.hist(dfTaxiDaily.loc[dfTaxiDaily['Year']==2020]['trip_count'].values,bins=30,alpha=0.5,label='2020')\n",
    "plt.legend()"
   ]
  },
  {
   "cell_type": "markdown",
   "metadata": {},
   "source": [
    "2020 daily ride numbers are vastly different from 2019 numbers, due to the pandemic"
   ]
  },
  {
   "cell_type": "code",
   "execution_count": 15,
   "metadata": {},
   "outputs": [
    {
     "data": {
      "text/plain": [
       "Ttest_indResult(statistic=22.879917560620992, pvalue=2.222080562897862e-80)"
      ]
     },
     "execution_count": 15,
     "metadata": {},
     "output_type": "execute_result"
    }
   ],
   "source": [
    "## t-test between the 2019 and 2020 distributions\n",
    "stats.ttest_ind(dfTaxiDaily.loc[dfTaxiDaily['Year']==2019]['trip_count'],dfTaxiDaily.loc[dfTaxiDaily['Year']==2020]['trip_count'])"
   ]
  },
  {
   "cell_type": "code",
   "execution_count": 16,
   "metadata": {},
   "outputs": [
    {
     "data": {
      "text/plain": [
       "KstestResult(statistic=0.662140364737639, pvalue=8.881784197001252e-16)"
      ]
     },
     "execution_count": 16,
     "metadata": {},
     "output_type": "execute_result"
    }
   ],
   "source": [
    "## K-S test\n",
    "stats.ks_2samp(dfTaxiDaily.loc[dfTaxiDaily['Year']==2019]['trip_count'],dfTaxiDaily.loc[dfTaxiDaily['Year']==2020]['trip_count'])"
   ]
  },
  {
   "cell_type": "markdown",
   "metadata": {},
   "source": [
    "So the hypothesis that 2019 and 2020 daily trip counts follow the same distributions can be rejected beyond any reasonable doubt"
   ]
  },
  {
   "cell_type": "code",
   "execution_count": 17,
   "metadata": {},
   "outputs": [
    {
     "data": {
      "text/plain": [
       "(5223051, 5223051)"
      ]
     },
     "execution_count": 17,
     "metadata": {},
     "output_type": "execute_result"
    }
   ],
   "source": [
    "#For further analysis select the year 2019\n",
    "dfTaxiDaily2019 = dfTaxiDaily.loc[dfTaxiDaily['Year']==2019] #daily aggregates\n",
    "dfTaxi2019 = dfTaxi.loc[dfTaxi['Year']==2019] #individual trips\n",
    "(dfTaxiDaily2019['trip_count'].sum(),len(dfTaxi2019)) #total trip counts in either dataset"
   ]
  },
  {
   "cell_type": "markdown",
   "metadata": {},
   "source": [
    "## Example 1. Test if weekend ridership is different from weekday"
   ]
  },
  {
   "cell_type": "code",
   "execution_count": 18,
   "metadata": {},
   "outputs": [
    {
     "data": {
      "text/plain": [
       "Ttest_indResult(statistic=-2.972846311995963, pvalue=0.003205266065000704)"
      ]
     },
     "execution_count": 18,
     "metadata": {},
     "output_type": "execute_result"
    }
   ],
   "source": [
    "# Monday is 0, Sunday is 6; weekends: DOW>4, weekdays: DOW<4\n",
    "# t-test\n",
    "stats.ttest_ind(dfTaxiDaily2019.loc[dfTaxiDaily2019['DOW']>4]['trip_count'],\n",
    "                dfTaxiDaily2019.loc[dfTaxiDaily2019['DOW']<4]['trip_count'])"
   ]
  },
  {
   "cell_type": "code",
   "execution_count": 19,
   "metadata": {},
   "outputs": [
    {
     "data": {
      "text/plain": [
       "KstestResult(statistic=0.24711879432624115, pvalue=0.0006547345365657264)"
      ]
     },
     "execution_count": 19,
     "metadata": {},
     "output_type": "execute_result"
    }
   ],
   "source": [
    "# Monday is 0, Sunday is 6; weekends: DOW>4, weekdays: DOW<4\n",
    "# KS-test\n",
    "stats.ks_2samp(dfTaxiDaily2019.loc[dfTaxiDaily2019['DOW']>4]['trip_count'],\n",
    "                dfTaxiDaily2019.loc[dfTaxiDaily2019['DOW']<4]['trip_count'])"
   ]
  },
  {
   "cell_type": "markdown",
   "metadata": {},
   "source": [
    "Reject the hypothesis that weekends and weekdays follow the same ridership distribution at 95\\% significance level"
   ]
  },
  {
   "cell_type": "markdown",
   "metadata": {},
   "source": [
    "## Example 2. Test if trip speed, duration or distance follow log-normal distributions"
   ]
  },
  {
   "cell_type": "code",
   "execution_count": 20,
   "metadata": {},
   "outputs": [
    {
     "data": {
      "text/plain": [
       "<AxesSubplot:>"
      ]
     },
     "execution_count": 20,
     "metadata": {},
     "output_type": "execute_result"
    },
    {
     "data": {
      "image/png": "[encoded data removed]",
      "text/plain": [
       "<Figure size 432x288 with 1 Axes>"
      ]
     },
     "metadata": {
      "needs_background": "light"
     },
     "output_type": "display_data"
    }
   ],
   "source": [
    "#analyze the overall speed distribution (plot on log-scale)\n",
    "np.log(dfTaxi2019['speed']).hist(bins=100)"
   ]
  },
  {
   "cell_type": "code",
   "execution_count": 21,
   "metadata": {},
   "outputs": [
    {
     "data": {
      "text/plain": [
       "<AxesSubplot:>"
      ]
     },
     "execution_count": 21,
     "metadata": {},
     "output_type": "execute_result"
    },
    {
     "data": {
      "image/png": "[encoded data removed]",
      "text/plain": [
       "<Figure size 432x288 with 1 Axes>"
      ]
     },
     "metadata": {
      "needs_background": "light"
     },
     "output_type": "display_data"
    }
   ],
   "source": [
    "#analyze the overall duration distribution (plot on log-scale)\n",
    "np.log(dfTaxi2019['trip_duration']).hist(bins=100)"
   ]
  },
  {
   "cell_type": "code",
   "execution_count": 22,
   "metadata": {},
   "outputs": [
    {
     "data": {
      "text/plain": [
       "<AxesSubplot:>"
      ]
     },
     "execution_count": 22,
     "metadata": {},
     "output_type": "execute_result"
    },
    {
     "data": {
      "image/png": "[encoded data removed]",
      "text/plain": [
       "<Figure size 432x288 with 1 Axes>"
      ]
     },
     "metadata": {
      "needs_background": "light"
     },
     "output_type": "display_data"
    }
   ],
   "source": [
    "#analyze the overall duration distribution (plot on log-scale)\n",
    "np.log(dfTaxi2019['trip_distance']).hist(bins=100)"
   ]
  },
  {
   "cell_type": "code",
   "execution_count": 23,
   "metadata": {},
   "outputs": [],
   "source": [
    "def is_normal(x): #check is the distribution is normal using one-sample KS test and sample mean-std\n",
    "    return stats.kstest(x,'norm',args=(x.mean(),x.std()))"
   ]
  },
  {
   "cell_type": "code",
   "execution_count": 24,
   "metadata": {},
   "outputs": [
    {
     "data": {
      "text/plain": [
       "KstestResult(statistic=0.04036265721868104, pvalue=0.0)"
      ]
     },
     "execution_count": 24,
     "metadata": {},
     "output_type": "execute_result"
    }
   ],
   "source": [
    "# is log-speed normally distributed?\n",
    "is_normal(np.log(dfTaxi2019['speed']))"
   ]
  },
  {
   "cell_type": "code",
   "execution_count": 25,
   "metadata": {},
   "outputs": [
    {
     "data": {
      "text/plain": [
       "KstestResult(statistic=0.006262974104248364, pvalue=2.230867364609065e-178)"
      ]
     },
     "execution_count": 25,
     "metadata": {},
     "output_type": "execute_result"
    }
   ],
   "source": [
    "# is log-duration normally distributed?\n",
    "is_normal(np.log(dfTaxi2019['trip_duration']))"
   ]
  },
  {
   "cell_type": "code",
   "execution_count": 26,
   "metadata": {},
   "outputs": [
    {
     "data": {
      "text/plain": [
       "KstestResult(statistic=0.03719595518658181, pvalue=0.0)"
      ]
     },
     "execution_count": 26,
     "metadata": {},
     "output_type": "execute_result"
    }
   ],
   "source": [
    "# is log-distance normally distributed?\n",
    "is_normal(np.log(dfTaxi2019['trip_distance']))"
   ]
  },
  {
   "cell_type": "code",
   "execution_count": 27,
   "metadata": {},
   "outputs": [],
   "source": [
    "#so none of those quantities have log-normal distribution (rejecting with 99.9999...% confidence)"
   ]
  },
  {
   "cell_type": "code",
   "execution_count": 28,
   "metadata": {},
   "outputs": [],
   "source": [
    "#what about daily average trip_count, duration, distance, speed?"
   ]
  },
  {
   "cell_type": "code",
   "execution_count": 29,
   "metadata": {},
   "outputs": [
    {
     "data": {
      "text/plain": [
       "KstestResult(statistic=0.10222090032691844, pvalue=0.0017910702475394608)"
      ]
     },
     "execution_count": 29,
     "metadata": {},
     "output_type": "execute_result"
    }
   ],
   "source": [
    "is_normal(dfTaxiDaily2019['trip_count']) #does not look normal"
   ]
  },
  {
   "cell_type": "code",
   "execution_count": 30,
   "metadata": {},
   "outputs": [
    {
     "data": {
      "text/plain": [
       "<matplotlib.legend.Legend at 0x7f93386f7b50>"
      ]
     },
     "execution_count": 30,
     "metadata": {},
     "output_type": "execute_result"
    },
    {
     "data": {
      "image/png": "[encoded data removed]",
      "text/plain": [
       "<Figure size 432x288 with 1 Axes>"
      ]
     },
     "metadata": {
      "needs_background": "light"
     },
     "output_type": "display_data"
    }
   ],
   "source": [
    "#visualize empiric CDF's for trip-counts\n",
    "plt.hist(dfTaxiDaily2019['trip_count'].values, 50, density=True, \n",
    "         histtype='step',cumulative=True,label='trip count')\n",
    "plt.hist(np.random.normal(dfTaxiDaily2019['trip_count'].mean(), dfTaxiDaily2019['trip_count'].std(),\n",
    "                          len(dfTaxiDaily2019)), 50, density=True, \n",
    "         histtype='step',cumulative=True,label='same mean and std in gaussian distribution')\n",
    "plt.legend(loc='upper left')"
   ]
  },
  {
   "cell_type": "code",
   "execution_count": 31,
   "metadata": {},
   "outputs": [
    {
     "data": {
      "text/plain": [
       "KstestResult(statistic=0.39763352335934615, pvalue=7.316977574996973e-48)"
      ]
     },
     "execution_count": 31,
     "metadata": {},
     "output_type": "execute_result"
    }
   ],
   "source": [
    "is_normal(np.log(dfTaxiDaily2019['trip_count'])) #but might be log-normal"
   ]
  },
  {
   "cell_type": "code",
   "execution_count": 32,
   "metadata": {},
   "outputs": [
    {
     "data": {
      "text/plain": [
       "<matplotlib.legend.Legend at 0x7f93386470d0>"
      ]
     },
     "execution_count": 32,
     "metadata": {},
     "output_type": "execute_result"
    },
    {
     "data": {
      "image/png": "[encoded data removed]",
      "text/plain": [
       "<Figure size 432x288 with 1 Axes>"
      ]
     },
     "metadata": {
      "needs_background": "light"
     },
     "output_type": "display_data"
    }
   ],
   "source": [
    "#visualize empiric CDF's for log trip-counts\n",
    "plt.hist(np.log(dfTaxiDaily2019['trip_count'].values), 50, density=True, \n",
    "         histtype='step',cumulative=True,label='log trip count')\n",
    "plt.hist(np.random.normal(np.log(dfTaxiDaily2019['trip_count']).mean(), np.log(dfTaxiDaily2019['trip_count']).std(),\n",
    "                          len(dfTaxiDaily2019)), 50, density=True, \n",
    "         histtype='step',cumulative=True,label='same mean and std in gaussian distribution')\n",
    "plt.legend(loc='upper left')"
   ]
  },
  {
   "cell_type": "code",
   "execution_count": 33,
   "metadata": {},
   "outputs": [
    {
     "data": {
      "text/plain": [
       "KstestResult(statistic=0.05949038815352092, pvalue=0.18313344866656922)"
      ]
     },
     "execution_count": 33,
     "metadata": {},
     "output_type": "execute_result"
    }
   ],
   "source": [
    "is_normal(dfTaxiDaily2019['trip_duration']) #could be normal"
   ]
  },
  {
   "cell_type": "code",
   "execution_count": 34,
   "metadata": {},
   "outputs": [
    {
     "data": {
      "text/plain": [
       "<AxesSubplot:>"
      ]
     },
     "execution_count": 34,
     "metadata": {},
     "output_type": "execute_result"
    },
    {
     "data": {
      "image/png": "[encoded data removed]",
      "text/plain": [
       "<Figure size 432x288 with 1 Axes>"
      ]
     },
     "metadata": {
      "needs_background": "light"
     },
     "output_type": "display_data"
    }
   ],
   "source": [
    "dfTaxiDaily2019['trip_duration'].hist(bins=8)"
   ]
  },
  {
   "cell_type": "code",
   "execution_count": 35,
   "metadata": {},
   "outputs": [
    {
     "data": {
      "text/plain": [
       "<matplotlib.legend.Legend at 0x7f93385b21c0>"
      ]
     },
     "execution_count": 35,
     "metadata": {},
     "output_type": "execute_result"
    },
    {
     "data": {
      "image/png": "[encoded data removed]",
      "text/plain": [
       "<Figure size 432x288 with 1 Axes>"
      ]
     },
     "metadata": {
      "needs_background": "light"
     },
     "output_type": "display_data"
    }
   ],
   "source": [
    "_ = plt.hist(dfTaxiDaily2019['trip_duration'].values, 50, density=True, \n",
    "         histtype='step',cumulative=True,label='trip duration')\n",
    "_ = plt.hist(np.random.normal(dfTaxiDaily2019['trip_duration'].mean(), \n",
    "                              dfTaxiDaily2019['trip_duration'].std(),\n",
    "                          len(dfTaxiDaily2019)), 50, density=True, \n",
    "         histtype='step',cumulative=True,label='same mean and std \\nin gaussian distribution')\n",
    "plt.legend(loc='upper left')"
   ]
  },
  {
   "cell_type": "code",
   "execution_count": 36,
   "metadata": {},
   "outputs": [
    {
     "data": {
      "text/plain": [
       "KstestResult(statistic=0.10000823433973582, pvalue=0.0024171269598154545)"
      ]
     },
     "execution_count": 36,
     "metadata": {},
     "output_type": "execute_result"
    }
   ],
   "source": [
    "is_normal(dfTaxiDaily2019['trip_distance']) #does not look normal"
   ]
  },
  {
   "cell_type": "code",
   "execution_count": 37,
   "metadata": {},
   "outputs": [
    {
     "data": {
      "text/plain": [
       "KstestResult(statistic=0.4018549402287594, pvalue=6.470437360887711e-49)"
      ]
     },
     "execution_count": 37,
     "metadata": {},
     "output_type": "execute_result"
    }
   ],
   "source": [
    "is_normal(np.log(dfTaxiDaily2019['trip_distance'])) #but might be log-normal"
   ]
  },
  {
   "cell_type": "code",
   "execution_count": 38,
   "metadata": {},
   "outputs": [
    {
     "data": {
      "text/plain": [
       "KstestResult(statistic=0.051326846636975176, pvalue=0.3345668864594482)"
      ]
     },
     "execution_count": 38,
     "metadata": {},
     "output_type": "execute_result"
    }
   ],
   "source": [
    "is_normal(dfTaxiDaily2019['speed']) #might be normal"
   ]
  },
  {
   "cell_type": "code",
   "execution_count": 39,
   "metadata": {},
   "outputs": [
    {
     "data": {
      "text/plain": [
       "KstestResult(statistic=0.055849494322260204, pvalue=0.24242825588781025)"
      ]
     },
     "execution_count": 39,
     "metadata": {},
     "output_type": "execute_result"
    }
   ],
   "source": [
    "is_normal(np.log(dfTaxiDaily2019['speed'])) #log-normal even more likely"
   ]
  },
  {
   "cell_type": "markdown",
   "metadata": {},
   "source": [
    "## Research questions to further explore\n",
    "- Which weekdays are similar/different in terms of avg.travel speed distributions?\n",
    "- Are evening/morning/afternoon trip speed, duration and distance distributions signifiantly different?\n",
    "- Are trip speed, duration and distance distributions different in Brooklyn vs Queens or Bronx? \n",
    "- No doubt that 2020 saw a large drop in ridership but how can we assess it? As we don't have the full year, the drop just started in March and there is also a general decline, consider the 2020/2019 ratios (to account for the general trend and seasonality and see how much more steep is the drop during the pandemics). Compare the pandemics numbers (After March 2020 with the same period pre-march 2020). Also compare the post-pandemics and pre-pandemics travel distance, speed and duration distributions"
   ]
  },
  {
   "cell_type": "markdown",
   "metadata": {},
   "source": [
    "## Homework assignment"
   ]
  },
  {
   "cell_type": "markdown",
   "metadata": {},
   "source": [
    "## Task 1. Travel speed - hours of the day (2 pts)\n",
    "Traffic and travel speed might vary throughout the day. Select the trips happening on Oct, 1, 2019. a) Compute average travel speed per each hour of the day and visuale as a bar plot. Compare the speed distributions for: b) trip samples within an hour of 9am (Hour=9) and an hour of 10am, c) morning rush hour (two hours of 8 and 9am) and evening rush hour (two hours of 5pm(17) and 6pm(18)). Can you reject the hypothesis that the compared speed samples have the same mean(use t-test) and distribution (use ks-test) at a 95\\% significance level?"
   ]
  },
  {
   "cell_type": "code",
   "execution_count": 40,
   "metadata": {
    "deletable": false,
    "nbgrader": {
     "cell_type": "code",
     "checksum": "43659e42da26dbe696271c87fd7473a7",
     "grade": true,
     "grade_id": "cell-b506158f7c893752",
     "locked": false,
     "points": 2,
     "schema_version": 3,
     "solution": true,
     "task": false
    }
   },
   "outputs": [
    {
     "data": {
      "text/html": [
       "<div>\n",
       "<style scoped>\n",
       "    .dataframe tbody tr th:only-of-type {\n",
       "        vertical-align: middle;\n",
       "    }\n",
       "\n",
       "    .dataframe tbody tr th {\n",
       "        vertical-align: top;\n",
       "    }\n",
       "\n",
       "    .dataframe thead th {\n",
       "        text-align: right;\n",
       "    }\n",
       "</style>\n",
       "<table border=\"1\" class=\"dataframe\">\n",
       "  <thead>\n",
       "    <tr style=\"text-align: right;\">\n",
       "      <th></th>\n",
       "      <th>lpep_pickup_datetime</th>\n",
       "      <th>lpep_dropoff_datetime</th>\n",
       "      <th>PULocationID</th>\n",
       "      <th>DOLocationID</th>\n",
       "      <th>trip_distance</th>\n",
       "      <th>fare_amount</th>\n",
       "      <th>total_amount</th>\n",
       "      <th>Date</th>\n",
       "      <th>Month</th>\n",
       "      <th>Year</th>\n",
       "      <th>DOW</th>\n",
       "      <th>Hour</th>\n",
       "      <th>trip_duration</th>\n",
       "      <th>speed</th>\n",
       "    </tr>\n",
       "  </thead>\n",
       "  <tbody>\n",
       "    <tr>\n",
       "      <th>1</th>\n",
       "      <td>2019-08-01 00:11:35</td>\n",
       "      <td>2019-08-01 00:25:53</td>\n",
       "      <td>66</td>\n",
       "      <td>49.0</td>\n",
       "      <td>2.55</td>\n",
       "      <td>11.5</td>\n",
       "      <td>15.36</td>\n",
       "      <td>2019-08-01</td>\n",
       "      <td>8</td>\n",
       "      <td>2019</td>\n",
       "      <td>3</td>\n",
       "      <td>0</td>\n",
       "      <td>14.300000</td>\n",
       "      <td>10.699301</td>\n",
       "    </tr>\n",
       "    <tr>\n",
       "      <th>2</th>\n",
       "      <td>2019-08-01 00:56:09</td>\n",
       "      <td>2019-08-01 01:12:02</td>\n",
       "      <td>65</td>\n",
       "      <td>68.0</td>\n",
       "      <td>4.33</td>\n",
       "      <td>15.5</td>\n",
       "      <td>21.55</td>\n",
       "      <td>2019-08-01</td>\n",
       "      <td>8</td>\n",
       "      <td>2019</td>\n",
       "      <td>3</td>\n",
       "      <td>0</td>\n",
       "      <td>15.883333</td>\n",
       "      <td>16.356768</td>\n",
       "    </tr>\n",
       "    <tr>\n",
       "      <th>3</th>\n",
       "      <td>2019-07-31 23:59:42</td>\n",
       "      <td>2019-08-01 00:11:44</td>\n",
       "      <td>25</td>\n",
       "      <td>133.0</td>\n",
       "      <td>3.85</td>\n",
       "      <td>13.0</td>\n",
       "      <td>16.30</td>\n",
       "      <td>2019-07-31</td>\n",
       "      <td>7</td>\n",
       "      <td>2019</td>\n",
       "      <td>2</td>\n",
       "      <td>23</td>\n",
       "      <td>12.033333</td>\n",
       "      <td>19.196676</td>\n",
       "    </tr>\n",
       "    <tr>\n",
       "      <th>4</th>\n",
       "      <td>2019-08-01 00:20:34</td>\n",
       "      <td>2019-08-01 00:28:44</td>\n",
       "      <td>75</td>\n",
       "      <td>263.0</td>\n",
       "      <td>1.30</td>\n",
       "      <td>7.5</td>\n",
       "      <td>12.55</td>\n",
       "      <td>2019-08-01</td>\n",
       "      <td>8</td>\n",
       "      <td>2019</td>\n",
       "      <td>3</td>\n",
       "      <td>0</td>\n",
       "      <td>8.166667</td>\n",
       "      <td>9.551020</td>\n",
       "    </tr>\n",
       "    <tr>\n",
       "      <th>5</th>\n",
       "      <td>2019-08-01 00:29:16</td>\n",
       "      <td>2019-08-01 00:46:21</td>\n",
       "      <td>65</td>\n",
       "      <td>198.0</td>\n",
       "      <td>5.25</td>\n",
       "      <td>17.5</td>\n",
       "      <td>20.80</td>\n",
       "      <td>2019-08-01</td>\n",
       "      <td>8</td>\n",
       "      <td>2019</td>\n",
       "      <td>3</td>\n",
       "      <td>0</td>\n",
       "      <td>17.083333</td>\n",
       "      <td>18.439024</td>\n",
       "    </tr>\n",
       "    <tr>\n",
       "      <th>...</th>\n",
       "      <td>...</td>\n",
       "      <td>...</td>\n",
       "      <td>...</td>\n",
       "      <td>...</td>\n",
       "      <td>...</td>\n",
       "      <td>...</td>\n",
       "      <td>...</td>\n",
       "      <td>...</td>\n",
       "      <td>...</td>\n",
       "      <td>...</td>\n",
       "      <td>...</td>\n",
       "      <td>...</td>\n",
       "      <td>...</td>\n",
       "      <td>...</td>\n",
       "    </tr>\n",
       "    <tr>\n",
       "      <th>6668168</th>\n",
       "      <td>2019-01-31 23:08:27</td>\n",
       "      <td>2019-01-31 23:22:59</td>\n",
       "      <td>255</td>\n",
       "      <td>226.0</td>\n",
       "      <td>3.33</td>\n",
       "      <td>13.0</td>\n",
       "      <td>18.39</td>\n",
       "      <td>2019-01-31</td>\n",
       "      <td>1</td>\n",
       "      <td>2019</td>\n",
       "      <td>3</td>\n",
       "      <td>23</td>\n",
       "      <td>14.533333</td>\n",
       "      <td>13.747706</td>\n",
       "    </tr>\n",
       "    <tr>\n",
       "      <th>6668169</th>\n",
       "      <td>2019-01-31 23:21:26</td>\n",
       "      <td>2019-01-31 23:23:05</td>\n",
       "      <td>75</td>\n",
       "      <td>151.0</td>\n",
       "      <td>0.72</td>\n",
       "      <td>4.0</td>\n",
       "      <td>6.36</td>\n",
       "      <td>2019-01-31</td>\n",
       "      <td>1</td>\n",
       "      <td>2019</td>\n",
       "      <td>3</td>\n",
       "      <td>23</td>\n",
       "      <td>1.650000</td>\n",
       "      <td>26.181818</td>\n",
       "    </tr>\n",
       "    <tr>\n",
       "      <th>6668170</th>\n",
       "      <td>2019-01-31 23:30:05</td>\n",
       "      <td>2019-01-31 23:36:14</td>\n",
       "      <td>75</td>\n",
       "      <td>238.0</td>\n",
       "      <td>1.75</td>\n",
       "      <td>7.0</td>\n",
       "      <td>8.30</td>\n",
       "      <td>2019-01-31</td>\n",
       "      <td>1</td>\n",
       "      <td>2019</td>\n",
       "      <td>3</td>\n",
       "      <td>23</td>\n",
       "      <td>6.150000</td>\n",
       "      <td>17.073171</td>\n",
       "    </tr>\n",
       "    <tr>\n",
       "      <th>6668171</th>\n",
       "      <td>2019-01-31 23:59:58</td>\n",
       "      <td>2019-02-01 00:04:18</td>\n",
       "      <td>74</td>\n",
       "      <td>74.0</td>\n",
       "      <td>0.57</td>\n",
       "      <td>5.0</td>\n",
       "      <td>7.30</td>\n",
       "      <td>2019-01-31</td>\n",
       "      <td>1</td>\n",
       "      <td>2019</td>\n",
       "      <td>3</td>\n",
       "      <td>23</td>\n",
       "      <td>4.333333</td>\n",
       "      <td>7.892308</td>\n",
       "    </tr>\n",
       "    <tr>\n",
       "      <th>6668172</th>\n",
       "      <td>2019-01-31 23:18:22</td>\n",
       "      <td>2019-01-31 23:26:06</td>\n",
       "      <td>75</td>\n",
       "      <td>262.0</td>\n",
       "      <td>2.11</td>\n",
       "      <td>8.5</td>\n",
       "      <td>11.76</td>\n",
       "      <td>2019-01-31</td>\n",
       "      <td>1</td>\n",
       "      <td>2019</td>\n",
       "      <td>3</td>\n",
       "      <td>23</td>\n",
       "      <td>7.733333</td>\n",
       "      <td>16.370690</td>\n",
       "    </tr>\n",
       "  </tbody>\n",
       "</table>\n",
       "<p>6387664 rows × 14 columns</p>\n",
       "</div>"
      ],
      "text/plain": [
       "        lpep_pickup_datetime lpep_dropoff_datetime  PULocationID  \\\n",
       "1        2019-08-01 00:11:35   2019-08-01 00:25:53            66   \n",
       "2        2019-08-01 00:56:09   2019-08-01 01:12:02            65   \n",
       "3        2019-07-31 23:59:42   2019-08-01 00:11:44            25   \n",
       "4        2019-08-01 00:20:34   2019-08-01 00:28:44            75   \n",
       "5        2019-08-01 00:29:16   2019-08-01 00:46:21            65   \n",
       "...                      ...                   ...           ...   \n",
       "6668168  2019-01-31 23:08:27   2019-01-31 23:22:59           255   \n",
       "6668169  2019-01-31 23:21:26   2019-01-31 23:23:05            75   \n",
       "6668170  2019-01-31 23:30:05   2019-01-31 23:36:14            75   \n",
       "6668171  2019-01-31 23:59:58   2019-02-01 00:04:18            74   \n",
       "6668172  2019-01-31 23:18:22   2019-01-31 23:26:06            75   \n",
       "\n",
       "         DOLocationID  trip_distance  fare_amount  total_amount        Date  \\\n",
       "1                49.0           2.55         11.5         15.36  2019-08-01   \n",
       "2                68.0           4.33         15.5         21.55  2019-08-01   \n",
       "3               133.0           3.85         13.0         16.30  2019-07-31   \n",
       "4               263.0           1.30          7.5         12.55  2019-08-01   \n",
       "5               198.0           5.25         17.5         20.80  2019-08-01   \n",
       "...               ...            ...          ...           ...         ...   \n",
       "6668168         226.0           3.33         13.0         18.39  2019-01-31   \n",
       "6668169         151.0           0.72          4.0          6.36  2019-01-31   \n",
       "6668170         238.0           1.75          7.0          8.30  2019-01-31   \n",
       "6668171          74.0           0.57          5.0          7.30  2019-01-31   \n",
       "6668172         262.0           2.11          8.5         11.76  2019-01-31   \n",
       "\n",
       "         Month  Year  DOW  Hour  trip_duration      speed  \n",
       "1            8  2019    3     0      14.300000  10.699301  \n",
       "2            8  2019    3     0      15.883333  16.356768  \n",
       "3            7  2019    2    23      12.033333  19.196676  \n",
       "4            8  2019    3     0       8.166667   9.551020  \n",
       "5            8  2019    3     0      17.083333  18.439024  \n",
       "...        ...   ...  ...   ...            ...        ...  \n",
       "6668168      1  2019    3    23      14.533333  13.747706  \n",
       "6668169      1  2019    3    23       1.650000  26.181818  \n",
       "6668170      1  2019    3    23       6.150000  17.073171  \n",
       "6668171      1  2019    3    23       4.333333   7.892308  \n",
       "6668172      1  2019    3    23       7.733333  16.370690  \n",
       "\n",
       "[6387664 rows x 14 columns]"
      ]
     },
     "execution_count": 40,
     "metadata": {},
     "output_type": "execute_result"
    }
   ],
   "source": [
    "# YOUR CODE HERE\n",
    "#raise NotImplementedError()\n",
    "dfTaxi"
   ]
  },
  {
   "cell_type": "code",
   "execution_count": 41,
   "metadata": {},
   "outputs": [
    {
     "data": {
      "text/plain": [
       "lpep_pickup_datetime     datetime64[ns]\n",
       "lpep_dropoff_datetime    datetime64[ns]\n",
       "PULocationID                      int64\n",
       "DOLocationID                    float64\n",
       "trip_distance                   float64\n",
       "fare_amount                     float64\n",
       "total_amount                    float64\n",
       "Date                             object\n",
       "Month                             int64\n",
       "Year                              int64\n",
       "DOW                               int64\n",
       "Hour                              int64\n",
       "trip_duration                   float64\n",
       "speed                           float64\n",
       "dtype: object"
      ]
     },
     "execution_count": 41,
     "metadata": {},
     "output_type": "execute_result"
    }
   ],
   "source": [
    "# Select the trips happening on Oct, 1, 2019. \n",
    "dfTaxi.dtypes"
   ]
  },
  {
   "cell_type": "code",
   "execution_count": 42,
   "metadata": {},
   "outputs": [
    {
     "data": {
      "text/html": [
       "<div>\n",
       "<style scoped>\n",
       "    .dataframe tbody tr th:only-of-type {\n",
       "        vertical-align: middle;\n",
       "    }\n",
       "\n",
       "    .dataframe tbody tr th {\n",
       "        vertical-align: top;\n",
       "    }\n",
       "\n",
       "    .dataframe thead th {\n",
       "        text-align: right;\n",
       "    }\n",
       "</style>\n",
       "<table border=\"1\" class=\"dataframe\">\n",
       "  <thead>\n",
       "    <tr style=\"text-align: right;\">\n",
       "      <th></th>\n",
       "      <th>lpep_pickup_datetime</th>\n",
       "      <th>lpep_dropoff_datetime</th>\n",
       "      <th>PULocationID</th>\n",
       "      <th>DOLocationID</th>\n",
       "      <th>trip_distance</th>\n",
       "      <th>fare_amount</th>\n",
       "      <th>total_amount</th>\n",
       "      <th>Date</th>\n",
       "      <th>Month</th>\n",
       "      <th>Year</th>\n",
       "      <th>DOW</th>\n",
       "      <th>Hour</th>\n",
       "      <th>trip_duration</th>\n",
       "      <th>speed</th>\n",
       "      <th>Date_str</th>\n",
       "    </tr>\n",
       "  </thead>\n",
       "  <tbody>\n",
       "    <tr>\n",
       "      <th>1</th>\n",
       "      <td>2019-08-01 00:11:35</td>\n",
       "      <td>2019-08-01 00:25:53</td>\n",
       "      <td>66</td>\n",
       "      <td>49.0</td>\n",
       "      <td>2.55</td>\n",
       "      <td>11.5</td>\n",
       "      <td>15.36</td>\n",
       "      <td>2019-08-01</td>\n",
       "      <td>8</td>\n",
       "      <td>2019</td>\n",
       "      <td>3</td>\n",
       "      <td>0</td>\n",
       "      <td>14.300000</td>\n",
       "      <td>10.699301</td>\n",
       "      <td>2019-08-01</td>\n",
       "    </tr>\n",
       "    <tr>\n",
       "      <th>2</th>\n",
       "      <td>2019-08-01 00:56:09</td>\n",
       "      <td>2019-08-01 01:12:02</td>\n",
       "      <td>65</td>\n",
       "      <td>68.0</td>\n",
       "      <td>4.33</td>\n",
       "      <td>15.5</td>\n",
       "      <td>21.55</td>\n",
       "      <td>2019-08-01</td>\n",
       "      <td>8</td>\n",
       "      <td>2019</td>\n",
       "      <td>3</td>\n",
       "      <td>0</td>\n",
       "      <td>15.883333</td>\n",
       "      <td>16.356768</td>\n",
       "      <td>2019-08-01</td>\n",
       "    </tr>\n",
       "    <tr>\n",
       "      <th>3</th>\n",
       "      <td>2019-07-31 23:59:42</td>\n",
       "      <td>2019-08-01 00:11:44</td>\n",
       "      <td>25</td>\n",
       "      <td>133.0</td>\n",
       "      <td>3.85</td>\n",
       "      <td>13.0</td>\n",
       "      <td>16.30</td>\n",
       "      <td>2019-07-31</td>\n",
       "      <td>7</td>\n",
       "      <td>2019</td>\n",
       "      <td>2</td>\n",
       "      <td>23</td>\n",
       "      <td>12.033333</td>\n",
       "      <td>19.196676</td>\n",
       "      <td>2019-07-31</td>\n",
       "    </tr>\n",
       "    <tr>\n",
       "      <th>4</th>\n",
       "      <td>2019-08-01 00:20:34</td>\n",
       "      <td>2019-08-01 00:28:44</td>\n",
       "      <td>75</td>\n",
       "      <td>263.0</td>\n",
       "      <td>1.30</td>\n",
       "      <td>7.5</td>\n",
       "      <td>12.55</td>\n",
       "      <td>2019-08-01</td>\n",
       "      <td>8</td>\n",
       "      <td>2019</td>\n",
       "      <td>3</td>\n",
       "      <td>0</td>\n",
       "      <td>8.166667</td>\n",
       "      <td>9.551020</td>\n",
       "      <td>2019-08-01</td>\n",
       "    </tr>\n",
       "    <tr>\n",
       "      <th>5</th>\n",
       "      <td>2019-08-01 00:29:16</td>\n",
       "      <td>2019-08-01 00:46:21</td>\n",
       "      <td>65</td>\n",
       "      <td>198.0</td>\n",
       "      <td>5.25</td>\n",
       "      <td>17.5</td>\n",
       "      <td>20.80</td>\n",
       "      <td>2019-08-01</td>\n",
       "      <td>8</td>\n",
       "      <td>2019</td>\n",
       "      <td>3</td>\n",
       "      <td>0</td>\n",
       "      <td>17.083333</td>\n",
       "      <td>18.439024</td>\n",
       "      <td>2019-08-01</td>\n",
       "    </tr>\n",
       "    <tr>\n",
       "      <th>...</th>\n",
       "      <td>...</td>\n",
       "      <td>...</td>\n",
       "      <td>...</td>\n",
       "      <td>...</td>\n",
       "      <td>...</td>\n",
       "      <td>...</td>\n",
       "      <td>...</td>\n",
       "      <td>...</td>\n",
       "      <td>...</td>\n",
       "      <td>...</td>\n",
       "      <td>...</td>\n",
       "      <td>...</td>\n",
       "      <td>...</td>\n",
       "      <td>...</td>\n",
       "      <td>...</td>\n",
       "    </tr>\n",
       "    <tr>\n",
       "      <th>6668168</th>\n",
       "      <td>2019-01-31 23:08:27</td>\n",
       "      <td>2019-01-31 23:22:59</td>\n",
       "      <td>255</td>\n",
       "      <td>226.0</td>\n",
       "      <td>3.33</td>\n",
       "      <td>13.0</td>\n",
       "      <td>18.39</td>\n",
       "      <td>2019-01-31</td>\n",
       "      <td>1</td>\n",
       "      <td>2019</td>\n",
       "      <td>3</td>\n",
       "      <td>23</td>\n",
       "      <td>14.533333</td>\n",
       "      <td>13.747706</td>\n",
       "      <td>2019-01-31</td>\n",
       "    </tr>\n",
       "    <tr>\n",
       "      <th>6668169</th>\n",
       "      <td>2019-01-31 23:21:26</td>\n",
       "      <td>2019-01-31 23:23:05</td>\n",
       "      <td>75</td>\n",
       "      <td>151.0</td>\n",
       "      <td>0.72</td>\n",
       "      <td>4.0</td>\n",
       "      <td>6.36</td>\n",
       "      <td>2019-01-31</td>\n",
       "      <td>1</td>\n",
       "      <td>2019</td>\n",
       "      <td>3</td>\n",
       "      <td>23</td>\n",
       "      <td>1.650000</td>\n",
       "      <td>26.181818</td>\n",
       "      <td>2019-01-31</td>\n",
       "    </tr>\n",
       "    <tr>\n",
       "      <th>6668170</th>\n",
       "      <td>2019-01-31 23:30:05</td>\n",
       "      <td>2019-01-31 23:36:14</td>\n",
       "      <td>75</td>\n",
       "      <td>238.0</td>\n",
       "      <td>1.75</td>\n",
       "      <td>7.0</td>\n",
       "      <td>8.30</td>\n",
       "      <td>2019-01-31</td>\n",
       "      <td>1</td>\n",
       "      <td>2019</td>\n",
       "      <td>3</td>\n",
       "      <td>23</td>\n",
       "      <td>6.150000</td>\n",
       "      <td>17.073171</td>\n",
       "      <td>2019-01-31</td>\n",
       "    </tr>\n",
       "    <tr>\n",
       "      <th>6668171</th>\n",
       "      <td>2019-01-31 23:59:58</td>\n",
       "      <td>2019-02-01 00:04:18</td>\n",
       "      <td>74</td>\n",
       "      <td>74.0</td>\n",
       "      <td>0.57</td>\n",
       "      <td>5.0</td>\n",
       "      <td>7.30</td>\n",
       "      <td>2019-01-31</td>\n",
       "      <td>1</td>\n",
       "      <td>2019</td>\n",
       "      <td>3</td>\n",
       "      <td>23</td>\n",
       "      <td>4.333333</td>\n",
       "      <td>7.892308</td>\n",
       "      <td>2019-01-31</td>\n",
       "    </tr>\n",
       "    <tr>\n",
       "      <th>6668172</th>\n",
       "      <td>2019-01-31 23:18:22</td>\n",
       "      <td>2019-01-31 23:26:06</td>\n",
       "      <td>75</td>\n",
       "      <td>262.0</td>\n",
       "      <td>2.11</td>\n",
       "      <td>8.5</td>\n",
       "      <td>11.76</td>\n",
       "      <td>2019-01-31</td>\n",
       "      <td>1</td>\n",
       "      <td>2019</td>\n",
       "      <td>3</td>\n",
       "      <td>23</td>\n",
       "      <td>7.733333</td>\n",
       "      <td>16.370690</td>\n",
       "      <td>2019-01-31</td>\n",
       "    </tr>\n",
       "  </tbody>\n",
       "</table>\n",
       "<p>6387664 rows × 15 columns</p>\n",
       "</div>"
      ],
      "text/plain": [
       "        lpep_pickup_datetime lpep_dropoff_datetime  PULocationID  \\\n",
       "1        2019-08-01 00:11:35   2019-08-01 00:25:53            66   \n",
       "2        2019-08-01 00:56:09   2019-08-01 01:12:02            65   \n",
       "3        2019-07-31 23:59:42   2019-08-01 00:11:44            25   \n",
       "4        2019-08-01 00:20:34   2019-08-01 00:28:44            75   \n",
       "5        2019-08-01 00:29:16   2019-08-01 00:46:21            65   \n",
       "...                      ...                   ...           ...   \n",
       "6668168  2019-01-31 23:08:27   2019-01-31 23:22:59           255   \n",
       "6668169  2019-01-31 23:21:26   2019-01-31 23:23:05            75   \n",
       "6668170  2019-01-31 23:30:05   2019-01-31 23:36:14            75   \n",
       "6668171  2019-01-31 23:59:58   2019-02-01 00:04:18            74   \n",
       "6668172  2019-01-31 23:18:22   2019-01-31 23:26:06            75   \n",
       "\n",
       "         DOLocationID  trip_distance  fare_amount  total_amount        Date  \\\n",
       "1                49.0           2.55         11.5         15.36  2019-08-01   \n",
       "2                68.0           4.33         15.5         21.55  2019-08-01   \n",
       "3               133.0           3.85         13.0         16.30  2019-07-31   \n",
       "4               263.0           1.30          7.5         12.55  2019-08-01   \n",
       "5               198.0           5.25         17.5         20.80  2019-08-01   \n",
       "...               ...            ...          ...           ...         ...   \n",
       "6668168         226.0           3.33         13.0         18.39  2019-01-31   \n",
       "6668169         151.0           0.72          4.0          6.36  2019-01-31   \n",
       "6668170         238.0           1.75          7.0          8.30  2019-01-31   \n",
       "6668171          74.0           0.57          5.0          7.30  2019-01-31   \n",
       "6668172         262.0           2.11          8.5         11.76  2019-01-31   \n",
       "\n",
       "         Month  Year  DOW  Hour  trip_duration      speed    Date_str  \n",
       "1            8  2019    3     0      14.300000  10.699301  2019-08-01  \n",
       "2            8  2019    3     0      15.883333  16.356768  2019-08-01  \n",
       "3            7  2019    2    23      12.033333  19.196676  2019-07-31  \n",
       "4            8  2019    3     0       8.166667   9.551020  2019-08-01  \n",
       "5            8  2019    3     0      17.083333  18.439024  2019-08-01  \n",
       "...        ...   ...  ...   ...            ...        ...         ...  \n",
       "6668168      1  2019    3    23      14.533333  13.747706  2019-01-31  \n",
       "6668169      1  2019    3    23       1.650000  26.181818  2019-01-31  \n",
       "6668170      1  2019    3    23       6.150000  17.073171  2019-01-31  \n",
       "6668171      1  2019    3    23       4.333333   7.892308  2019-01-31  \n",
       "6668172      1  2019    3    23       7.733333  16.370690  2019-01-31  \n",
       "\n",
       "[6387664 rows x 15 columns]"
      ]
     },
     "execution_count": 42,
     "metadata": {},
     "output_type": "execute_result"
    }
   ],
   "source": [
    "dfTaxi['Date_str']=dfTaxi['Date'].astype(str)\n",
    "dfTaxi"
   ]
  },
  {
   "cell_type": "code",
   "execution_count": 43,
   "metadata": {},
   "outputs": [
    {
     "data": {
      "text/html": [
       "<div>\n",
       "<style scoped>\n",
       "    .dataframe tbody tr th:only-of-type {\n",
       "        vertical-align: middle;\n",
       "    }\n",
       "\n",
       "    .dataframe tbody tr th {\n",
       "        vertical-align: top;\n",
       "    }\n",
       "\n",
       "    .dataframe thead th {\n",
       "        text-align: right;\n",
       "    }\n",
       "</style>\n",
       "<table border=\"1\" class=\"dataframe\">\n",
       "  <thead>\n",
       "    <tr style=\"text-align: right;\">\n",
       "      <th></th>\n",
       "      <th>lpep_pickup_datetime</th>\n",
       "      <th>lpep_dropoff_datetime</th>\n",
       "      <th>PULocationID</th>\n",
       "      <th>DOLocationID</th>\n",
       "      <th>trip_distance</th>\n",
       "      <th>fare_amount</th>\n",
       "      <th>total_amount</th>\n",
       "      <th>Date</th>\n",
       "      <th>Month</th>\n",
       "      <th>Year</th>\n",
       "      <th>DOW</th>\n",
       "      <th>Hour</th>\n",
       "      <th>trip_duration</th>\n",
       "      <th>speed</th>\n",
       "      <th>Date_str</th>\n",
       "    </tr>\n",
       "  </thead>\n",
       "  <tbody>\n",
       "    <tr>\n",
       "      <th>839374</th>\n",
       "      <td>2019-10-01 00:02:03</td>\n",
       "      <td>2019-10-01 00:03:34</td>\n",
       "      <td>166</td>\n",
       "      <td>166.0</td>\n",
       "      <td>0.36</td>\n",
       "      <td>3.50</td>\n",
       "      <td>4.80</td>\n",
       "      <td>2019-10-01</td>\n",
       "      <td>10</td>\n",
       "      <td>2019</td>\n",
       "      <td>1</td>\n",
       "      <td>0</td>\n",
       "      <td>1.516667</td>\n",
       "      <td>14.241758</td>\n",
       "      <td>2019-10-01</td>\n",
       "    </tr>\n",
       "    <tr>\n",
       "      <th>839576</th>\n",
       "      <td>2019-10-01 00:02:07</td>\n",
       "      <td>2019-10-01 00:12:34</td>\n",
       "      <td>130</td>\n",
       "      <td>205.0</td>\n",
       "      <td>2.85</td>\n",
       "      <td>11.00</td>\n",
       "      <td>12.30</td>\n",
       "      <td>2019-10-01</td>\n",
       "      <td>10</td>\n",
       "      <td>2019</td>\n",
       "      <td>1</td>\n",
       "      <td>0</td>\n",
       "      <td>10.450000</td>\n",
       "      <td>16.363636</td>\n",
       "      <td>2019-10-01</td>\n",
       "    </tr>\n",
       "    <tr>\n",
       "      <th>839614</th>\n",
       "      <td>2019-10-01 00:00:05</td>\n",
       "      <td>2019-10-01 00:05:50</td>\n",
       "      <td>256</td>\n",
       "      <td>37.0</td>\n",
       "      <td>1.21</td>\n",
       "      <td>6.50</td>\n",
       "      <td>9.36</td>\n",
       "      <td>2019-10-01</td>\n",
       "      <td>10</td>\n",
       "      <td>2019</td>\n",
       "      <td>1</td>\n",
       "      <td>0</td>\n",
       "      <td>5.750000</td>\n",
       "      <td>12.626087</td>\n",
       "      <td>2019-10-01</td>\n",
       "    </tr>\n",
       "    <tr>\n",
       "      <th>2124647</th>\n",
       "      <td>2019-10-01 00:26:02</td>\n",
       "      <td>2019-10-01 00:39:58</td>\n",
       "      <td>112</td>\n",
       "      <td>196.0</td>\n",
       "      <td>5.88</td>\n",
       "      <td>18.00</td>\n",
       "      <td>19.30</td>\n",
       "      <td>2019-10-01</td>\n",
       "      <td>10</td>\n",
       "      <td>2019</td>\n",
       "      <td>1</td>\n",
       "      <td>0</td>\n",
       "      <td>13.933333</td>\n",
       "      <td>25.320574</td>\n",
       "      <td>2019-10-01</td>\n",
       "    </tr>\n",
       "    <tr>\n",
       "      <th>2124648</th>\n",
       "      <td>2019-10-01 00:18:11</td>\n",
       "      <td>2019-10-01 00:22:38</td>\n",
       "      <td>43</td>\n",
       "      <td>263.0</td>\n",
       "      <td>0.80</td>\n",
       "      <td>5.00</td>\n",
       "      <td>9.05</td>\n",
       "      <td>2019-10-01</td>\n",
       "      <td>10</td>\n",
       "      <td>2019</td>\n",
       "      <td>1</td>\n",
       "      <td>0</td>\n",
       "      <td>4.450000</td>\n",
       "      <td>10.786517</td>\n",
       "      <td>2019-10-01</td>\n",
       "    </tr>\n",
       "    <tr>\n",
       "      <th>...</th>\n",
       "      <td>...</td>\n",
       "      <td>...</td>\n",
       "      <td>...</td>\n",
       "      <td>...</td>\n",
       "      <td>...</td>\n",
       "      <td>...</td>\n",
       "      <td>...</td>\n",
       "      <td>...</td>\n",
       "      <td>...</td>\n",
       "      <td>...</td>\n",
       "      <td>...</td>\n",
       "      <td>...</td>\n",
       "      <td>...</td>\n",
       "      <td>...</td>\n",
       "      <td>...</td>\n",
       "    </tr>\n",
       "    <tr>\n",
       "      <th>2513732</th>\n",
       "      <td>2019-10-01 23:23:00</td>\n",
       "      <td>2019-10-02 00:00:00</td>\n",
       "      <td>61</td>\n",
       "      <td>42.0</td>\n",
       "      <td>16.53</td>\n",
       "      <td>46.75</td>\n",
       "      <td>50.00</td>\n",
       "      <td>2019-10-01</td>\n",
       "      <td>10</td>\n",
       "      <td>2019</td>\n",
       "      <td>1</td>\n",
       "      <td>23</td>\n",
       "      <td>37.000000</td>\n",
       "      <td>26.805405</td>\n",
       "      <td>2019-10-01</td>\n",
       "    </tr>\n",
       "    <tr>\n",
       "      <th>2513733</th>\n",
       "      <td>2019-10-01 23:07:00</td>\n",
       "      <td>2019-10-01 23:39:00</td>\n",
       "      <td>205</td>\n",
       "      <td>195.0</td>\n",
       "      <td>19.00</td>\n",
       "      <td>55.88</td>\n",
       "      <td>59.13</td>\n",
       "      <td>2019-10-01</td>\n",
       "      <td>10</td>\n",
       "      <td>2019</td>\n",
       "      <td>1</td>\n",
       "      <td>23</td>\n",
       "      <td>32.000000</td>\n",
       "      <td>35.625000</td>\n",
       "      <td>2019-10-01</td>\n",
       "    </tr>\n",
       "    <tr>\n",
       "      <th>2513734</th>\n",
       "      <td>2019-10-01 23:29:00</td>\n",
       "      <td>2019-10-01 23:51:00</td>\n",
       "      <td>42</td>\n",
       "      <td>158.0</td>\n",
       "      <td>7.36</td>\n",
       "      <td>37.28</td>\n",
       "      <td>40.53</td>\n",
       "      <td>2019-10-01</td>\n",
       "      <td>10</td>\n",
       "      <td>2019</td>\n",
       "      <td>1</td>\n",
       "      <td>23</td>\n",
       "      <td>22.000000</td>\n",
       "      <td>20.072727</td>\n",
       "      <td>2019-10-01</td>\n",
       "    </tr>\n",
       "    <tr>\n",
       "      <th>2513735</th>\n",
       "      <td>2019-10-01 23:02:00</td>\n",
       "      <td>2019-10-01 23:21:00</td>\n",
       "      <td>53</td>\n",
       "      <td>38.0</td>\n",
       "      <td>13.01</td>\n",
       "      <td>30.84</td>\n",
       "      <td>34.09</td>\n",
       "      <td>2019-10-01</td>\n",
       "      <td>10</td>\n",
       "      <td>2019</td>\n",
       "      <td>1</td>\n",
       "      <td>23</td>\n",
       "      <td>19.000000</td>\n",
       "      <td>41.084211</td>\n",
       "      <td>2019-10-01</td>\n",
       "    </tr>\n",
       "    <tr>\n",
       "      <th>2513736</th>\n",
       "      <td>2019-10-01 23:00:00</td>\n",
       "      <td>2019-10-01 23:15:00</td>\n",
       "      <td>252</td>\n",
       "      <td>213.0</td>\n",
       "      <td>5.46</td>\n",
       "      <td>26.63</td>\n",
       "      <td>36.00</td>\n",
       "      <td>2019-10-01</td>\n",
       "      <td>10</td>\n",
       "      <td>2019</td>\n",
       "      <td>1</td>\n",
       "      <td>23</td>\n",
       "      <td>15.000000</td>\n",
       "      <td>21.840000</td>\n",
       "      <td>2019-10-01</td>\n",
       "    </tr>\n",
       "  </tbody>\n",
       "</table>\n",
       "<p>13579 rows × 15 columns</p>\n",
       "</div>"
      ],
      "text/plain": [
       "        lpep_pickup_datetime lpep_dropoff_datetime  PULocationID  \\\n",
       "839374   2019-10-01 00:02:03   2019-10-01 00:03:34           166   \n",
       "839576   2019-10-01 00:02:07   2019-10-01 00:12:34           130   \n",
       "839614   2019-10-01 00:00:05   2019-10-01 00:05:50           256   \n",
       "2124647  2019-10-01 00:26:02   2019-10-01 00:39:58           112   \n",
       "2124648  2019-10-01 00:18:11   2019-10-01 00:22:38            43   \n",
       "...                      ...                   ...           ...   \n",
       "2513732  2019-10-01 23:23:00   2019-10-02 00:00:00            61   \n",
       "2513733  2019-10-01 23:07:00   2019-10-01 23:39:00           205   \n",
       "2513734  2019-10-01 23:29:00   2019-10-01 23:51:00            42   \n",
       "2513735  2019-10-01 23:02:00   2019-10-01 23:21:00            53   \n",
       "2513736  2019-10-01 23:00:00   2019-10-01 23:15:00           252   \n",
       "\n",
       "         DOLocationID  trip_distance  fare_amount  total_amount        Date  \\\n",
       "839374          166.0           0.36         3.50          4.80  2019-10-01   \n",
       "839576          205.0           2.85        11.00         12.30  2019-10-01   \n",
       "839614           37.0           1.21         6.50          9.36  2019-10-01   \n",
       "2124647         196.0           5.88        18.00         19.30  2019-10-01   \n",
       "2124648         263.0           0.80         5.00          9.05  2019-10-01   \n",
       "...               ...            ...          ...           ...         ...   \n",
       "2513732          42.0          16.53        46.75         50.00  2019-10-01   \n",
       "2513733         195.0          19.00        55.88         59.13  2019-10-01   \n",
       "2513734         158.0           7.36        37.28         40.53  2019-10-01   \n",
       "2513735          38.0          13.01        30.84         34.09  2019-10-01   \n",
       "2513736         213.0           5.46        26.63         36.00  2019-10-01   \n",
       "\n",
       "         Month  Year  DOW  Hour  trip_duration      speed    Date_str  \n",
       "839374      10  2019    1     0       1.516667  14.241758  2019-10-01  \n",
       "839576      10  2019    1     0      10.450000  16.363636  2019-10-01  \n",
       "839614      10  2019    1     0       5.750000  12.626087  2019-10-01  \n",
       "2124647     10  2019    1     0      13.933333  25.320574  2019-10-01  \n",
       "2124648     10  2019    1     0       4.450000  10.786517  2019-10-01  \n",
       "...        ...   ...  ...   ...            ...        ...         ...  \n",
       "2513732     10  2019    1    23      37.000000  26.805405  2019-10-01  \n",
       "2513733     10  2019    1    23      32.000000  35.625000  2019-10-01  \n",
       "2513734     10  2019    1    23      22.000000  20.072727  2019-10-01  \n",
       "2513735     10  2019    1    23      19.000000  41.084211  2019-10-01  \n",
       "2513736     10  2019    1    23      15.000000  21.840000  2019-10-01  \n",
       "\n",
       "[13579 rows x 15 columns]"
      ]
     },
     "execution_count": 43,
     "metadata": {},
     "output_type": "execute_result"
    }
   ],
   "source": [
    "oct_2019=dfTaxi[dfTaxi['Date_str']== '2019-10-01']\n",
    "oct_2019"
   ]
  },
  {
   "cell_type": "code",
   "execution_count": 44,
   "metadata": {},
   "outputs": [
    {
     "data": {
      "text/html": [
       "<div>\n",
       "<style scoped>\n",
       "    .dataframe tbody tr th:only-of-type {\n",
       "        vertical-align: middle;\n",
       "    }\n",
       "\n",
       "    .dataframe tbody tr th {\n",
       "        vertical-align: top;\n",
       "    }\n",
       "\n",
       "    .dataframe thead th {\n",
       "        text-align: right;\n",
       "    }\n",
       "</style>\n",
       "<table border=\"1\" class=\"dataframe\">\n",
       "  <thead>\n",
       "    <tr style=\"text-align: right;\">\n",
       "      <th></th>\n",
       "      <th>Hour</th>\n",
       "      <th>AVG_speed</th>\n",
       "    </tr>\n",
       "  </thead>\n",
       "  <tbody>\n",
       "    <tr>\n",
       "      <th>0</th>\n",
       "      <td>0</td>\n",
       "      <td>15.462158</td>\n",
       "    </tr>\n",
       "    <tr>\n",
       "      <th>1</th>\n",
       "      <td>1</td>\n",
       "      <td>15.006791</td>\n",
       "    </tr>\n",
       "    <tr>\n",
       "      <th>2</th>\n",
       "      <td>2</td>\n",
       "      <td>15.089092</td>\n",
       "    </tr>\n",
       "    <tr>\n",
       "      <th>3</th>\n",
       "      <td>3</td>\n",
       "      <td>16.959088</td>\n",
       "    </tr>\n",
       "    <tr>\n",
       "      <th>4</th>\n",
       "      <td>4</td>\n",
       "      <td>20.315675</td>\n",
       "    </tr>\n",
       "    <tr>\n",
       "      <th>5</th>\n",
       "      <td>5</td>\n",
       "      <td>21.163462</td>\n",
       "    </tr>\n",
       "    <tr>\n",
       "      <th>6</th>\n",
       "      <td>6</td>\n",
       "      <td>16.589186</td>\n",
       "    </tr>\n",
       "    <tr>\n",
       "      <th>7</th>\n",
       "      <td>7</td>\n",
       "      <td>13.306396</td>\n",
       "    </tr>\n",
       "    <tr>\n",
       "      <th>8</th>\n",
       "      <td>8</td>\n",
       "      <td>12.561804</td>\n",
       "    </tr>\n",
       "    <tr>\n",
       "      <th>9</th>\n",
       "      <td>9</td>\n",
       "      <td>12.717549</td>\n",
       "    </tr>\n",
       "    <tr>\n",
       "      <th>10</th>\n",
       "      <td>10</td>\n",
       "      <td>13.091677</td>\n",
       "    </tr>\n",
       "    <tr>\n",
       "      <th>11</th>\n",
       "      <td>11</td>\n",
       "      <td>12.593252</td>\n",
       "    </tr>\n",
       "    <tr>\n",
       "      <th>12</th>\n",
       "      <td>12</td>\n",
       "      <td>12.379006</td>\n",
       "    </tr>\n",
       "    <tr>\n",
       "      <th>13</th>\n",
       "      <td>13</td>\n",
       "      <td>12.274375</td>\n",
       "    </tr>\n",
       "    <tr>\n",
       "      <th>14</th>\n",
       "      <td>14</td>\n",
       "      <td>11.541213</td>\n",
       "    </tr>\n",
       "    <tr>\n",
       "      <th>15</th>\n",
       "      <td>15</td>\n",
       "      <td>11.476858</td>\n",
       "    </tr>\n",
       "    <tr>\n",
       "      <th>16</th>\n",
       "      <td>16</td>\n",
       "      <td>11.443773</td>\n",
       "    </tr>\n",
       "    <tr>\n",
       "      <th>17</th>\n",
       "      <td>17</td>\n",
       "      <td>11.420667</td>\n",
       "    </tr>\n",
       "    <tr>\n",
       "      <th>18</th>\n",
       "      <td>18</td>\n",
       "      <td>11.896052</td>\n",
       "    </tr>\n",
       "    <tr>\n",
       "      <th>19</th>\n",
       "      <td>19</td>\n",
       "      <td>12.425314</td>\n",
       "    </tr>\n",
       "    <tr>\n",
       "      <th>20</th>\n",
       "      <td>20</td>\n",
       "      <td>13.228077</td>\n",
       "    </tr>\n",
       "    <tr>\n",
       "      <th>21</th>\n",
       "      <td>21</td>\n",
       "      <td>13.435931</td>\n",
       "    </tr>\n",
       "    <tr>\n",
       "      <th>22</th>\n",
       "      <td>22</td>\n",
       "      <td>14.178889</td>\n",
       "    </tr>\n",
       "    <tr>\n",
       "      <th>23</th>\n",
       "      <td>23</td>\n",
       "      <td>15.490702</td>\n",
       "    </tr>\n",
       "  </tbody>\n",
       "</table>\n",
       "</div>"
      ],
      "text/plain": [
       "    Hour  AVG_speed\n",
       "0      0  15.462158\n",
       "1      1  15.006791\n",
       "2      2  15.089092\n",
       "3      3  16.959088\n",
       "4      4  20.315675\n",
       "5      5  21.163462\n",
       "6      6  16.589186\n",
       "7      7  13.306396\n",
       "8      8  12.561804\n",
       "9      9  12.717549\n",
       "10    10  13.091677\n",
       "11    11  12.593252\n",
       "12    12  12.379006\n",
       "13    13  12.274375\n",
       "14    14  11.541213\n",
       "15    15  11.476858\n",
       "16    16  11.443773\n",
       "17    17  11.420667\n",
       "18    18  11.896052\n",
       "19    19  12.425314\n",
       "20    20  13.228077\n",
       "21    21  13.435931\n",
       "22    22  14.178889\n",
       "23    23  15.490702"
      ]
     },
     "execution_count": 44,
     "metadata": {},
     "output_type": "execute_result"
    }
   ],
   "source": [
    "#a) Compute average travel speed per each hour of the day and visuale as a bar plot.\n",
    "oct_2019_2=oct_2019.groupby(['Hour']). agg({'speed':'mean'}).rename(columns={'speed': 'AVG_speed'}).reset_index()\n",
    "oct_2019_2"
   ]
  },
  {
   "cell_type": "code",
   "execution_count": 45,
   "metadata": {},
   "outputs": [
    {
     "data": {
      "text/plain": [
       "<AxesSubplot:title={'center':'Average travel speed per each hour of the day'}, xlabel='Hour'>"
      ]
     },
     "execution_count": 45,
     "metadata": {},
     "output_type": "execute_result"
    },
    {
     "data": {
      "image/png": "[encoded data removed]",
      "text/plain": [
       "<Figure size 432x288 with 1 Axes>"
      ]
     },
     "metadata": {
      "needs_background": "light"
     },
     "output_type": "display_data"
    }
   ],
   "source": [
    "oct_2019_2.plot.bar(x=\"Hour\", y=\"AVG_speed\", rot=70, title='Average travel speed per each hour of the day')"
   ]
  },
  {
   "cell_type": "code",
   "execution_count": 46,
   "metadata": {},
   "outputs": [
    {
     "data": {
      "text/plain": [
       "<matplotlib.legend.Legend at 0x7f930c238280>"
      ]
     },
     "execution_count": 46,
     "metadata": {},
     "output_type": "execute_result"
    },
    {
     "data": {
      "image/png": "[encoded data removed]",
      "text/plain": [
       "<Figure size 432x288 with 1 Axes>"
      ]
     },
     "metadata": {
      "needs_background": "light"
     },
     "output_type": "display_data"
    }
   ],
   "source": [
    "#Compare the speed distributions for: b) trip samples within an hour of 9am (Hour=9) and an hour of 10am\n",
    "##histograms of speed distributions for trip samples within an hour of 9am (Hour=9) and an hour of 10am\n",
    "plt.hist(oct_2019.loc[oct_2019['Hour'] == 9]['speed'].values,bins=30,label='2019')\n",
    "plt.hist(oct_2019.loc[oct_2019['Hour'] == 10]['speed'].values,bins=30,label='2019')\n",
    "plt.legend()"
   ]
  },
  {
   "cell_type": "code",
   "execution_count": 47,
   "metadata": {},
   "outputs": [
    {
     "data": {
      "text/plain": [
       "Ttest_indResult(statistic=-1.173277394807621, pvalue=0.2408567402829922)"
      ]
     },
     "execution_count": 47,
     "metadata": {},
     "output_type": "execute_result"
    }
   ],
   "source": [
    "#speed distributions for trip samples within an hour of 9am (Hour=9) and an hour of 10am looks slighly differet\n",
    "## t-test between hour of 9am (Hour=9) and an hour of 10am distributions\n",
    "stats.ttest_ind(oct_2019.loc[oct_2019['Hour'] == 9]['speed'],oct_2019.loc[oct_2019['Hour'] == 10]['speed'])"
   ]
  },
  {
   "cell_type": "code",
   "execution_count": 48,
   "metadata": {},
   "outputs": [
    {
     "data": {
      "text/plain": [
       "KstestResult(statistic=0.04866545344252351, pvalue=0.2793212653142807)"
      ]
     },
     "execution_count": 48,
     "metadata": {},
     "output_type": "execute_result"
    }
   ],
   "source": [
    "## K-S test\n",
    "stats.ks_2samp(oct_2019.loc[oct_2019['Hour'] == 9]['speed'],oct_2019.loc[oct_2019['Hour'] == 10]['speed'])"
   ]
  },
  {
   "cell_type": "code",
   "execution_count": 49,
   "metadata": {},
   "outputs": [],
   "source": [
    "#YES! we can reject the hypothesis that the compared speed samples have the same mean and distribution at a 95% significance level.\n",
    "#As p-values and ks-values are less than 0.5"
   ]
  },
  {
   "cell_type": "code",
   "execution_count": 50,
   "metadata": {},
   "outputs": [
    {
     "data": {
      "text/plain": [
       "<matplotlib.legend.Legend at 0x7f930c0db5b0>"
      ]
     },
     "execution_count": 50,
     "metadata": {},
     "output_type": "execute_result"
    },
    {
     "data": {
      "image/png": "[encoded data removed]",
      "text/plain": [
       "<Figure size 432x288 with 1 Axes>"
      ]
     },
     "metadata": {
      "needs_background": "light"
     },
     "output_type": "display_data"
    }
   ],
   "source": [
    "#c) morning rush hour (two hours of 8 and 9am) and evening rush hour (two hours of 5pm(17) and 6pm(18))\n",
    "##histograms of speed distributions for morning rush hour (two hours of 8 and 9am) and evening rush hour (two hours of 5pm(17) and 6pm(18))\n",
    "plt.hist(oct_2019.loc[((oct_2019['Hour'] == 8) | (oct_2019['Hour'] == 9))]['speed'].values,bins=30,label='2019')\n",
    "plt.hist(oct_2019.loc[((oct_2019['Hour'] == 17) | (oct_2019['Hour'] == 18))]['speed'].values,bins=30,label='2019')\n",
    "plt.legend()"
   ]
  },
  {
   "cell_type": "code",
   "execution_count": 51,
   "metadata": {},
   "outputs": [
    {
     "data": {
      "text/plain": [
       "Ttest_indResult(statistic=5.316218844376528, pvalue=1.1253493376433041e-07)"
      ]
     },
     "execution_count": 51,
     "metadata": {},
     "output_type": "execute_result"
    }
   ],
   "source": [
    "## t-test for morning rush hour (two hours of 8 and 9am) and evening rush hour (two hours of 5pm(17) and 6pm(18))\n",
    "stats.ttest_ind(oct_2019.loc[((oct_2019['Hour'] == 8) | (oct_2019['Hour'] == 9))]['speed'], oct_2019.loc[((oct_2019['Hour'] == 17) | (oct_2019['Hour'] == 18))]['speed'])"
   ]
  },
  {
   "cell_type": "code",
   "execution_count": 52,
   "metadata": {},
   "outputs": [
    {
     "data": {
      "text/plain": [
       "KstestResult(statistic=0.06860517517057287, pvalue=0.0005164093592973096)"
      ]
     },
     "execution_count": 52,
     "metadata": {},
     "output_type": "execute_result"
    }
   ],
   "source": [
    "## K-S test\n",
    "stats.ks_2samp(oct_2019.loc[((oct_2019['Hour'] == 8) | (oct_2019['Hour'] == 9))]['speed'], oct_2019.loc[((oct_2019['Hour'] == 17) | (oct_2019['Hour'] == 18))]['speed'])"
   ]
  },
  {
   "cell_type": "code",
   "execution_count": 53,
   "metadata": {},
   "outputs": [],
   "source": [
    "#Can you reject the hypothesis that the compared speed samples have the same mean(use t-test) and distribution (use ks-test) at a 95% significance level?\n",
    "\n",
    "#YES! we can reject the hypothesis that the compared speed samples have the same mean and distribution at a 95% significance level.\n",
    "#As p-values and ks-values are less than 0.05"
   ]
  },
  {
   "cell_type": "markdown",
   "metadata": {},
   "source": [
    "## Task 2. Travel speed - days of the week (2 pts)\n",
    "Traffic and travel speed also vary during different weekdays. a) Compute average travel speed per each of the 7 days of the week (among all the individual trips happening on Mondays, Tuesdays, Wednesdays etc); visualize those as a bar plot. Then compute average travel speed per each day of the year and perform a pairwise comparison between the distributions of the daily speed averages within different days of the week (i.e. distribution of all Mondays vs all Tuesdays etc). Compute p-value of the ks-test for each pair of the different weekdays and compare with 5\\%. As a results we are expecting a 7*7 pandas dataframe filled with \"reject\" (if p-value below 5\\%), \"keep\" (if p-value above 5\\%) and \"-\" on the diagonal."
   ]
  },
  {
   "cell_type": "code",
   "execution_count": 54,
   "metadata": {
    "deletable": false,
    "nbgrader": {
     "cell_type": "code",
     "checksum": "2ea1b1e20fb0a1d9019a53eec25d00f7",
     "grade": true,
     "grade_id": "cell-715f66bc11a6df95",
     "locked": false,
     "points": 2,
     "schema_version": 3,
     "solution": true,
     "task": false
    }
   },
   "outputs": [
    {
     "data": {
      "text/html": [
       "<div>\n",
       "<style scoped>\n",
       "    .dataframe tbody tr th:only-of-type {\n",
       "        vertical-align: middle;\n",
       "    }\n",
       "\n",
       "    .dataframe tbody tr th {\n",
       "        vertical-align: top;\n",
       "    }\n",
       "\n",
       "    .dataframe thead th {\n",
       "        text-align: right;\n",
       "    }\n",
       "</style>\n",
       "<table border=\"1\" class=\"dataframe\">\n",
       "  <thead>\n",
       "    <tr style=\"text-align: right;\">\n",
       "      <th></th>\n",
       "      <th>lpep_pickup_datetime</th>\n",
       "      <th>lpep_dropoff_datetime</th>\n",
       "      <th>PULocationID</th>\n",
       "      <th>DOLocationID</th>\n",
       "      <th>trip_distance</th>\n",
       "      <th>fare_amount</th>\n",
       "      <th>total_amount</th>\n",
       "      <th>Date</th>\n",
       "      <th>Month</th>\n",
       "      <th>Year</th>\n",
       "      <th>DOW</th>\n",
       "      <th>Hour</th>\n",
       "      <th>trip_duration</th>\n",
       "      <th>speed</th>\n",
       "      <th>Date_str</th>\n",
       "    </tr>\n",
       "  </thead>\n",
       "  <tbody>\n",
       "    <tr>\n",
       "      <th>1</th>\n",
       "      <td>2019-08-01 00:11:35</td>\n",
       "      <td>2019-08-01 00:25:53</td>\n",
       "      <td>66</td>\n",
       "      <td>49.0</td>\n",
       "      <td>2.55</td>\n",
       "      <td>11.5</td>\n",
       "      <td>15.36</td>\n",
       "      <td>2019-08-01</td>\n",
       "      <td>8</td>\n",
       "      <td>2019</td>\n",
       "      <td>3</td>\n",
       "      <td>0</td>\n",
       "      <td>14.300000</td>\n",
       "      <td>10.699301</td>\n",
       "      <td>2019-08-01</td>\n",
       "    </tr>\n",
       "    <tr>\n",
       "      <th>2</th>\n",
       "      <td>2019-08-01 00:56:09</td>\n",
       "      <td>2019-08-01 01:12:02</td>\n",
       "      <td>65</td>\n",
       "      <td>68.0</td>\n",
       "      <td>4.33</td>\n",
       "      <td>15.5</td>\n",
       "      <td>21.55</td>\n",
       "      <td>2019-08-01</td>\n",
       "      <td>8</td>\n",
       "      <td>2019</td>\n",
       "      <td>3</td>\n",
       "      <td>0</td>\n",
       "      <td>15.883333</td>\n",
       "      <td>16.356768</td>\n",
       "      <td>2019-08-01</td>\n",
       "    </tr>\n",
       "    <tr>\n",
       "      <th>3</th>\n",
       "      <td>2019-07-31 23:59:42</td>\n",
       "      <td>2019-08-01 00:11:44</td>\n",
       "      <td>25</td>\n",
       "      <td>133.0</td>\n",
       "      <td>3.85</td>\n",
       "      <td>13.0</td>\n",
       "      <td>16.30</td>\n",
       "      <td>2019-07-31</td>\n",
       "      <td>7</td>\n",
       "      <td>2019</td>\n",
       "      <td>2</td>\n",
       "      <td>23</td>\n",
       "      <td>12.033333</td>\n",
       "      <td>19.196676</td>\n",
       "      <td>2019-07-31</td>\n",
       "    </tr>\n",
       "    <tr>\n",
       "      <th>4</th>\n",
       "      <td>2019-08-01 00:20:34</td>\n",
       "      <td>2019-08-01 00:28:44</td>\n",
       "      <td>75</td>\n",
       "      <td>263.0</td>\n",
       "      <td>1.30</td>\n",
       "      <td>7.5</td>\n",
       "      <td>12.55</td>\n",
       "      <td>2019-08-01</td>\n",
       "      <td>8</td>\n",
       "      <td>2019</td>\n",
       "      <td>3</td>\n",
       "      <td>0</td>\n",
       "      <td>8.166667</td>\n",
       "      <td>9.551020</td>\n",
       "      <td>2019-08-01</td>\n",
       "    </tr>\n",
       "    <tr>\n",
       "      <th>5</th>\n",
       "      <td>2019-08-01 00:29:16</td>\n",
       "      <td>2019-08-01 00:46:21</td>\n",
       "      <td>65</td>\n",
       "      <td>198.0</td>\n",
       "      <td>5.25</td>\n",
       "      <td>17.5</td>\n",
       "      <td>20.80</td>\n",
       "      <td>2019-08-01</td>\n",
       "      <td>8</td>\n",
       "      <td>2019</td>\n",
       "      <td>3</td>\n",
       "      <td>0</td>\n",
       "      <td>17.083333</td>\n",
       "      <td>18.439024</td>\n",
       "      <td>2019-08-01</td>\n",
       "    </tr>\n",
       "    <tr>\n",
       "      <th>...</th>\n",
       "      <td>...</td>\n",
       "      <td>...</td>\n",
       "      <td>...</td>\n",
       "      <td>...</td>\n",
       "      <td>...</td>\n",
       "      <td>...</td>\n",
       "      <td>...</td>\n",
       "      <td>...</td>\n",
       "      <td>...</td>\n",
       "      <td>...</td>\n",
       "      <td>...</td>\n",
       "      <td>...</td>\n",
       "      <td>...</td>\n",
       "      <td>...</td>\n",
       "      <td>...</td>\n",
       "    </tr>\n",
       "    <tr>\n",
       "      <th>6668168</th>\n",
       "      <td>2019-01-31 23:08:27</td>\n",
       "      <td>2019-01-31 23:22:59</td>\n",
       "      <td>255</td>\n",
       "      <td>226.0</td>\n",
       "      <td>3.33</td>\n",
       "      <td>13.0</td>\n",
       "      <td>18.39</td>\n",
       "      <td>2019-01-31</td>\n",
       "      <td>1</td>\n",
       "      <td>2019</td>\n",
       "      <td>3</td>\n",
       "      <td>23</td>\n",
       "      <td>14.533333</td>\n",
       "      <td>13.747706</td>\n",
       "      <td>2019-01-31</td>\n",
       "    </tr>\n",
       "    <tr>\n",
       "      <th>6668169</th>\n",
       "      <td>2019-01-31 23:21:26</td>\n",
       "      <td>2019-01-31 23:23:05</td>\n",
       "      <td>75</td>\n",
       "      <td>151.0</td>\n",
       "      <td>0.72</td>\n",
       "      <td>4.0</td>\n",
       "      <td>6.36</td>\n",
       "      <td>2019-01-31</td>\n",
       "      <td>1</td>\n",
       "      <td>2019</td>\n",
       "      <td>3</td>\n",
       "      <td>23</td>\n",
       "      <td>1.650000</td>\n",
       "      <td>26.181818</td>\n",
       "      <td>2019-01-31</td>\n",
       "    </tr>\n",
       "    <tr>\n",
       "      <th>6668170</th>\n",
       "      <td>2019-01-31 23:30:05</td>\n",
       "      <td>2019-01-31 23:36:14</td>\n",
       "      <td>75</td>\n",
       "      <td>238.0</td>\n",
       "      <td>1.75</td>\n",
       "      <td>7.0</td>\n",
       "      <td>8.30</td>\n",
       "      <td>2019-01-31</td>\n",
       "      <td>1</td>\n",
       "      <td>2019</td>\n",
       "      <td>3</td>\n",
       "      <td>23</td>\n",
       "      <td>6.150000</td>\n",
       "      <td>17.073171</td>\n",
       "      <td>2019-01-31</td>\n",
       "    </tr>\n",
       "    <tr>\n",
       "      <th>6668171</th>\n",
       "      <td>2019-01-31 23:59:58</td>\n",
       "      <td>2019-02-01 00:04:18</td>\n",
       "      <td>74</td>\n",
       "      <td>74.0</td>\n",
       "      <td>0.57</td>\n",
       "      <td>5.0</td>\n",
       "      <td>7.30</td>\n",
       "      <td>2019-01-31</td>\n",
       "      <td>1</td>\n",
       "      <td>2019</td>\n",
       "      <td>3</td>\n",
       "      <td>23</td>\n",
       "      <td>4.333333</td>\n",
       "      <td>7.892308</td>\n",
       "      <td>2019-01-31</td>\n",
       "    </tr>\n",
       "    <tr>\n",
       "      <th>6668172</th>\n",
       "      <td>2019-01-31 23:18:22</td>\n",
       "      <td>2019-01-31 23:26:06</td>\n",
       "      <td>75</td>\n",
       "      <td>262.0</td>\n",
       "      <td>2.11</td>\n",
       "      <td>8.5</td>\n",
       "      <td>11.76</td>\n",
       "      <td>2019-01-31</td>\n",
       "      <td>1</td>\n",
       "      <td>2019</td>\n",
       "      <td>3</td>\n",
       "      <td>23</td>\n",
       "      <td>7.733333</td>\n",
       "      <td>16.370690</td>\n",
       "      <td>2019-01-31</td>\n",
       "    </tr>\n",
       "  </tbody>\n",
       "</table>\n",
       "<p>6387664 rows × 15 columns</p>\n",
       "</div>"
      ],
      "text/plain": [
       "        lpep_pickup_datetime lpep_dropoff_datetime  PULocationID  \\\n",
       "1        2019-08-01 00:11:35   2019-08-01 00:25:53            66   \n",
       "2        2019-08-01 00:56:09   2019-08-01 01:12:02            65   \n",
       "3        2019-07-31 23:59:42   2019-08-01 00:11:44            25   \n",
       "4        2019-08-01 00:20:34   2019-08-01 00:28:44            75   \n",
       "5        2019-08-01 00:29:16   2019-08-01 00:46:21            65   \n",
       "...                      ...                   ...           ...   \n",
       "6668168  2019-01-31 23:08:27   2019-01-31 23:22:59           255   \n",
       "6668169  2019-01-31 23:21:26   2019-01-31 23:23:05            75   \n",
       "6668170  2019-01-31 23:30:05   2019-01-31 23:36:14            75   \n",
       "6668171  2019-01-31 23:59:58   2019-02-01 00:04:18            74   \n",
       "6668172  2019-01-31 23:18:22   2019-01-31 23:26:06            75   \n",
       "\n",
       "         DOLocationID  trip_distance  fare_amount  total_amount        Date  \\\n",
       "1                49.0           2.55         11.5         15.36  2019-08-01   \n",
       "2                68.0           4.33         15.5         21.55  2019-08-01   \n",
       "3               133.0           3.85         13.0         16.30  2019-07-31   \n",
       "4               263.0           1.30          7.5         12.55  2019-08-01   \n",
       "5               198.0           5.25         17.5         20.80  2019-08-01   \n",
       "...               ...            ...          ...           ...         ...   \n",
       "6668168         226.0           3.33         13.0         18.39  2019-01-31   \n",
       "6668169         151.0           0.72          4.0          6.36  2019-01-31   \n",
       "6668170         238.0           1.75          7.0          8.30  2019-01-31   \n",
       "6668171          74.0           0.57          5.0          7.30  2019-01-31   \n",
       "6668172         262.0           2.11          8.5         11.76  2019-01-31   \n",
       "\n",
       "         Month  Year  DOW  Hour  trip_duration      speed    Date_str  \n",
       "1            8  2019    3     0      14.300000  10.699301  2019-08-01  \n",
       "2            8  2019    3     0      15.883333  16.356768  2019-08-01  \n",
       "3            7  2019    2    23      12.033333  19.196676  2019-07-31  \n",
       "4            8  2019    3     0       8.166667   9.551020  2019-08-01  \n",
       "5            8  2019    3     0      17.083333  18.439024  2019-08-01  \n",
       "...        ...   ...  ...   ...            ...        ...         ...  \n",
       "6668168      1  2019    3    23      14.533333  13.747706  2019-01-31  \n",
       "6668169      1  2019    3    23       1.650000  26.181818  2019-01-31  \n",
       "6668170      1  2019    3    23       6.150000  17.073171  2019-01-31  \n",
       "6668171      1  2019    3    23       4.333333   7.892308  2019-01-31  \n",
       "6668172      1  2019    3    23       7.733333  16.370690  2019-01-31  \n",
       "\n",
       "[6387664 rows x 15 columns]"
      ]
     },
     "execution_count": 54,
     "metadata": {},
     "output_type": "execute_result"
    }
   ],
   "source": [
    "# YOUR CODE HERE\n",
    "dfTaxi"
   ]
  },
  {
   "cell_type": "code",
   "execution_count": 55,
   "metadata": {},
   "outputs": [
    {
     "data": {
      "text/html": [
       "<div>\n",
       "<style scoped>\n",
       "    .dataframe tbody tr th:only-of-type {\n",
       "        vertical-align: middle;\n",
       "    }\n",
       "\n",
       "    .dataframe tbody tr th {\n",
       "        vertical-align: top;\n",
       "    }\n",
       "\n",
       "    .dataframe thead th {\n",
       "        text-align: right;\n",
       "    }\n",
       "</style>\n",
       "<table border=\"1\" class=\"dataframe\">\n",
       "  <thead>\n",
       "    <tr style=\"text-align: right;\">\n",
       "      <th></th>\n",
       "      <th>DOW</th>\n",
       "      <th>AVG_speed</th>\n",
       "    </tr>\n",
       "  </thead>\n",
       "  <tbody>\n",
       "    <tr>\n",
       "      <th>0</th>\n",
       "      <td>0</td>\n",
       "      <td>12.541322</td>\n",
       "    </tr>\n",
       "    <tr>\n",
       "      <th>1</th>\n",
       "      <td>1</td>\n",
       "      <td>12.224553</td>\n",
       "    </tr>\n",
       "    <tr>\n",
       "      <th>2</th>\n",
       "      <td>2</td>\n",
       "      <td>12.107320</td>\n",
       "    </tr>\n",
       "    <tr>\n",
       "      <th>3</th>\n",
       "      <td>3</td>\n",
       "      <td>11.911794</td>\n",
       "    </tr>\n",
       "    <tr>\n",
       "      <th>4</th>\n",
       "      <td>4</td>\n",
       "      <td>11.825660</td>\n",
       "    </tr>\n",
       "    <tr>\n",
       "      <th>5</th>\n",
       "      <td>5</td>\n",
       "      <td>12.850901</td>\n",
       "    </tr>\n",
       "    <tr>\n",
       "      <th>6</th>\n",
       "      <td>6</td>\n",
       "      <td>13.625362</td>\n",
       "    </tr>\n",
       "  </tbody>\n",
       "</table>\n",
       "</div>"
      ],
      "text/plain": [
       "   DOW  AVG_speed\n",
       "0    0  12.541322\n",
       "1    1  12.224553\n",
       "2    2  12.107320\n",
       "3    3  11.911794\n",
       "4    4  11.825660\n",
       "5    5  12.850901\n",
       "6    6  13.625362"
      ]
     },
     "execution_count": 55,
     "metadata": {},
     "output_type": "execute_result"
    }
   ],
   "source": [
    "#a) Compute average travel speed per each of the 7 days of the week (among all the individual trips happening on Mondays, Tuesdays, Wednesdays etc)\n",
    "avg_travel_speed_7days= dfTaxi.groupby(['DOW']). agg({'speed':'mean'}).rename(columns={'speed': 'AVG_speed'}).reset_index()\n",
    "avg_travel_speed_7days"
   ]
  },
  {
   "cell_type": "code",
   "execution_count": 56,
   "metadata": {},
   "outputs": [
    {
     "data": {
      "text/plain": [
       "<AxesSubplot:title={'center':'Average travel speed per each of the 7 days of the week'}, xlabel='DOW'>"
      ]
     },
     "execution_count": 56,
     "metadata": {},
     "output_type": "execute_result"
    },
    {
     "data": {
      "image/png": "[encoded data removed]",
      "text/plain": [
       "<Figure size 432x288 with 1 Axes>"
      ]
     },
     "metadata": {
      "needs_background": "light"
     },
     "output_type": "display_data"
    }
   ],
   "source": [
    "#visualize those as a bar plot. \n",
    "avg_travel_speed_7days.plot.bar( x=\"DOW\", y=\"AVG_speed\", rot=70, title='Average travel speed per each of the 7 days of the week')"
   ]
  },
  {
   "cell_type": "code",
   "execution_count": 57,
   "metadata": {},
   "outputs": [
    {
     "data": {
      "text/html": [
       "<div>\n",
       "<style scoped>\n",
       "    .dataframe tbody tr th:only-of-type {\n",
       "        vertical-align: middle;\n",
       "    }\n",
       "\n",
       "    .dataframe tbody tr th {\n",
       "        vertical-align: top;\n",
       "    }\n",
       "\n",
       "    .dataframe thead th {\n",
       "        text-align: right;\n",
       "    }\n",
       "</style>\n",
       "<table border=\"1\" class=\"dataframe\">\n",
       "  <thead>\n",
       "    <tr style=\"text-align: right;\">\n",
       "      <th></th>\n",
       "      <th>DOW</th>\n",
       "      <th>Date</th>\n",
       "      <th>AVG_speed</th>\n",
       "    </tr>\n",
       "  </thead>\n",
       "  <tbody>\n",
       "    <tr>\n",
       "      <th>0</th>\n",
       "      <td>0</td>\n",
       "      <td>2019-01-07</td>\n",
       "      <td>12.575642</td>\n",
       "    </tr>\n",
       "    <tr>\n",
       "      <th>1</th>\n",
       "      <td>0</td>\n",
       "      <td>2019-01-14</td>\n",
       "      <td>12.352215</td>\n",
       "    </tr>\n",
       "    <tr>\n",
       "      <th>2</th>\n",
       "      <td>0</td>\n",
       "      <td>2019-01-21</td>\n",
       "      <td>14.117442</td>\n",
       "    </tr>\n",
       "    <tr>\n",
       "      <th>3</th>\n",
       "      <td>0</td>\n",
       "      <td>2019-01-28</td>\n",
       "      <td>12.528519</td>\n",
       "    </tr>\n",
       "    <tr>\n",
       "      <th>4</th>\n",
       "      <td>0</td>\n",
       "      <td>2019-02-04</td>\n",
       "      <td>12.391450</td>\n",
       "    </tr>\n",
       "    <tr>\n",
       "      <th>...</th>\n",
       "      <td>...</td>\n",
       "      <td>...</td>\n",
       "      <td>...</td>\n",
       "    </tr>\n",
       "    <tr>\n",
       "      <th>510</th>\n",
       "      <td>6</td>\n",
       "      <td>2020-05-31</td>\n",
       "      <td>17.734391</td>\n",
       "    </tr>\n",
       "    <tr>\n",
       "      <th>511</th>\n",
       "      <td>6</td>\n",
       "      <td>2020-06-07</td>\n",
       "      <td>18.271584</td>\n",
       "    </tr>\n",
       "    <tr>\n",
       "      <th>512</th>\n",
       "      <td>6</td>\n",
       "      <td>2020-06-14</td>\n",
       "      <td>17.030476</td>\n",
       "    </tr>\n",
       "    <tr>\n",
       "      <th>513</th>\n",
       "      <td>6</td>\n",
       "      <td>2020-06-21</td>\n",
       "      <td>17.074598</td>\n",
       "    </tr>\n",
       "    <tr>\n",
       "      <th>514</th>\n",
       "      <td>6</td>\n",
       "      <td>2020-06-28</td>\n",
       "      <td>16.635364</td>\n",
       "    </tr>\n",
       "  </tbody>\n",
       "</table>\n",
       "<p>515 rows × 3 columns</p>\n",
       "</div>"
      ],
      "text/plain": [
       "     DOW        Date  AVG_speed\n",
       "0      0  2019-01-07  12.575642\n",
       "1      0  2019-01-14  12.352215\n",
       "2      0  2019-01-21  14.117442\n",
       "3      0  2019-01-28  12.528519\n",
       "4      0  2019-02-04  12.391450\n",
       "..   ...         ...        ...\n",
       "510    6  2020-05-31  17.734391\n",
       "511    6  2020-06-07  18.271584\n",
       "512    6  2020-06-14  17.030476\n",
       "513    6  2020-06-21  17.074598\n",
       "514    6  2020-06-28  16.635364\n",
       "\n",
       "[515 rows x 3 columns]"
      ]
     },
     "execution_count": 57,
     "metadata": {},
     "output_type": "execute_result"
    }
   ],
   "source": [
    "#Then compute average travel speed per each day of the year and perform a pairwise comparison between the distributions \n",
    "#of the daily speed averages within different days of the week (i.e. distribution of all Mondays vs all Tuesdays etc). \n",
    "avg_travel_speed_eachdayofyear= dfTaxi.groupby(['DOW', 'Date']). agg({'speed':'mean'}).rename(columns={'speed': 'AVG_speed'}).reset_index()\n",
    "avg_travel_speed_eachdayofyear"
   ]
  },
  {
   "cell_type": "code",
   "execution_count": 58,
   "metadata": {},
   "outputs": [
    {
     "data": {
      "text/plain": [
       "[0, 1, 2, 3, 4, 5, 6]"
      ]
     },
     "execution_count": 58,
     "metadata": {},
     "output_type": "execute_result"
    }
   ],
   "source": [
    "list(set(avg_travel_speed_eachdayofyear.DOW.unique()))"
   ]
  },
  {
   "cell_type": "code",
   "execution_count": 59,
   "metadata": {},
   "outputs": [
    {
     "data": {
      "text/html": [
       "<div>\n",
       "<style scoped>\n",
       "    .dataframe tbody tr th:only-of-type {\n",
       "        vertical-align: middle;\n",
       "    }\n",
       "\n",
       "    .dataframe tbody tr th {\n",
       "        vertical-align: top;\n",
       "    }\n",
       "\n",
       "    .dataframe thead th {\n",
       "        text-align: right;\n",
       "    }\n",
       "</style>\n",
       "<table border=\"1\" class=\"dataframe\">\n",
       "  <thead>\n",
       "    <tr style=\"text-align: right;\">\n",
       "      <th>DOW2</th>\n",
       "      <th>0</th>\n",
       "      <th>1</th>\n",
       "      <th>2</th>\n",
       "      <th>3</th>\n",
       "      <th>4</th>\n",
       "      <th>5</th>\n",
       "      <th>6</th>\n",
       "    </tr>\n",
       "  </thead>\n",
       "  <tbody>\n",
       "    <tr>\n",
       "      <th>0</th>\n",
       "      <td>-</td>\n",
       "      <td>Keep</td>\n",
       "      <td>Reject</td>\n",
       "      <td>Reject</td>\n",
       "      <td>Reject</td>\n",
       "      <td>Reject</td>\n",
       "      <td>Reject</td>\n",
       "    </tr>\n",
       "    <tr>\n",
       "      <th>1</th>\n",
       "      <td>Keep</td>\n",
       "      <td>-</td>\n",
       "      <td>Keep</td>\n",
       "      <td>Reject</td>\n",
       "      <td>Reject</td>\n",
       "      <td>Reject</td>\n",
       "      <td>Reject</td>\n",
       "    </tr>\n",
       "    <tr>\n",
       "      <th>2</th>\n",
       "      <td>Reject</td>\n",
       "      <td>Keep</td>\n",
       "      <td>-</td>\n",
       "      <td>Keep</td>\n",
       "      <td>Reject</td>\n",
       "      <td>Reject</td>\n",
       "      <td>Reject</td>\n",
       "    </tr>\n",
       "    <tr>\n",
       "      <th>3</th>\n",
       "      <td>Reject</td>\n",
       "      <td>Reject</td>\n",
       "      <td>Keep</td>\n",
       "      <td>-</td>\n",
       "      <td>Keep</td>\n",
       "      <td>Reject</td>\n",
       "      <td>Reject</td>\n",
       "    </tr>\n",
       "    <tr>\n",
       "      <th>4</th>\n",
       "      <td>Reject</td>\n",
       "      <td>Reject</td>\n",
       "      <td>Reject</td>\n",
       "      <td>Keep</td>\n",
       "      <td>-</td>\n",
       "      <td>Reject</td>\n",
       "      <td>Reject</td>\n",
       "    </tr>\n",
       "    <tr>\n",
       "      <th>5</th>\n",
       "      <td>Reject</td>\n",
       "      <td>Reject</td>\n",
       "      <td>Reject</td>\n",
       "      <td>Reject</td>\n",
       "      <td>Reject</td>\n",
       "      <td>-</td>\n",
       "      <td>Reject</td>\n",
       "    </tr>\n",
       "    <tr>\n",
       "      <th>6</th>\n",
       "      <td>Reject</td>\n",
       "      <td>Reject</td>\n",
       "      <td>Reject</td>\n",
       "      <td>Reject</td>\n",
       "      <td>Reject</td>\n",
       "      <td>Reject</td>\n",
       "      <td>-</td>\n",
       "    </tr>\n",
       "  </tbody>\n",
       "</table>\n",
       "</div>"
      ],
      "text/plain": [
       "DOW2       0       1       2       3       4       5       6\n",
       "0          -    Keep  Reject  Reject  Reject  Reject  Reject\n",
       "1       Keep       -    Keep  Reject  Reject  Reject  Reject\n",
       "2     Reject    Keep       -    Keep  Reject  Reject  Reject\n",
       "3     Reject  Reject    Keep       -    Keep  Reject  Reject\n",
       "4     Reject  Reject  Reject    Keep       -  Reject  Reject\n",
       "5     Reject  Reject  Reject  Reject  Reject       -  Reject\n",
       "6     Reject  Reject  Reject  Reject  Reject  Reject       -"
      ]
     },
     "execution_count": 59,
     "metadata": {},
     "output_type": "execute_result"
    }
   ],
   "source": [
    "#As a results we are expecting a 7*7 pandas dataframe filled with \"reject\" (if p-value below 5%), \n",
    "#\"keep\" (if p-value above 5%) and \"-\" on the diagonal.\n",
    "from scipy.stats import ttest_ind\n",
    "df = avg_travel_speed_eachdayofyear\n",
    "DOW = list(set(avg_travel_speed_eachdayofyear.DOW.unique()))\n",
    "lst = []\n",
    "for a in DOW:\n",
    "    for b in DOW:\n",
    "        c =''\n",
    "        ser1 = avg_travel_speed_eachdayofyear.loc[avg_travel_speed_eachdayofyear['DOW'] == a,'AVG_speed']\n",
    "        ser2 = avg_travel_speed_eachdayofyear.loc[avg_travel_speed_eachdayofyear['DOW'] == b, 'AVG_speed']\n",
    "        t,p = stats.ks_2samp(ser1,ser2)\n",
    "\n",
    "        lst.append([a, b, p])\n",
    "        \n",
    "temp2 = pd.DataFrame(lst, columns = ['DOW1','DOW2','p'])\n",
    "temp2\n",
    "\n",
    "temp3 = pd.pivot_table(temp2, values = 'p', index='DOW1', columns = 'DOW2')\n",
    "\n",
    "temp3.index.name = None\n",
    "temp3\n",
    "\n",
    "for i in range(temp3.shape[1]):\n",
    "    for j in range(temp3.shape[0]):\n",
    "        if i == j:\n",
    "            temp3.loc[i,j] = '-'\n",
    "        elif temp3.loc[i,j] < 0.05:\n",
    "            temp3.loc[i,j] = 'Reject'\n",
    "        else:\n",
    "            temp3.loc[i,j] = \"Keep\"\n",
    "temp3       "
   ]
  },
  {
   "cell_type": "markdown",
   "metadata": {},
   "source": [
    "## Task 3. Trip speeds per borough. (3 pts)\n",
    "\n",
    "For the day of Oct, 1, 2019 compute the average trip speed in Brooklyn, Queens and Bronx (by pickup). Then compare the samples of the trip speeds in Brooklyn, Queens and Bronx on that day using t-test and ks-test (pairwise comparison). Fill two 3x3 pandas dataframes (one for t-test, one for ks-test) with p-values for each pair of boroughs. Can we reject the null hypothesis that speed mean/distributions within each pair of boroughs is similar?"
   ]
  },
  {
   "cell_type": "code",
   "execution_count": 60,
   "metadata": {},
   "outputs": [
    {
     "data": {
      "text/html": [
       "<div>\n",
       "<style scoped>\n",
       "    .dataframe tbody tr th:only-of-type {\n",
       "        vertical-align: middle;\n",
       "    }\n",
       "\n",
       "    .dataframe tbody tr th {\n",
       "        vertical-align: top;\n",
       "    }\n",
       "\n",
       "    .dataframe thead th {\n",
       "        text-align: right;\n",
       "    }\n",
       "</style>\n",
       "<table border=\"1\" class=\"dataframe\">\n",
       "  <thead>\n",
       "    <tr style=\"text-align: right;\">\n",
       "      <th></th>\n",
       "      <th>shape_area</th>\n",
       "      <th>objectid</th>\n",
       "      <th>shape_leng</th>\n",
       "      <th>location_id</th>\n",
       "      <th>zone</th>\n",
       "      <th>borough</th>\n",
       "      <th>geometry</th>\n",
       "    </tr>\n",
       "  </thead>\n",
       "  <tbody>\n",
       "    <tr>\n",
       "      <th>0</th>\n",
       "      <td>0.0007823067885</td>\n",
       "      <td>1</td>\n",
       "      <td>0.116357453189</td>\n",
       "      <td>1</td>\n",
       "      <td>Newark Airport</td>\n",
       "      <td>EWR</td>\n",
       "      <td>MULTIPOLYGON (((-74.18445 40.69500, -74.18449 ...</td>\n",
       "    </tr>\n",
       "    <tr>\n",
       "      <th>1</th>\n",
       "      <td>0.00486634037837</td>\n",
       "      <td>2</td>\n",
       "      <td>0.43346966679</td>\n",
       "      <td>2</td>\n",
       "      <td>Jamaica Bay</td>\n",
       "      <td>Queens</td>\n",
       "      <td>MULTIPOLYGON (((-73.82338 40.63899, -73.82277 ...</td>\n",
       "    </tr>\n",
       "    <tr>\n",
       "      <th>2</th>\n",
       "      <td>0.000314414156821</td>\n",
       "      <td>3</td>\n",
       "      <td>0.0843411059012</td>\n",
       "      <td>3</td>\n",
       "      <td>Allerton/Pelham Gardens</td>\n",
       "      <td>Bronx</td>\n",
       "      <td>MULTIPOLYGON (((-73.84793 40.87134, -73.84725 ...</td>\n",
       "    </tr>\n",
       "    <tr>\n",
       "      <th>3</th>\n",
       "      <td>0.000111871946192</td>\n",
       "      <td>4</td>\n",
       "      <td>0.0435665270921</td>\n",
       "      <td>4</td>\n",
       "      <td>Alphabet City</td>\n",
       "      <td>Manhattan</td>\n",
       "      <td>MULTIPOLYGON (((-73.97177 40.72582, -73.97179 ...</td>\n",
       "    </tr>\n",
       "    <tr>\n",
       "      <th>4</th>\n",
       "      <td>0.000497957489363</td>\n",
       "      <td>5</td>\n",
       "      <td>0.0921464898574</td>\n",
       "      <td>5</td>\n",
       "      <td>Arden Heights</td>\n",
       "      <td>Staten Island</td>\n",
       "      <td>MULTIPOLYGON (((-74.17422 40.56257, -74.17349 ...</td>\n",
       "    </tr>\n",
       "    <tr>\n",
       "      <th>5</th>\n",
       "      <td>0.000606460984581</td>\n",
       "      <td>6</td>\n",
       "      <td>0.150490542523</td>\n",
       "      <td>6</td>\n",
       "      <td>Arrochar/Fort Wadsworth</td>\n",
       "      <td>Staten Island</td>\n",
       "      <td>MULTIPOLYGON (((-74.06367 40.60220, -74.06351 ...</td>\n",
       "    </tr>\n",
       "    <tr>\n",
       "      <th>6</th>\n",
       "      <td>0.000389787989274</td>\n",
       "      <td>7</td>\n",
       "      <td>0.107417171123</td>\n",
       "      <td>7</td>\n",
       "      <td>Astoria</td>\n",
       "      <td>Queens</td>\n",
       "      <td>MULTIPOLYGON (((-73.90414 40.76752, -73.90325 ...</td>\n",
       "    </tr>\n",
       "    <tr>\n",
       "      <th>7</th>\n",
       "      <td>0.000026587716279</td>\n",
       "      <td>8</td>\n",
       "      <td>0.0275906911574</td>\n",
       "      <td>8</td>\n",
       "      <td>Astoria Park</td>\n",
       "      <td>Queens</td>\n",
       "      <td>MULTIPOLYGON (((-73.92334 40.77513, -73.92398 ...</td>\n",
       "    </tr>\n",
       "    <tr>\n",
       "      <th>8</th>\n",
       "      <td>0.000338443803197</td>\n",
       "      <td>9</td>\n",
       "      <td>0.0997840924705</td>\n",
       "      <td>9</td>\n",
       "      <td>Auburndale</td>\n",
       "      <td>Queens</td>\n",
       "      <td>MULTIPOLYGON (((-73.78502 40.76104, -73.78486 ...</td>\n",
       "    </tr>\n",
       "    <tr>\n",
       "      <th>9</th>\n",
       "      <td>0.0000607235737749</td>\n",
       "      <td>24</td>\n",
       "      <td>0.0469999619287</td>\n",
       "      <td>24</td>\n",
       "      <td>Bloomingdale</td>\n",
       "      <td>Manhattan</td>\n",
       "      <td>MULTIPOLYGON (((-73.95954 40.79872, -73.96004 ...</td>\n",
       "    </tr>\n",
       "  </tbody>\n",
       "</table>\n",
       "</div>"
      ],
      "text/plain": [
       "           shape_area objectid       shape_leng location_id  \\\n",
       "0     0.0007823067885        1   0.116357453189           1   \n",
       "1    0.00486634037837        2    0.43346966679           2   \n",
       "2   0.000314414156821        3  0.0843411059012           3   \n",
       "3   0.000111871946192        4  0.0435665270921           4   \n",
       "4   0.000497957489363        5  0.0921464898574           5   \n",
       "5   0.000606460984581        6   0.150490542523           6   \n",
       "6   0.000389787989274        7   0.107417171123           7   \n",
       "7   0.000026587716279        8  0.0275906911574           8   \n",
       "8   0.000338443803197        9  0.0997840924705           9   \n",
       "9  0.0000607235737749       24  0.0469999619287          24   \n",
       "\n",
       "                      zone        borough  \\\n",
       "0           Newark Airport            EWR   \n",
       "1              Jamaica Bay         Queens   \n",
       "2  Allerton/Pelham Gardens          Bronx   \n",
       "3            Alphabet City      Manhattan   \n",
       "4            Arden Heights  Staten Island   \n",
       "5  Arrochar/Fort Wadsworth  Staten Island   \n",
       "6                  Astoria         Queens   \n",
       "7             Astoria Park         Queens   \n",
       "8               Auburndale         Queens   \n",
       "9             Bloomingdale      Manhattan   \n",
       "\n",
       "                                            geometry  \n",
       "0  MULTIPOLYGON (((-74.18445 40.69500, -74.18449 ...  \n",
       "1  MULTIPOLYGON (((-73.82338 40.63899, -73.82277 ...  \n",
       "2  MULTIPOLYGON (((-73.84793 40.87134, -73.84725 ...  \n",
       "3  MULTIPOLYGON (((-73.97177 40.72582, -73.97179 ...  \n",
       "4  MULTIPOLYGON (((-74.17422 40.56257, -74.17349 ...  \n",
       "5  MULTIPOLYGON (((-74.06367 40.60220, -74.06351 ...  \n",
       "6  MULTIPOLYGON (((-73.90414 40.76752, -73.90325 ...  \n",
       "7  MULTIPOLYGON (((-73.92334 40.77513, -73.92398 ...  \n",
       "8  MULTIPOLYGON (((-73.78502 40.76104, -73.78486 ...  \n",
       "9  MULTIPOLYGON (((-73.95954 40.79872, -73.96004 ...  "
      ]
     },
     "execution_count": 60,
     "metadata": {},
     "output_type": "execute_result"
    }
   ],
   "source": [
    "taxizone = gpd.read_file('/home/jovyan/shared/Data/taxizone.geojson')\n",
    "taxizone.head(10)"
   ]
  },
  {
   "cell_type": "code",
   "execution_count": 61,
   "metadata": {},
   "outputs": [],
   "source": [
    "taxizone['location_id']=taxizone.location_id.astype(int)"
   ]
  },
  {
   "cell_type": "code",
   "execution_count": 62,
   "metadata": {},
   "outputs": [
    {
     "data": {
      "text/plain": [
       "shape_area       object\n",
       "objectid         object\n",
       "shape_leng       object\n",
       "location_id       int64\n",
       "zone             object\n",
       "borough          object\n",
       "geometry       geometry\n",
       "dtype: object"
      ]
     },
     "execution_count": 62,
     "metadata": {},
     "output_type": "execute_result"
    }
   ],
   "source": [
    "taxizone.dtypes"
   ]
  },
  {
   "cell_type": "code",
   "execution_count": 63,
   "metadata": {
    "deletable": false,
    "nbgrader": {
     "cell_type": "code",
     "checksum": "2234caaa0db408cd6c8c4b60a19d34b9",
     "grade": true,
     "grade_id": "cell-a82be21f68e200e7",
     "locked": false,
     "points": 3,
     "schema_version": 3,
     "solution": true,
     "task": false
    }
   },
   "outputs": [
    {
     "data": {
      "text/plain": [
       "(263, 7)"
      ]
     },
     "execution_count": 63,
     "metadata": {},
     "output_type": "execute_result"
    }
   ],
   "source": [
    "# YOUR CODE HERE\n",
    "taxizone.shape"
   ]
  },
  {
   "cell_type": "code",
   "execution_count": null,
   "metadata": {},
   "outputs": [],
   "source": [
    "oct_1_2019_merge = taxizone.merge(dfTaxi,left_on='location_id',right_on='PULocationID',how='left')\n",
    "oct_1_2019_merge"
   ]
  },
  {
   "cell_type": "code",
   "execution_count": null,
   "metadata": {},
   "outputs": [],
   "source": [
    "oct_1_2019_merge.columns"
   ]
  },
  {
   "cell_type": "code",
   "execution_count": null,
   "metadata": {},
   "outputs": [],
   "source": [
    "oct_1_2019_merge1=oct_1_2019_merge.loc[((oct_1_2019_merge['borough']=='Brooklyn') | (oct_1_2019_merge['borough']=='Queens') |(oct_1_2019_merge['borough']=='Bronx')) & (oct_1_2019_merge['Date_str']=='2019-10-01')]\n",
    "oct_1_2019_merge1"
   ]
  },
  {
   "cell_type": "code",
   "execution_count": null,
   "metadata": {},
   "outputs": [],
   "source": [
    "#For the day of Oct, 1, 2019 compute the average trip speed in Brooklyn, Queens and Bronx (by pickup).\n",
    "oct_1_2019_merge2= oct_1_2019_merge1.groupby(['borough']). agg({'speed':'mean'}).rename(columns={'speed': 'AVG_speed'}).reset_index()\n",
    "oct_1_2019_merge2"
   ]
  },
  {
   "cell_type": "code",
   "execution_count": null,
   "metadata": {},
   "outputs": [],
   "source": [
    "temp1 = oct_1_2019_merge1[['borough','speed']]\n",
    "temp1"
   ]
  },
  {
   "cell_type": "code",
   "execution_count": null,
   "metadata": {},
   "outputs": [],
   "source": [
    "#compare the samples of the trip speeds in Brooklyn, Queens and Bronx on that day using t-test and ks-test (pairwise comparison).\n",
    "#t-test (pairwise comparison)\n",
    "from scipy.stats import ttest_ind\n",
    "bor = ['Bronx','Brooklyn','Queens']\n",
    "lst = []\n",
    "for a in bor:\n",
    "    for b in bor:\n",
    "        print(a,b)\n",
    "        ser1 = temp1.loc[temp1['borough'] == a,'speed']\n",
    "        ser2 = temp1.loc[temp1['borough'] == b, 'speed']\n",
    "        t,p = stats.ttest_ind(ser1,ser2)\n",
    "        lst.append([a, b, p])\n",
    "        \n",
    "temp2 = pd.DataFrame(lst, columns = ['b1','b2','p'])\n",
    "temp2\n",
    "\n",
    "temp3 = pd.pivot_table(temp2, values = 'p', index='b1', columns = 'b2')\n",
    "temp3.index.name = None\n",
    "temp3"
   ]
  },
  {
   "cell_type": "code",
   "execution_count": null,
   "metadata": {},
   "outputs": [],
   "source": [
    "# ks-test (pairwise comparison). \n",
    "from scipy.stats import ttest_ind\n",
    "bor = ['Bronx','Brooklyn','Queens']\n",
    "lst = []\n",
    "for a in bor:\n",
    "    for b in bor:\n",
    "        print(a,b)\n",
    "        ser1 = temp1.loc[temp1['borough'] == a,'speed']\n",
    "        ser2 = temp1.loc[temp1['borough'] == b, 'speed']\n",
    "        t,p = stats.ks_2samp(ser1,ser2)\n",
    "        lst.append([a, b, p])\n",
    "        \n",
    "temp2 = pd.DataFrame(lst, columns = ['b1','b2','p'])\n",
    "temp2\n",
    "\n",
    "temp3 = pd.pivot_table(temp2, values = 'p', index='b1', columns = 'b2')\n",
    "temp3.index.name = None\n",
    "temp3"
   ]
  },
  {
   "cell_type": "code",
   "execution_count": null,
   "metadata": {},
   "outputs": [],
   "source": [
    "#Can we reject the null hypothesis that speed mean/distributions within each pair of boroughs is similar?\n",
    "#YES! we can reject the hypothesis that peed mean/distributions within each pair of boroughs is similar at a 95% significance level.\n",
    "#As p-values and ks-values are less than 0.5"
   ]
  }
 ],
 "metadata": {
  "kernelspec": {
   "display_name": "Python [conda env:PUI]",
   "language": "python",
   "name": "conda-env-PUI-py"
  },
  "language_info": {
   "codemirror_mode": {
    "name": "ipython",
    "version": 3
   },
   "file_extension": ".py",
   "mimetype": "text/x-python",
   "name": "python",
   "nbconvert_exporter": "python",
   "pygments_lexer": "ipython3",
   "version": "3.8.10"
  }
 },
 "nbformat": 4,
 "nbformat_minor": 4
}
