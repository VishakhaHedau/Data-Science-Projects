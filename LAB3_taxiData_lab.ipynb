{
 "cells": [
  {
   "cell_type": "markdown",
   "metadata": {},
   "source": [
    "## TLC Data Lab\n",
    "\n",
    "TLC: Taxi and Limousine commission provides open data for yellow taxis, FHV, shared FHV and green taxis for NYC. Data includes information about each trip containing pick up and drop off times, fare information, number of passengers, miles traveled etc.\n",
    "\n",
    "### Objectives\n",
    "\n",
    "- Cleaning the data - filtering out the outliers and trips with unreasonable parameters\n",
    "- Explore spatial and temporal data distribution of the number of trips, distances etc, fares and the travel speed.\n",
    "- Practice spatial mapping with geopandas\n",
    "\n",
    "### Skills\n",
    "\n",
    "- Data cleaning and sanity checks\n",
    "- convert non-spatial data to spatial with geopandas\n",
    "- visualizing data on the maps"
   ]
  },
  {
   "cell_type": "code",
   "execution_count": 1,
   "metadata": {},
   "outputs": [],
   "source": [
    "import pandas as pd\n",
    "import geopandas as gpd\n",
    "import numpy as np\n",
    "import os\n",
    "import urllib\n",
    "import sys\n",
    "from matplotlib import pyplot as plt\n",
    "%matplotlib inline"
   ]
  },
  {
   "cell_type": "markdown",
   "metadata": {},
   "source": [
    "Downloading TLC yellow taxi data January 2019"
   ]
  },
  {
   "cell_type": "code",
   "execution_count": 2,
   "metadata": {},
   "outputs": [
    {
     "data": {
      "text/html": [
       "<div>\n",
       "<style scoped>\n",
       "    .dataframe tbody tr th:only-of-type {\n",
       "        vertical-align: middle;\n",
       "    }\n",
       "\n",
       "    .dataframe tbody tr th {\n",
       "        vertical-align: top;\n",
       "    }\n",
       "\n",
       "    .dataframe thead th {\n",
       "        text-align: right;\n",
       "    }\n",
       "</style>\n",
       "<table border=\"1\" class=\"dataframe\">\n",
       "  <thead>\n",
       "    <tr style=\"text-align: right;\">\n",
       "      <th></th>\n",
       "      <th>Unnamed: 0</th>\n",
       "      <th>VendorID</th>\n",
       "      <th>tpep_pickup_datetime</th>\n",
       "      <th>tpep_dropoff_datetime</th>\n",
       "      <th>passenger_count</th>\n",
       "      <th>trip_distance</th>\n",
       "      <th>PULocationID</th>\n",
       "      <th>DOLocationID</th>\n",
       "      <th>fare_amount</th>\n",
       "    </tr>\n",
       "  </thead>\n",
       "  <tbody>\n",
       "    <tr>\n",
       "      <th>0</th>\n",
       "      <td>0</td>\n",
       "      <td>1</td>\n",
       "      <td>2019-01-01 00:46:40</td>\n",
       "      <td>2019-01-01 00:53:20</td>\n",
       "      <td>1</td>\n",
       "      <td>1.5</td>\n",
       "      <td>151</td>\n",
       "      <td>239</td>\n",
       "      <td>7.0</td>\n",
       "    </tr>\n",
       "    <tr>\n",
       "      <th>1</th>\n",
       "      <td>1</td>\n",
       "      <td>1</td>\n",
       "      <td>2019-01-01 00:59:47</td>\n",
       "      <td>2019-01-01 01:18:59</td>\n",
       "      <td>1</td>\n",
       "      <td>2.6</td>\n",
       "      <td>239</td>\n",
       "      <td>246</td>\n",
       "      <td>14.0</td>\n",
       "    </tr>\n",
       "    <tr>\n",
       "      <th>2</th>\n",
       "      <td>2</td>\n",
       "      <td>2</td>\n",
       "      <td>2018-12-21 13:48:30</td>\n",
       "      <td>2018-12-21 13:52:40</td>\n",
       "      <td>3</td>\n",
       "      <td>0.0</td>\n",
       "      <td>236</td>\n",
       "      <td>236</td>\n",
       "      <td>4.5</td>\n",
       "    </tr>\n",
       "    <tr>\n",
       "      <th>3</th>\n",
       "      <td>3</td>\n",
       "      <td>2</td>\n",
       "      <td>2018-11-28 15:52:25</td>\n",
       "      <td>2018-11-28 15:55:45</td>\n",
       "      <td>5</td>\n",
       "      <td>0.0</td>\n",
       "      <td>193</td>\n",
       "      <td>193</td>\n",
       "      <td>3.5</td>\n",
       "    </tr>\n",
       "    <tr>\n",
       "      <th>4</th>\n",
       "      <td>4</td>\n",
       "      <td>2</td>\n",
       "      <td>2018-11-28 15:56:57</td>\n",
       "      <td>2018-11-28 15:58:33</td>\n",
       "      <td>5</td>\n",
       "      <td>0.0</td>\n",
       "      <td>193</td>\n",
       "      <td>193</td>\n",
       "      <td>52.0</td>\n",
       "    </tr>\n",
       "  </tbody>\n",
       "</table>\n",
       "</div>"
      ],
      "text/plain": [
       "   Unnamed: 0  VendorID tpep_pickup_datetime tpep_dropoff_datetime  \\\n",
       "0           0         1  2019-01-01 00:46:40   2019-01-01 00:53:20   \n",
       "1           1         1  2019-01-01 00:59:47   2019-01-01 01:18:59   \n",
       "2           2         2  2018-12-21 13:48:30   2018-12-21 13:52:40   \n",
       "3           3         2  2018-11-28 15:52:25   2018-11-28 15:55:45   \n",
       "4           4         2  2018-11-28 15:56:57   2018-11-28 15:58:33   \n",
       "\n",
       "   passenger_count  trip_distance  PULocationID  DOLocationID  fare_amount  \n",
       "0                1            1.5           151           239          7.0  \n",
       "1                1            2.6           239           246         14.0  \n",
       "2                3            0.0           236           236          4.5  \n",
       "3                5            0.0           193           193          3.5  \n",
       "4                5            0.0           193           193         52.0  "
      ]
     },
     "execution_count": 2,
     "metadata": {},
     "output_type": "execute_result"
    }
   ],
   "source": [
    "#upload the data; the file is big, so takes some time, under a minute\n",
    "data = pd.read_csv('/home/jovyan/shared/Data/yellow_trips_19.csv', parse_dates=['tpep_pickup_datetime', 'tpep_dropoff_datetime'])\n",
    "data.head()"
   ]
  },
  {
   "cell_type": "markdown",
   "metadata": {},
   "source": [
    "'PULocationID' and 'DOLocationID' are the pick up and drop off taxi zones. 'fare_amount' is the trip cost, 'trip_distance' is the distance of the trip in miles. We will analyze the trips by travel duration, cost, distances and speed."
   ]
  },
  {
   "cell_type": "code",
   "execution_count": 3,
   "metadata": {},
   "outputs": [
    {
     "data": {
      "text/plain": [
       "Unnamed: 0                        int64\n",
       "VendorID                          int64\n",
       "tpep_pickup_datetime     datetime64[ns]\n",
       "tpep_dropoff_datetime    datetime64[ns]\n",
       "passenger_count                   int64\n",
       "trip_distance                   float64\n",
       "PULocationID                      int64\n",
       "DOLocationID                      int64\n",
       "fare_amount                     float64\n",
       "dtype: object"
      ]
     },
     "execution_count": 3,
     "metadata": {},
     "output_type": "execute_result"
    }
   ],
   "source": [
    "data.dtypes #get the column names with types"
   ]
  },
  {
   "cell_type": "markdown",
   "metadata": {},
   "source": [
    "### creating a column for travel time in minutes"
   ]
  },
  {
   "cell_type": "code",
   "execution_count": 4,
   "metadata": {},
   "outputs": [
    {
     "data": {
      "text/html": [
       "<div>\n",
       "<style scoped>\n",
       "    .dataframe tbody tr th:only-of-type {\n",
       "        vertical-align: middle;\n",
       "    }\n",
       "\n",
       "    .dataframe tbody tr th {\n",
       "        vertical-align: top;\n",
       "    }\n",
       "\n",
       "    .dataframe thead th {\n",
       "        text-align: right;\n",
       "    }\n",
       "</style>\n",
       "<table border=\"1\" class=\"dataframe\">\n",
       "  <thead>\n",
       "    <tr style=\"text-align: right;\">\n",
       "      <th></th>\n",
       "      <th>Unnamed: 0</th>\n",
       "      <th>VendorID</th>\n",
       "      <th>tpep_pickup_datetime</th>\n",
       "      <th>tpep_dropoff_datetime</th>\n",
       "      <th>passenger_count</th>\n",
       "      <th>trip_distance</th>\n",
       "      <th>PULocationID</th>\n",
       "      <th>DOLocationID</th>\n",
       "      <th>fare_amount</th>\n",
       "      <th>trip_duration</th>\n",
       "    </tr>\n",
       "  </thead>\n",
       "  <tbody>\n",
       "    <tr>\n",
       "      <th>0</th>\n",
       "      <td>0</td>\n",
       "      <td>1</td>\n",
       "      <td>2019-01-01 00:46:40</td>\n",
       "      <td>2019-01-01 00:53:20</td>\n",
       "      <td>1</td>\n",
       "      <td>1.5</td>\n",
       "      <td>151</td>\n",
       "      <td>239</td>\n",
       "      <td>7.0</td>\n",
       "      <td>6.666667</td>\n",
       "    </tr>\n",
       "    <tr>\n",
       "      <th>1</th>\n",
       "      <td>1</td>\n",
       "      <td>1</td>\n",
       "      <td>2019-01-01 00:59:47</td>\n",
       "      <td>2019-01-01 01:18:59</td>\n",
       "      <td>1</td>\n",
       "      <td>2.6</td>\n",
       "      <td>239</td>\n",
       "      <td>246</td>\n",
       "      <td>14.0</td>\n",
       "      <td>19.200000</td>\n",
       "    </tr>\n",
       "    <tr>\n",
       "      <th>2</th>\n",
       "      <td>2</td>\n",
       "      <td>2</td>\n",
       "      <td>2018-12-21 13:48:30</td>\n",
       "      <td>2018-12-21 13:52:40</td>\n",
       "      <td>3</td>\n",
       "      <td>0.0</td>\n",
       "      <td>236</td>\n",
       "      <td>236</td>\n",
       "      <td>4.5</td>\n",
       "      <td>4.166667</td>\n",
       "    </tr>\n",
       "    <tr>\n",
       "      <th>3</th>\n",
       "      <td>3</td>\n",
       "      <td>2</td>\n",
       "      <td>2018-11-28 15:52:25</td>\n",
       "      <td>2018-11-28 15:55:45</td>\n",
       "      <td>5</td>\n",
       "      <td>0.0</td>\n",
       "      <td>193</td>\n",
       "      <td>193</td>\n",
       "      <td>3.5</td>\n",
       "      <td>3.333333</td>\n",
       "    </tr>\n",
       "    <tr>\n",
       "      <th>4</th>\n",
       "      <td>4</td>\n",
       "      <td>2</td>\n",
       "      <td>2018-11-28 15:56:57</td>\n",
       "      <td>2018-11-28 15:58:33</td>\n",
       "      <td>5</td>\n",
       "      <td>0.0</td>\n",
       "      <td>193</td>\n",
       "      <td>193</td>\n",
       "      <td>52.0</td>\n",
       "      <td>1.600000</td>\n",
       "    </tr>\n",
       "  </tbody>\n",
       "</table>\n",
       "</div>"
      ],
      "text/plain": [
       "   Unnamed: 0  VendorID tpep_pickup_datetime tpep_dropoff_datetime  \\\n",
       "0           0         1  2019-01-01 00:46:40   2019-01-01 00:53:20   \n",
       "1           1         1  2019-01-01 00:59:47   2019-01-01 01:18:59   \n",
       "2           2         2  2018-12-21 13:48:30   2018-12-21 13:52:40   \n",
       "3           3         2  2018-11-28 15:52:25   2018-11-28 15:55:45   \n",
       "4           4         2  2018-11-28 15:56:57   2018-11-28 15:58:33   \n",
       "\n",
       "   passenger_count  trip_distance  PULocationID  DOLocationID  fare_amount  \\\n",
       "0                1            1.5           151           239          7.0   \n",
       "1                1            2.6           239           246         14.0   \n",
       "2                3            0.0           236           236          4.5   \n",
       "3                5            0.0           193           193          3.5   \n",
       "4                5            0.0           193           193         52.0   \n",
       "\n",
       "   trip_duration  \n",
       "0       6.666667  \n",
       "1      19.200000  \n",
       "2       4.166667  \n",
       "3       3.333333  \n",
       "4       1.600000  "
      ]
     },
     "execution_count": 4,
     "metadata": {},
     "output_type": "execute_result"
    }
   ],
   "source": [
    "data['trip_duration'] = (data['tpep_dropoff_datetime'] - data['tpep_pickup_datetime'])\n",
    "data['trip_duration'] = data['trip_duration'].dt.total_seconds()/60\n",
    "data.head()"
   ]
  },
  {
   "cell_type": "markdown",
   "metadata": {},
   "source": [
    "### creating column for average travel speed (mph)"
   ]
  },
  {
   "cell_type": "code",
   "execution_count": 5,
   "metadata": {},
   "outputs": [],
   "source": [
    "data['speed'] = data['trip_distance']/(data['trip_duration']/60)"
   ]
  },
  {
   "cell_type": "markdown",
   "metadata": {},
   "source": [
    "### check some basic statistics"
   ]
  },
  {
   "cell_type": "code",
   "execution_count": 6,
   "metadata": {},
   "outputs": [
    {
     "data": {
      "text/html": [
       "<div>\n",
       "<style scoped>\n",
       "    .dataframe tbody tr th:only-of-type {\n",
       "        vertical-align: middle;\n",
       "    }\n",
       "\n",
       "    .dataframe tbody tr th {\n",
       "        vertical-align: top;\n",
       "    }\n",
       "\n",
       "    .dataframe thead th {\n",
       "        text-align: right;\n",
       "    }\n",
       "</style>\n",
       "<table border=\"1\" class=\"dataframe\">\n",
       "  <thead>\n",
       "    <tr style=\"text-align: right;\">\n",
       "      <th></th>\n",
       "      <th>trip_distance</th>\n",
       "      <th>trip_duration</th>\n",
       "      <th>fare_amount</th>\n",
       "      <th>speed</th>\n",
       "    </tr>\n",
       "  </thead>\n",
       "  <tbody>\n",
       "    <tr>\n",
       "      <th>count</th>\n",
       "      <td>7.667792e+06</td>\n",
       "      <td>7.667792e+06</td>\n",
       "      <td>7.667792e+06</td>\n",
       "      <td>7.661824e+06</td>\n",
       "    </tr>\n",
       "    <tr>\n",
       "      <th>mean</th>\n",
       "      <td>2.801084e+00</td>\n",
       "      <td>1.648122e+01</td>\n",
       "      <td>1.240941e+01</td>\n",
       "      <td>inf</td>\n",
       "    </tr>\n",
       "    <tr>\n",
       "      <th>std</th>\n",
       "      <td>3.737529e+00</td>\n",
       "      <td>8.181505e+01</td>\n",
       "      <td>2.620721e+02</td>\n",
       "      <td>NaN</td>\n",
       "    </tr>\n",
       "    <tr>\n",
       "      <th>min</th>\n",
       "      <td>0.000000e+00</td>\n",
       "      <td>-8.428050e+04</td>\n",
       "      <td>-3.620000e+02</td>\n",
       "      <td>-4.016583e-02</td>\n",
       "    </tr>\n",
       "    <tr>\n",
       "      <th>25%</th>\n",
       "      <td>9.000000e-01</td>\n",
       "      <td>6.100000e+00</td>\n",
       "      <td>6.000000e+00</td>\n",
       "      <td>7.586553e+00</td>\n",
       "    </tr>\n",
       "    <tr>\n",
       "      <th>50%</th>\n",
       "      <td>1.530000e+00</td>\n",
       "      <td>1.015000e+01</td>\n",
       "      <td>8.500000e+00</td>\n",
       "      <td>1.008621e+01</td>\n",
       "    </tr>\n",
       "    <tr>\n",
       "      <th>75%</th>\n",
       "      <td>2.800000e+00</td>\n",
       "      <td>1.656667e+01</td>\n",
       "      <td>1.350000e+01</td>\n",
       "      <td>1.373333e+01</td>\n",
       "    </tr>\n",
       "    <tr>\n",
       "      <th>max</th>\n",
       "      <td>8.318000e+02</td>\n",
       "      <td>4.364802e+04</td>\n",
       "      <td>6.232599e+05</td>\n",
       "      <td>inf</td>\n",
       "    </tr>\n",
       "  </tbody>\n",
       "</table>\n",
       "</div>"
      ],
      "text/plain": [
       "       trip_distance  trip_duration   fare_amount         speed\n",
       "count   7.667792e+06   7.667792e+06  7.667792e+06  7.661824e+06\n",
       "mean    2.801084e+00   1.648122e+01  1.240941e+01           inf\n",
       "std     3.737529e+00   8.181505e+01  2.620721e+02           NaN\n",
       "min     0.000000e+00  -8.428050e+04 -3.620000e+02 -4.016583e-02\n",
       "25%     9.000000e-01   6.100000e+00  6.000000e+00  7.586553e+00\n",
       "50%     1.530000e+00   1.015000e+01  8.500000e+00  1.008621e+01\n",
       "75%     2.800000e+00   1.656667e+01  1.350000e+01  1.373333e+01\n",
       "max     8.318000e+02   4.364802e+04  6.232599e+05           inf"
      ]
     },
     "execution_count": 6,
     "metadata": {},
     "output_type": "execute_result"
    }
   ],
   "source": [
    "data[['trip_distance', 'trip_duration', 'fare_amount', 'speed']].describe()"
   ]
  },
  {
   "cell_type": "markdown",
   "metadata": {},
   "source": [
    "The total number of records is approximately 7.7M. \n",
    "\n",
    "But we can notice all kinds of issues including zero trip distances, negative durations and fare amounts as well fares, extra high distances, durations and fares as well as resulting negative, NaN and infinite speeds (due to travel time 0 or both travel time and distance 0).\n",
    "\n",
    "So some data cleaning is required\n",
    "\n",
    "Removing the trips with duration 0"
   ]
  },
  {
   "cell_type": "code",
   "execution_count": 7,
   "metadata": {},
   "outputs": [
    {
     "data": {
      "text/plain": [
       "6294"
      ]
     },
     "execution_count": 7,
     "metadata": {},
     "output_type": "execute_result"
    }
   ],
   "source": [
    "sum(data.trip_duration <= 0) #number of trips with non-positive duration"
   ]
  },
  {
   "cell_type": "code",
   "execution_count": 8,
   "metadata": {},
   "outputs": [
    {
     "data": {
      "text/plain": [
       "9557"
      ]
     },
     "execution_count": 8,
     "metadata": {},
     "output_type": "execute_result"
    }
   ],
   "source": [
    "sum(data.fare_amount <= 0) #number of trips with non-positive fare amount"
   ]
  },
  {
   "cell_type": "code",
   "execution_count": 9,
   "metadata": {},
   "outputs": [
    {
     "data": {
      "text/plain": [
       "54770"
      ]
     },
     "execution_count": 9,
     "metadata": {},
     "output_type": "execute_result"
    }
   ],
   "source": [
    "sum(data.trip_distance <= 0) #number of trips with non-positive distance"
   ]
  },
  {
   "cell_type": "code",
   "execution_count": 10,
   "metadata": {},
   "outputs": [],
   "source": [
    "validind = (data.trip_duration > 0) & (data.trip_distance > 0) & (data.fare_amount > 0) #index of valid trips"
   ]
  },
  {
   "cell_type": "code",
   "execution_count": 11,
   "metadata": {},
   "outputs": [
    {
     "data": {
      "text/plain": [
       "61680"
      ]
     },
     "execution_count": 11,
     "metadata": {},
     "output_type": "execute_result"
    }
   ],
   "source": [
    "sum(~validind) #total number of invalid trips"
   ]
  },
  {
   "cell_type": "code",
   "execution_count": 12,
   "metadata": {},
   "outputs": [],
   "source": [
    "#filter the data - positive duration, distance, fare amount\n",
    "data = data[validind]"
   ]
  },
  {
   "cell_type": "code",
   "execution_count": 13,
   "metadata": {},
   "outputs": [
    {
     "data": {
      "text/html": [
       "<div>\n",
       "<style scoped>\n",
       "    .dataframe tbody tr th:only-of-type {\n",
       "        vertical-align: middle;\n",
       "    }\n",
       "\n",
       "    .dataframe tbody tr th {\n",
       "        vertical-align: top;\n",
       "    }\n",
       "\n",
       "    .dataframe thead th {\n",
       "        text-align: right;\n",
       "    }\n",
       "</style>\n",
       "<table border=\"1\" class=\"dataframe\">\n",
       "  <thead>\n",
       "    <tr style=\"text-align: right;\">\n",
       "      <th></th>\n",
       "      <th>trip_distance</th>\n",
       "      <th>trip_duration</th>\n",
       "      <th>fare_amount</th>\n",
       "      <th>speed</th>\n",
       "    </tr>\n",
       "  </thead>\n",
       "  <tbody>\n",
       "    <tr>\n",
       "      <th>count</th>\n",
       "      <td>7.606112e+06</td>\n",
       "      <td>7.606112e+06</td>\n",
       "      <td>7.606112e+06</td>\n",
       "      <td>7.606112e+06</td>\n",
       "    </tr>\n",
       "    <tr>\n",
       "      <th>mean</th>\n",
       "      <td>2.821921e+00</td>\n",
       "      <td>1.659043e+01</td>\n",
       "      <td>1.226454e+01</td>\n",
       "      <td>1.322520e+01</td>\n",
       "    </tr>\n",
       "    <tr>\n",
       "      <th>std</th>\n",
       "      <td>3.741116e+00</td>\n",
       "      <td>7.536785e+01</td>\n",
       "      <td>2.262769e+02</td>\n",
       "      <td>1.375292e+02</td>\n",
       "    </tr>\n",
       "    <tr>\n",
       "      <th>min</th>\n",
       "      <td>1.000000e-02</td>\n",
       "      <td>1.666667e-02</td>\n",
       "      <td>1.000000e-02</td>\n",
       "      <td>4.190188e-04</td>\n",
       "    </tr>\n",
       "    <tr>\n",
       "      <th>25%</th>\n",
       "      <td>9.200000e-01</td>\n",
       "      <td>6.166667e+00</td>\n",
       "      <td>6.000000e+00</td>\n",
       "      <td>7.636364e+00</td>\n",
       "    </tr>\n",
       "    <tr>\n",
       "      <th>50%</th>\n",
       "      <td>1.550000e+00</td>\n",
       "      <td>1.021667e+01</td>\n",
       "      <td>9.000000e+00</td>\n",
       "      <td>1.012048e+01</td>\n",
       "    </tr>\n",
       "    <tr>\n",
       "      <th>75%</th>\n",
       "      <td>2.820000e+00</td>\n",
       "      <td>1.661667e+01</td>\n",
       "      <td>1.350000e+01</td>\n",
       "      <td>1.376771e+01</td>\n",
       "    </tr>\n",
       "    <tr>\n",
       "      <th>max</th>\n",
       "      <td>8.318000e+02</td>\n",
       "      <td>4.364802e+04</td>\n",
       "      <td>6.232599e+05</td>\n",
       "      <td>7.344000e+04</td>\n",
       "    </tr>\n",
       "  </tbody>\n",
       "</table>\n",
       "</div>"
      ],
      "text/plain": [
       "       trip_distance  trip_duration   fare_amount         speed\n",
       "count   7.606112e+06   7.606112e+06  7.606112e+06  7.606112e+06\n",
       "mean    2.821921e+00   1.659043e+01  1.226454e+01  1.322520e+01\n",
       "std     3.741116e+00   7.536785e+01  2.262769e+02  1.375292e+02\n",
       "min     1.000000e-02   1.666667e-02  1.000000e-02  4.190188e-04\n",
       "25%     9.200000e-01   6.166667e+00  6.000000e+00  7.636364e+00\n",
       "50%     1.550000e+00   1.021667e+01  9.000000e+00  1.012048e+01\n",
       "75%     2.820000e+00   1.661667e+01  1.350000e+01  1.376771e+01\n",
       "max     8.318000e+02   4.364802e+04  6.232599e+05  7.344000e+04"
      ]
     },
     "execution_count": 13,
     "metadata": {},
     "output_type": "execute_result"
    }
   ],
   "source": [
    "#recompute the statistics\n",
    "data[['trip_distance', 'trip_duration', 'fare_amount', 'speed']].describe()"
   ]
  },
  {
   "cell_type": "code",
   "execution_count": 14,
   "metadata": {},
   "outputs": [],
   "source": [
    "#now the values are formally valid, but we still see unreasonably small and large values for either quantity"
   ]
  },
  {
   "cell_type": "markdown",
   "metadata": {},
   "source": [
    "### check the distributions for these variables"
   ]
  },
  {
   "cell_type": "code",
   "execution_count": 15,
   "metadata": {},
   "outputs": [
    {
     "data": {
      "image/png": "[encoded data removed]",
      "text/plain": [
       "<Figure size 432x288 with 1 Axes>"
      ]
     },
     "metadata": {
      "needs_background": "light"
     },
     "output_type": "display_data"
    }
   ],
   "source": [
    "#uniform scale histogram for trip distance does not tell much\n",
    "n_bins = 100\n",
    "plt.hist(data.trip_distance, bins=n_bins);"
   ]
  },
  {
   "cell_type": "markdown",
   "metadata": {},
   "source": [
    "log-scale histogram"
   ]
  },
  {
   "cell_type": "code",
   "execution_count": 16,
   "metadata": {},
   "outputs": [],
   "source": [
    "def plot_loghist(x, bins): #introduce a function for plotting a log-scale histogram\n",
    "  #it ensures log-scale binning and label on the original scale\n",
    "    logbins = np.logspace(np.log10(x.min()),np.log10(x.max()),bins)\n",
    "    plt.hist(x, bins=logbins)\n",
    "    plt.xscale('log')"
   ]
  },
  {
   "cell_type": "code",
   "execution_count": 17,
   "metadata": {},
   "outputs": [
    {
     "data": {
      "image/png": "[encoded data removed]",
      "text/plain": [
       "<Figure size 432x288 with 1 Axes>"
      ]
     },
     "metadata": {
      "needs_background": "light"
     },
     "output_type": "display_data"
    }
   ],
   "source": [
    "plot_loghist(data.trip_distance, 100)"
   ]
  },
  {
   "cell_type": "markdown",
   "metadata": {},
   "source": [
    "most of the trips are within 0.2 and 20 miles"
   ]
  },
  {
   "cell_type": "code",
   "execution_count": 18,
   "metadata": {},
   "outputs": [],
   "source": [
    "#use box plot for more detail on the quantiles"
   ]
  },
  {
   "cell_type": "code",
   "execution_count": 19,
   "metadata": {},
   "outputs": [
    {
     "data": {
      "image/png": "[encoded data removed]",
      "text/plain": [
       "<Figure size 432x288 with 1 Axes>"
      ]
     },
     "metadata": {
      "needs_background": "light"
     },
     "output_type": "display_data"
    }
   ],
   "source": [
    "ax = plt.subplot(1, 1, 1)\n",
    "ax.boxplot(np.log10(data.trip_distance), whis=[1, 99]) #box plot of the log trip_distance with 1 and 99 percentiles and the outliers beyond them\n",
    "ax.set_yticks(np.arange(-1, 3))\n",
    "ax.set_yticklabels(10.0**np.arange(-1, 3, 1))\n",
    "ax.set_title('Taxi trip distance distribution, miles')\n",
    "plt.show()"
   ]
  },
  {
   "cell_type": "code",
   "execution_count": 20,
   "metadata": {},
   "outputs": [
    {
     "data": {
      "text/plain": [
       "0.29"
      ]
     },
     "execution_count": 20,
     "metadata": {},
     "output_type": "execute_result"
    }
   ],
   "source": [
    "#Exact 1% percetile\n",
    "data.trip_distance.quantile(0.01)"
   ]
  },
  {
   "cell_type": "code",
   "execution_count": 21,
   "metadata": {},
   "outputs": [
    {
     "data": {
      "text/plain": [
       "18.9"
      ]
     },
     "execution_count": 21,
     "metadata": {},
     "output_type": "execute_result"
    }
   ],
   "source": [
    "#Exact 99% percetile\n",
    "data.trip_distance.quantile(0.99)"
   ]
  },
  {
   "cell_type": "markdown",
   "metadata": {},
   "source": [
    "So while 98% of the trips are within around 0.3-19 miles, some are too short (<0.3 mile) others too long; perpahs trips over 20miles are still possible but those >100miles look unrealistic for NYC (those would be 2.5times the driving distance between Staten Island, northern Bronx or EWR (included in the analysis) and JFK or Far Rockaways, which is around 40miles)."
   ]
  },
  {
   "cell_type": "markdown",
   "metadata": {},
   "source": [
    "check number of trips with high distance (100 miles)"
   ]
  },
  {
   "cell_type": "code",
   "execution_count": 22,
   "metadata": {},
   "outputs": [
    {
     "data": {
      "text/plain": [
       "30"
      ]
     },
     "execution_count": 22,
     "metadata": {},
     "output_type": "execute_result"
    }
   ],
   "source": [
    "len(data[data.trip_distance > 100])"
   ]
  },
  {
   "cell_type": "markdown",
   "metadata": {},
   "source": [
    "distribution for speed"
   ]
  },
  {
   "cell_type": "code",
   "execution_count": 23,
   "metadata": {},
   "outputs": [
    {
     "data": {
      "image/png": "[encoded data removed]",
      "text/plain": [
       "<Figure size 432x288 with 1 Axes>"
      ]
     },
     "metadata": {
      "needs_background": "light"
     },
     "output_type": "display_data"
    }
   ],
   "source": [
    "plot_loghist(data.speed, 100)"
   ]
  },
  {
   "cell_type": "code",
   "execution_count": 24,
   "metadata": {},
   "outputs": [
    {
     "data": {
      "image/png": "[encoded data removed]",
      "text/plain": [
       "<Figure size 432x288 with 1 Axes>"
      ]
     },
     "metadata": {
      "needs_background": "light"
     },
     "output_type": "display_data"
    }
   ],
   "source": [
    "ax = plt.subplot(1, 1, 1)\n",
    "ax.boxplot(np.log10(data.speed), whis=[1, 99]) #box plot of the log speed with 1 and 99 percentiles and the outliers beyond them\n",
    "ax.set_yticks(np.arange(-1, 3))\n",
    "ax.set_yticklabels(10.0**np.arange(-1, 3, 1))\n",
    "ax.set_title('Taxi trip speed distribution, mph')\n",
    "plt.show()"
   ]
  },
  {
   "cell_type": "code",
   "execution_count": 25,
   "metadata": {},
   "outputs": [
    {
     "data": {
      "text/plain": [
       "3.126550868486352"
      ]
     },
     "execution_count": 25,
     "metadata": {},
     "output_type": "execute_result"
    }
   ],
   "source": [
    "data.speed.quantile(0.01)"
   ]
  },
  {
   "cell_type": "code",
   "execution_count": 26,
   "metadata": {},
   "outputs": [
    {
     "data": {
      "text/plain": [
       "36.02623276967928"
      ]
     },
     "execution_count": 26,
     "metadata": {},
     "output_type": "execute_result"
    }
   ],
   "source": [
    "data.speed.quantile(0.99)"
   ]
  },
  {
   "cell_type": "markdown",
   "metadata": {},
   "source": [
    "We can use 1% percentile for lower oulier filtering (all those trips are slower than relaxed walk on average). For upper outliers take the max speed limit of 65mph and add 15mph on top as the vehicle might be speeding, but perhaps not all the time."
   ]
  },
  {
   "cell_type": "code",
   "execution_count": 27,
   "metadata": {},
   "outputs": [
    {
     "data": {
      "text/plain": [
       "5938"
      ]
     },
     "execution_count": 27,
     "metadata": {},
     "output_type": "execute_result"
    }
   ],
   "source": [
    "len(data[data.speed > 80]) #number of trips with unreasonably high speed"
   ]
  },
  {
   "cell_type": "markdown",
   "metadata": {},
   "source": [
    "trip duration distribution"
   ]
  },
  {
   "cell_type": "code",
   "execution_count": 28,
   "metadata": {},
   "outputs": [
    {
     "data": {
      "image/png": "[encoded data removed]",
      "text/plain": [
       "<Figure size 432x288 with 1 Axes>"
      ]
     },
     "metadata": {
      "needs_background": "light"
     },
     "output_type": "display_data"
    }
   ],
   "source": [
    "plot_loghist(data.trip_duration, 100)"
   ]
  },
  {
   "cell_type": "markdown",
   "metadata": {},
   "source": [
    "we see some trips with extreme duration - less than 1minute or more than 1000 minutes. Set the range as 1-100 minutes max"
   ]
  },
  {
   "cell_type": "code",
   "execution_count": 29,
   "metadata": {},
   "outputs": [
    {
     "data": {
      "text/plain": [
       "21538"
      ]
     },
     "execution_count": 29,
     "metadata": {},
     "output_type": "execute_result"
    }
   ],
   "source": [
    "len(data[data.trip_duration > 100]) #number of ourliers"
   ]
  },
  {
   "cell_type": "code",
   "execution_count": 30,
   "metadata": {},
   "outputs": [
    {
     "data": {
      "text/plain": [
       "28955"
      ]
     },
     "execution_count": 30,
     "metadata": {},
     "output_type": "execute_result"
    }
   ],
   "source": [
    "len(data[data.trip_duration < 1])"
   ]
  },
  {
   "cell_type": "markdown",
   "metadata": {},
   "source": [
    "fare amount distributions"
   ]
  },
  {
   "cell_type": "code",
   "execution_count": 31,
   "metadata": {},
   "outputs": [
    {
     "data": {
      "image/png": "[encoded data removed]",
      "text/plain": [
       "<Figure size 432x288 with 1 Axes>"
      ]
     },
     "metadata": {
      "needs_background": "light"
     },
     "output_type": "display_data"
    }
   ],
   "source": [
    "plot_loghist(data.fare_amount, 100)"
   ]
  },
  {
   "cell_type": "code",
   "execution_count": 32,
   "metadata": {},
   "outputs": [
    {
     "data": {
      "text/plain": [
       "52.0"
      ]
     },
     "execution_count": 32,
     "metadata": {},
     "output_type": "execute_result"
    }
   ],
   "source": [
    "data.fare_amount.quantile(0.99)"
   ]
  },
  {
   "cell_type": "code",
   "execution_count": 33,
   "metadata": {},
   "outputs": [],
   "source": [
    "#The top 1% of the fares start at $52, although there is some unusual spike around that number - worth investigating, might be some data artifact"
   ]
  },
  {
   "cell_type": "code",
   "execution_count": 34,
   "metadata": {},
   "outputs": [],
   "source": [
    "#for now let's just impose some meaningful range "
   ]
  },
  {
   "cell_type": "code",
   "execution_count": 35,
   "metadata": {},
   "outputs": [
    {
     "data": {
      "text/plain": [
       "82"
      ]
     },
     "execution_count": 35,
     "metadata": {},
     "output_type": "execute_result"
    }
   ],
   "source": [
    "len(data[data.fare_amount > 300]) #extremely high fares"
   ]
  },
  {
   "cell_type": "code",
   "execution_count": 36,
   "metadata": {},
   "outputs": [
    {
     "data": {
      "text/plain": [
       "392"
      ]
     },
     "execution_count": 36,
     "metadata": {},
     "output_type": "execute_result"
    }
   ],
   "source": [
    "len(data[data.fare_amount < 2.5]) #fares below initial charge"
   ]
  },
  {
   "cell_type": "code",
   "execution_count": 37,
   "metadata": {},
   "outputs": [],
   "source": [
    "#based on the above impose the data sanity index\n",
    "sanityindex = (data.fare_amount >= 2.5) & (data.fare_amount <= 300) & \\\n",
    "    (data.trip_distance >= 0.3) & (data.trip_distance <= 100) & \\\n",
    "    (data.speed <= 80) & (data.speed >= 2) & \\\n",
    "    (data.trip_duration <= 100) & (data.trip_duration >= 1)"
   ]
  },
  {
   "cell_type": "code",
   "execution_count": 38,
   "metadata": {},
   "outputs": [
    {
     "data": {
      "text/plain": [
       "111661"
      ]
     },
     "execution_count": 38,
     "metadata": {},
     "output_type": "execute_result"
    }
   ],
   "source": [
    "sum(~sanityindex) #another 111k trips to be discarded"
   ]
  },
  {
   "cell_type": "markdown",
   "metadata": {},
   "source": [
    "### filter out trips with unreasonable values of distance, time, speed and fares"
   ]
  },
  {
   "cell_type": "code",
   "execution_count": 39,
   "metadata": {},
   "outputs": [
    {
     "data": {
      "text/plain": [
       "(7494451, 11)"
      ]
     },
     "execution_count": 39,
     "metadata": {},
     "output_type": "execute_result"
    }
   ],
   "source": [
    "data = data[sanityindex]\n",
    "data.shape #still 7.5M trips survive"
   ]
  },
  {
   "cell_type": "markdown",
   "metadata": {},
   "source": [
    "check distribution now"
   ]
  },
  {
   "cell_type": "code",
   "execution_count": 40,
   "metadata": {},
   "outputs": [
    {
     "data": {
      "text/html": [
       "<div>\n",
       "<style scoped>\n",
       "    .dataframe tbody tr th:only-of-type {\n",
       "        vertical-align: middle;\n",
       "    }\n",
       "\n",
       "    .dataframe tbody tr th {\n",
       "        vertical-align: top;\n",
       "    }\n",
       "\n",
       "    .dataframe thead th {\n",
       "        text-align: right;\n",
       "    }\n",
       "</style>\n",
       "<table border=\"1\" class=\"dataframe\">\n",
       "  <thead>\n",
       "    <tr style=\"text-align: right;\">\n",
       "      <th></th>\n",
       "      <th>trip_distance</th>\n",
       "      <th>trip_duration</th>\n",
       "      <th>fare_amount</th>\n",
       "      <th>speed</th>\n",
       "    </tr>\n",
       "  </thead>\n",
       "  <tbody>\n",
       "    <tr>\n",
       "      <th>count</th>\n",
       "      <td>7.494451e+06</td>\n",
       "      <td>7.494451e+06</td>\n",
       "      <td>7.494451e+06</td>\n",
       "      <td>7.494451e+06</td>\n",
       "    </tr>\n",
       "    <tr>\n",
       "      <th>mean</th>\n",
       "      <td>2.842623e+00</td>\n",
       "      <td>1.301125e+01</td>\n",
       "      <td>1.220449e+01</td>\n",
       "      <td>1.175560e+01</td>\n",
       "    </tr>\n",
       "    <tr>\n",
       "      <th>std</th>\n",
       "      <td>3.700714e+00</td>\n",
       "      <td>9.847805e+00</td>\n",
       "      <td>1.059132e+01</td>\n",
       "      <td>6.312856e+00</td>\n",
       "    </tr>\n",
       "    <tr>\n",
       "      <th>min</th>\n",
       "      <td>3.000000e-01</td>\n",
       "      <td>1.000000e+00</td>\n",
       "      <td>2.500000e+00</td>\n",
       "      <td>2.000000e+00</td>\n",
       "    </tr>\n",
       "    <tr>\n",
       "      <th>25%</th>\n",
       "      <td>9.500000e-01</td>\n",
       "      <td>6.283333e+00</td>\n",
       "      <td>6.000000e+00</td>\n",
       "      <td>7.696793e+00</td>\n",
       "    </tr>\n",
       "    <tr>\n",
       "      <th>50%</th>\n",
       "      <td>1.570000e+00</td>\n",
       "      <td>1.028333e+01</td>\n",
       "      <td>9.000000e+00</td>\n",
       "      <td>1.016129e+01</td>\n",
       "    </tr>\n",
       "    <tr>\n",
       "      <th>75%</th>\n",
       "      <td>2.850000e+00</td>\n",
       "      <td>1.663333e+01</td>\n",
       "      <td>1.350000e+01</td>\n",
       "      <td>1.379221e+01</td>\n",
       "    </tr>\n",
       "    <tr>\n",
       "      <th>max</th>\n",
       "      <td>9.613000e+01</td>\n",
       "      <td>9.995000e+01</td>\n",
       "      <td>3.000000e+02</td>\n",
       "      <td>8.000000e+01</td>\n",
       "    </tr>\n",
       "  </tbody>\n",
       "</table>\n",
       "</div>"
      ],
      "text/plain": [
       "       trip_distance  trip_duration   fare_amount         speed\n",
       "count   7.494451e+06   7.494451e+06  7.494451e+06  7.494451e+06\n",
       "mean    2.842623e+00   1.301125e+01  1.220449e+01  1.175560e+01\n",
       "std     3.700714e+00   9.847805e+00  1.059132e+01  6.312856e+00\n",
       "min     3.000000e-01   1.000000e+00  2.500000e+00  2.000000e+00\n",
       "25%     9.500000e-01   6.283333e+00  6.000000e+00  7.696793e+00\n",
       "50%     1.570000e+00   1.028333e+01  9.000000e+00  1.016129e+01\n",
       "75%     2.850000e+00   1.663333e+01  1.350000e+01  1.379221e+01\n",
       "max     9.613000e+01   9.995000e+01  3.000000e+02  8.000000e+01"
      ]
     },
     "execution_count": 40,
     "metadata": {},
     "output_type": "execute_result"
    }
   ],
   "source": [
    "data[['trip_distance', 'trip_duration', 'fare_amount', 'speed']].describe()"
   ]
  },
  {
   "cell_type": "code",
   "execution_count": 48,
   "metadata": {},
   "outputs": [
    {
     "ename": "OSError",
     "evalue": "[Errno 28] No space left on device",
     "output_type": "error",
     "traceback": [
      "\u001b[0;31m---------------------------------------------------------------------------\u001b[0m",
      "\u001b[0;31mOSError\u001b[0m                                   Traceback (most recent call last)",
      "\u001b[0;32m/tmp/ipykernel_155/1669993062.py\u001b[0m in \u001b[0;36m<module>\u001b[0;34m\u001b[0m\n\u001b[1;32m      1\u001b[0m \u001b[0;31m# let's save this cleaned file #also takes some time up to a couple of min\u001b[0m\u001b[0;34m\u001b[0m\u001b[0;34m\u001b[0m\u001b[0;34m\u001b[0m\u001b[0m\n\u001b[0;32m----> 2\u001b[0;31m \u001b[0mdata\u001b[0m\u001b[0;34m.\u001b[0m\u001b[0mto_csv\u001b[0m\u001b[0;34m(\u001b[0m\u001b[0;34m'yellowTaxi_cleaned.csv'\u001b[0m\u001b[0;34m,\u001b[0m \u001b[0mindex\u001b[0m\u001b[0;34m=\u001b[0m\u001b[0;32mFalse\u001b[0m\u001b[0;34m)\u001b[0m\u001b[0;34m\u001b[0m\u001b[0;34m\u001b[0m\u001b[0m\n\u001b[0m",
      "\u001b[0;32m/opt/conda/envs/PUI/lib/python3.8/site-packages/pandas/core/generic.py\u001b[0m in \u001b[0;36mto_csv\u001b[0;34m(self, path_or_buf, sep, na_rep, float_format, columns, header, index, index_label, mode, encoding, compression, quoting, quotechar, line_terminator, chunksize, date_format, doublequote, escapechar, decimal, errors, storage_options)\u001b[0m\n\u001b[1;32m   3464\u001b[0m         )\n\u001b[1;32m   3465\u001b[0m \u001b[0;34m\u001b[0m\u001b[0m\n\u001b[0;32m-> 3466\u001b[0;31m         return DataFrameRenderer(formatter).to_csv(\n\u001b[0m\u001b[1;32m   3467\u001b[0m             \u001b[0mpath_or_buf\u001b[0m\u001b[0;34m,\u001b[0m\u001b[0;34m\u001b[0m\u001b[0;34m\u001b[0m\u001b[0m\n\u001b[1;32m   3468\u001b[0m             \u001b[0mline_terminator\u001b[0m\u001b[0;34m=\u001b[0m\u001b[0mline_terminator\u001b[0m\u001b[0;34m,\u001b[0m\u001b[0;34m\u001b[0m\u001b[0;34m\u001b[0m\u001b[0m\n",
      "\u001b[0;32m/opt/conda/envs/PUI/lib/python3.8/site-packages/pandas/io/formats/format.py\u001b[0m in \u001b[0;36mto_csv\u001b[0;34m(self, path_or_buf, encoding, sep, columns, index_label, mode, compression, quoting, quotechar, line_terminator, chunksize, date_format, doublequote, escapechar, errors, storage_options)\u001b[0m\n\u001b[1;32m   1103\u001b[0m             \u001b[0mformatter\u001b[0m\u001b[0;34m=\u001b[0m\u001b[0mself\u001b[0m\u001b[0;34m.\u001b[0m\u001b[0mfmt\u001b[0m\u001b[0;34m,\u001b[0m\u001b[0;34m\u001b[0m\u001b[0;34m\u001b[0m\u001b[0m\n\u001b[1;32m   1104\u001b[0m         )\n\u001b[0;32m-> 1105\u001b[0;31m         \u001b[0mcsv_formatter\u001b[0m\u001b[0;34m.\u001b[0m\u001b[0msave\u001b[0m\u001b[0;34m(\u001b[0m\u001b[0;34m)\u001b[0m\u001b[0;34m\u001b[0m\u001b[0;34m\u001b[0m\u001b[0m\n\u001b[0m\u001b[1;32m   1106\u001b[0m \u001b[0;34m\u001b[0m\u001b[0m\n\u001b[1;32m   1107\u001b[0m         \u001b[0;32mif\u001b[0m \u001b[0mcreated_buffer\u001b[0m\u001b[0;34m:\u001b[0m\u001b[0;34m\u001b[0m\u001b[0;34m\u001b[0m\u001b[0m\n",
      "\u001b[0;32m/opt/conda/envs/PUI/lib/python3.8/site-packages/pandas/io/formats/csvs.py\u001b[0m in \u001b[0;36msave\u001b[0;34m(self)\u001b[0m\n\u001b[1;32m    255\u001b[0m             )\n\u001b[1;32m    256\u001b[0m \u001b[0;34m\u001b[0m\u001b[0m\n\u001b[0;32m--> 257\u001b[0;31m             \u001b[0mself\u001b[0m\u001b[0;34m.\u001b[0m\u001b[0m_save\u001b[0m\u001b[0;34m(\u001b[0m\u001b[0;34m)\u001b[0m\u001b[0;34m\u001b[0m\u001b[0;34m\u001b[0m\u001b[0m\n\u001b[0m\u001b[1;32m    258\u001b[0m \u001b[0;34m\u001b[0m\u001b[0m\n\u001b[1;32m    259\u001b[0m     \u001b[0;32mdef\u001b[0m \u001b[0m_save\u001b[0m\u001b[0;34m(\u001b[0m\u001b[0mself\u001b[0m\u001b[0;34m)\u001b[0m \u001b[0;34m->\u001b[0m \u001b[0;32mNone\u001b[0m\u001b[0;34m:\u001b[0m\u001b[0;34m\u001b[0m\u001b[0;34m\u001b[0m\u001b[0m\n",
      "\u001b[0;32m/opt/conda/envs/PUI/lib/python3.8/site-packages/pandas/io/formats/csvs.py\u001b[0m in \u001b[0;36m_save\u001b[0;34m(self)\u001b[0m\n\u001b[1;32m    260\u001b[0m         \u001b[0;32mif\u001b[0m \u001b[0mself\u001b[0m\u001b[0;34m.\u001b[0m\u001b[0m_need_to_save_header\u001b[0m\u001b[0;34m:\u001b[0m\u001b[0;34m\u001b[0m\u001b[0;34m\u001b[0m\u001b[0m\n\u001b[1;32m    261\u001b[0m             \u001b[0mself\u001b[0m\u001b[0;34m.\u001b[0m\u001b[0m_save_header\u001b[0m\u001b[0;34m(\u001b[0m\u001b[0;34m)\u001b[0m\u001b[0;34m\u001b[0m\u001b[0;34m\u001b[0m\u001b[0m\n\u001b[0;32m--> 262\u001b[0;31m         \u001b[0mself\u001b[0m\u001b[0;34m.\u001b[0m\u001b[0m_save_body\u001b[0m\u001b[0;34m(\u001b[0m\u001b[0;34m)\u001b[0m\u001b[0;34m\u001b[0m\u001b[0;34m\u001b[0m\u001b[0m\n\u001b[0m\u001b[1;32m    263\u001b[0m \u001b[0;34m\u001b[0m\u001b[0m\n\u001b[1;32m    264\u001b[0m     \u001b[0;32mdef\u001b[0m \u001b[0m_save_header\u001b[0m\u001b[0;34m(\u001b[0m\u001b[0mself\u001b[0m\u001b[0;34m)\u001b[0m \u001b[0;34m->\u001b[0m \u001b[0;32mNone\u001b[0m\u001b[0;34m:\u001b[0m\u001b[0;34m\u001b[0m\u001b[0;34m\u001b[0m\u001b[0m\n",
      "\u001b[0;32m/opt/conda/envs/PUI/lib/python3.8/site-packages/pandas/io/formats/csvs.py\u001b[0m in \u001b[0;36m_save_body\u001b[0;34m(self)\u001b[0m\n\u001b[1;32m    298\u001b[0m             \u001b[0;32mif\u001b[0m \u001b[0mstart_i\u001b[0m \u001b[0;34m>=\u001b[0m \u001b[0mend_i\u001b[0m\u001b[0;34m:\u001b[0m\u001b[0;34m\u001b[0m\u001b[0;34m\u001b[0m\u001b[0m\n\u001b[1;32m    299\u001b[0m                 \u001b[0;32mbreak\u001b[0m\u001b[0;34m\u001b[0m\u001b[0;34m\u001b[0m\u001b[0m\n\u001b[0;32m--> 300\u001b[0;31m             \u001b[0mself\u001b[0m\u001b[0;34m.\u001b[0m\u001b[0m_save_chunk\u001b[0m\u001b[0;34m(\u001b[0m\u001b[0mstart_i\u001b[0m\u001b[0;34m,\u001b[0m \u001b[0mend_i\u001b[0m\u001b[0;34m)\u001b[0m\u001b[0;34m\u001b[0m\u001b[0;34m\u001b[0m\u001b[0m\n\u001b[0m\u001b[1;32m    301\u001b[0m \u001b[0;34m\u001b[0m\u001b[0m\n\u001b[1;32m    302\u001b[0m     \u001b[0;32mdef\u001b[0m \u001b[0m_save_chunk\u001b[0m\u001b[0;34m(\u001b[0m\u001b[0mself\u001b[0m\u001b[0;34m,\u001b[0m \u001b[0mstart_i\u001b[0m\u001b[0;34m:\u001b[0m \u001b[0mint\u001b[0m\u001b[0;34m,\u001b[0m \u001b[0mend_i\u001b[0m\u001b[0;34m:\u001b[0m \u001b[0mint\u001b[0m\u001b[0;34m)\u001b[0m \u001b[0;34m->\u001b[0m \u001b[0;32mNone\u001b[0m\u001b[0;34m:\u001b[0m\u001b[0;34m\u001b[0m\u001b[0;34m\u001b[0m\u001b[0m\n",
      "\u001b[0;32m/opt/conda/envs/PUI/lib/python3.8/site-packages/pandas/io/formats/csvs.py\u001b[0m in \u001b[0;36m_save_chunk\u001b[0;34m(self, start_i, end_i)\u001b[0m\n\u001b[1;32m    309\u001b[0m \u001b[0;34m\u001b[0m\u001b[0m\n\u001b[1;32m    310\u001b[0m         \u001b[0mix\u001b[0m \u001b[0;34m=\u001b[0m \u001b[0mself\u001b[0m\u001b[0;34m.\u001b[0m\u001b[0mdata_index\u001b[0m\u001b[0;34m[\u001b[0m\u001b[0mslicer\u001b[0m\u001b[0;34m]\u001b[0m\u001b[0;34m.\u001b[0m\u001b[0m_format_native_types\u001b[0m\u001b[0;34m(\u001b[0m\u001b[0;34m**\u001b[0m\u001b[0mself\u001b[0m\u001b[0;34m.\u001b[0m\u001b[0m_number_format\u001b[0m\u001b[0;34m)\u001b[0m\u001b[0;34m\u001b[0m\u001b[0;34m\u001b[0m\u001b[0m\n\u001b[0;32m--> 311\u001b[0;31m         libwriters.write_csv_rows(\n\u001b[0m\u001b[1;32m    312\u001b[0m             \u001b[0mdata\u001b[0m\u001b[0;34m,\u001b[0m\u001b[0;34m\u001b[0m\u001b[0;34m\u001b[0m\u001b[0m\n\u001b[1;32m    313\u001b[0m             \u001b[0mix\u001b[0m\u001b[0;34m,\u001b[0m\u001b[0;34m\u001b[0m\u001b[0;34m\u001b[0m\u001b[0m\n",
      "\u001b[0;32m/opt/conda/envs/PUI/lib/python3.8/site-packages/pandas/_libs/writers.pyx\u001b[0m in \u001b[0;36mpandas._libs.writers.write_csv_rows\u001b[0;34m()\u001b[0m\n",
      "\u001b[0;31mOSError\u001b[0m: [Errno 28] No space left on device"
     ]
    }
   ],
   "source": [
    "# let's save this cleaned file #also takes some time up to a couple of min\n",
    "data.to_csv('yellowTaxi_cleaned.csv', index=False)"
   ]
  },
  {
   "cell_type": "code",
   "execution_count": 49,
   "metadata": {},
   "outputs": [
    {
     "data": {
      "text/plain": [
       "'/home/jovyan/HW 3'"
      ]
     },
     "execution_count": 49,
     "metadata": {},
     "output_type": "execute_result"
    }
   ],
   "source": [
    "pwd"
   ]
  },
  {
   "cell_type": "code",
   "execution_count": 43,
   "metadata": {},
   "outputs": [
    {
     "data": {
      "text/plain": [
       "'/home/jovyan/HW 3'"
      ]
     },
     "execution_count": 43,
     "metadata": {},
     "output_type": "execute_result"
    }
   ],
   "source": []
  },
  {
   "cell_type": "markdown",
   "metadata": {},
   "source": [
    "### Spatial filtering - filtering trips originating and ending within NYC\n",
    "\n",
    "### we will use NYC taxi zone data for filtering"
   ]
  },
  {
   "cell_type": "code",
   "execution_count": null,
   "metadata": {},
   "outputs": [],
   "source": [
    "#upload the shapefile; The 'location_i' column consists of all taxi zones within NYC + Newark airport\n",
    "taxi = gpd.read_file('https://data.cityofnewyork.us/api/geospatial/d3c5-ddgc?method=export&format=Shapefile')\n",
    "taxi.head()"
   ]
  },
  {
   "cell_type": "code",
   "execution_count": null,
   "metadata": {},
   "outputs": [],
   "source": [
    "taxi.plot(figsize=(8,8))"
   ]
  },
  {
   "cell_type": "markdown",
   "metadata": {},
   "source": [
    "### check number of pickup location and drop off location ID from data which lies outside taxi zone codes"
   ]
  },
  {
   "cell_type": "code",
   "execution_count": null,
   "metadata": {},
   "outputs": [],
   "source": [
    "len(data[~data.PULocationID.isin(taxi.location_i)])"
   ]
  },
  {
   "cell_type": "code",
   "execution_count": null,
   "metadata": {},
   "outputs": [],
   "source": [
    "len(data[~data.DOLocationID.isin(taxi.location_i)])"
   ]
  },
  {
   "cell_type": "markdown",
   "metadata": {},
   "source": [
    "### keep trips which start and end in NYC + Newark airport"
   ]
  },
  {
   "cell_type": "code",
   "execution_count": null,
   "metadata": {},
   "outputs": [],
   "source": [
    "data = data[(data.PULocationID.isin(taxi.location_i)) & (data.DOLocationID.isin(taxi.location_i))]\n",
    "data.shape                                               "
   ]
  },
  {
   "cell_type": "markdown",
   "metadata": {},
   "source": [
    "## Spatial distribution of the taxi activity"
   ]
  },
  {
   "cell_type": "code",
   "execution_count": null,
   "metadata": {},
   "outputs": [],
   "source": [
    "#get the number of trips by taxi zone of origin\n",
    "tripsByZone = data.groupby(by='PULocationID', as_index=False).count()[['PULocationID', 'DOLocationID']]\n",
    "tripsByZone.rename(columns={'DOLocationID':'N_trips'}, inplace=True)\n",
    "tripsByZone.head()"
   ]
  },
  {
   "cell_type": "markdown",
   "metadata": {},
   "source": [
    "### plot the number of trips per taxi zone on a NYC map\n",
    "\n",
    "merge with taxi zone shapefile first"
   ]
  },
  {
   "cell_type": "code",
   "execution_count": null,
   "metadata": {},
   "outputs": [],
   "source": [
    "tripsViz = taxi.merge(tripsByZone, left_on='location_i', right_on='PULocationID')\n",
    "tripsViz.head()"
   ]
  },
  {
   "cell_type": "code",
   "execution_count": null,
   "metadata": {},
   "outputs": [],
   "source": [
    "tripsViz.plot(figsize=(10,10), column='N_trips', legend=True)"
   ]
  },
  {
   "cell_type": "markdown",
   "metadata": {},
   "source": [
    "### too many trips are concentrated in Manhattan and JFK, Laguardia airports as compared to other areas. This way those areas completely doninate the colormap. A better way to visualize might be to split the activity in quantiles and assign colors to quantiles"
   ]
  },
  {
   "cell_type": "code",
   "execution_count": null,
   "metadata": {},
   "outputs": [],
   "source": [
    "fig, ax = plt.subplots(1, figsize=(10,10))\n",
    "\n",
    "tripsViz.plot(ax=ax, column='N_trips', k=10, scheme='Quantiles', legend=True, \n",
    "              legend_kwds={'loc': 'upper left'})\n"
   ]
  },
  {
   "cell_type": "markdown",
   "metadata": {},
   "source": [
    "### One important issue to mind with visualizing aggregated activity is the homogeniety of spatial units\n",
    "Right now taxi zones are all of different size, while the activity heatmap is usually perceived as a density map. However the quantity above is affected by both - activity density as well as the size of the unit which is somewhat arbitrary. Normalizing activity by the area (trips per sq. mile) or by population (trips per capita) would be more appropriate"
   ]
  },
  {
   "cell_type": "code",
   "execution_count": null,
   "metadata": {},
   "outputs": [],
   "source": [
    "tripsViz['ActivityDensity'] = tripsViz['N_trips'] / tripsViz['shape_area']"
   ]
  },
  {
   "cell_type": "code",
   "execution_count": null,
   "metadata": {},
   "outputs": [],
   "source": [
    "#consider density heatmap without percentiles first \n",
    "tripsViz.plot(figsize = (10,10), column='ActivityDensity', legend=False)"
   ]
  },
  {
   "cell_type": "code",
   "execution_count": null,
   "metadata": {},
   "outputs": [],
   "source": [
    "#now by percentile \n",
    "tripsViz.plot(figsize = (10,10), column='ActivityDensity', scheme='Quantiles', k=10, legend=False)"
   ]
  },
  {
   "cell_type": "code",
   "execution_count": null,
   "metadata": {},
   "outputs": [],
   "source": []
  },
  {
   "cell_type": "markdown",
   "metadata": {},
   "source": [
    "## Explore temporal distribution of taxi ridership activity\n",
    "Assess how the number of trips varies with the time of the day\n",
    "\n",
    "make a column for pickup hour - 0-23 hrs (0 corresponds to 12am-1am window, 1 to 1am-2am window and so on...)"
   ]
  },
  {
   "cell_type": "code",
   "execution_count": null,
   "metadata": {},
   "outputs": [],
   "source": [
    "data['pickUpHour'] = data['tpep_pickup_datetime'].dt.hour\n",
    "data.head()"
   ]
  },
  {
   "cell_type": "code",
   "execution_count": null,
   "metadata": {},
   "outputs": [],
   "source": [
    "#group trips by hour\n",
    "tripsByHour = data[['pickUpHour', 'DOLocationID']].groupby(by='pickUpHour', as_index=False).count()\n",
    "tripsByHour.rename(columns={'DOLocationID':'N_trips'}, inplace=True)\n",
    "tripsByHour"
   ]
  },
  {
   "cell_type": "markdown",
   "metadata": {},
   "source": [
    "let's visualize number of trips by hour on a bar plot"
   ]
  },
  {
   "cell_type": "code",
   "execution_count": null,
   "metadata": {},
   "outputs": [],
   "source": [
    "plt.figure(figsize=(15, 6))\n",
    "\n",
    "plt.bar(tripsByHour.pickUpHour, tripsByHour.N_trips)\n",
    "plt.xticks(tripsByHour.pickUpHour)\n",
    "plt.ylabel('number of trips', fontsize=14)\n",
    "plt.xlabel('hour of day', fontsize=14)"
   ]
  },
  {
   "cell_type": "markdown",
   "metadata": {},
   "source": [
    "## Explore average travel speed by hour of the day\n",
    "\n",
    "In order to homogenize by traffic mileage we use the distance total/duration total instead of averaging individual trip speed"
   ]
  },
  {
   "cell_type": "code",
   "execution_count": null,
   "metadata": {},
   "outputs": [],
   "source": [
    "speedByHour = data[['pickUpHour', 'trip_distance', 'trip_duration']].groupby(by='pickUpHour', as_index=False).sum()\n",
    "speedByHour['speed'] = speedByHour['trip_distance'] / speedByHour['trip_duration'] * 60\n",
    "speedByHour"
   ]
  },
  {
   "cell_type": "code",
   "execution_count": null,
   "metadata": {},
   "outputs": [],
   "source": [
    "plt.figure(figsize=(15, 6))\n",
    "\n",
    "plt.bar(speedByHour.pickUpHour, speedByHour.speed)\n",
    "plt.xticks(speedByHour.pickUpHour)\n",
    "plt.ylabel('average speed (mph)', fontsize=14)\n",
    "plt.xlabel('hour of day', fontsize=14)"
   ]
  },
  {
   "cell_type": "code",
   "execution_count": null,
   "metadata": {},
   "outputs": [],
   "source": [
    "#also see how heterogenous is the travel speed accross the sample \n",
    "#by exploring relation between travel distances vs travel times over the entire sample\n",
    "#use a scatter plot #takes a few seconds to generate\n",
    "plt.plot(data['trip_duration'],data['trip_distance'],'.')"
   ]
  },
  {
   "cell_type": "markdown",
   "metadata": {},
   "source": [
    "## Homework tasks"
   ]
  },
  {
   "cell_type": "code",
   "execution_count": null,
   "metadata": {},
   "outputs": [],
   "source": [
    "# read cleaned trips data\n",
    "path ='/home/jovyan/HW 3/yellowTaxi_cleaned.csv' \n",
    "yellowTaxi_cleaned = pd.read_csv(path,parse_dates=['tpep_pickup_datetime', 'tpep_dropoff_datetime'])\n",
    "#data = pd.read_csv('yellow_trips_19_cleaned.csv')\n",
    "yellowTaxi_cleaned.head()"
   ]
  },
  {
   "cell_type": "markdown",
   "metadata": {},
   "source": [
    "1. Explore spatial distribution of average travel speed and total trip distance by pick up location and visualize on a map\n",
    "\n",
    "Hint: for average speed a normal color map should be okay while for total distance you might consider quantiles viz."
   ]
  },
  {
   "cell_type": "code",
   "execution_count": null,
   "metadata": {
    "deletable": false,
    "nbgrader": {
     "cell_type": "code",
     "checksum": "8c168ae72a8bb8b298de174cf844cc55",
     "grade": true,
     "grade_id": "cell-cc8d569d6ac579df",
     "locked": false,
     "points": 1,
     "schema_version": 3,
     "solution": true,
     "task": false
    }
   },
   "outputs": [],
   "source": [
    "yellowTaxi_cleaned.dtypes"
   ]
  },
  {
   "cell_type": "code",
   "execution_count": null,
   "metadata": {},
   "outputs": [],
   "source": [
    "yellowTaxi_cleaned['trip_duration'] = (yellowTaxi_cleaned['tpep_dropoff_datetime'] - yellowTaxi_cleaned['tpep_pickup_datetime'])\n",
    "yellowTaxi_cleaned['trip_duration'] = yellowTaxi_cleaned['trip_duration'].dt.total_seconds()/60\n",
    "yellowTaxi_cleaned.head()"
   ]
  },
  {
   "cell_type": "code",
   "execution_count": null,
   "metadata": {},
   "outputs": [],
   "source": [
    "yellowTaxi_cleaned['speed'] = yellowTaxi_cleaned['trip_distance']/(yellowTaxi_cleaned['trip_duration']/60)\n",
    "yellowTaxi_cleaned"
   ]
  },
  {
   "cell_type": "code",
   "execution_count": null,
   "metadata": {},
   "outputs": [],
   "source": [
    "yellowTaxi_cleaned1=yellowTaxi_cleaned[['trip_distance', 'trip_duration', 'fare_amount', 'speed']].describe()\n",
    "yellowTaxi_cleaned1"
   ]
  },
  {
   "cell_type": "code",
   "execution_count": null,
   "metadata": {},
   "outputs": [],
   "source": [
    "#above data looks clean \n",
    "#Let's visualise average travel speed by pick up location"
   ]
  },
  {
   "cell_type": "code",
   "execution_count": null,
   "metadata": {},
   "outputs": [],
   "source": [
    "avr_travel_speed_ByPUL1 = yellowTaxi_cleaned.groupby(by='PULocationID', as_index=False).mean()[['PULocationID' , 'speed','trip_distance']]\n",
    "avr_travel_speed_ByPUL1.rename(columns={'speed':'Avr_speed'}, inplace=True)\n",
    "avr_travel_speed_ByPUL1"
   ]
  },
  {
   "cell_type": "code",
   "execution_count": null,
   "metadata": {},
   "outputs": [],
   "source": [
    "avr_travel_speed_ByPUL_Viz = taxi.merge(avr_travel_speed_ByPUL1, left_on='location_i', right_on='PULocationID')\n",
    "avr_travel_speed_ByPUL_Viz "
   ]
  },
  {
   "cell_type": "code",
   "execution_count": null,
   "metadata": {},
   "outputs": [],
   "source": [
    "avr_travel_speed_ByPUL_Viz.plot(figsize=(10,10), column='Avr_speed', legend=True)"
   ]
  },
  {
   "cell_type": "code",
   "execution_count": null,
   "metadata": {},
   "outputs": [],
   "source": [
    "#Trip distance by pick up location\n",
    "trip_dist_by_PUL_Viz=avr_travel_speed_ByPUL_Viz\n",
    "\n",
    "fig, ax = plt.subplots(1, figsize=(10,10))\n",
    "\n",
    "trip_dist_by_PUL_Viz.plot(ax=ax, column='trip_distance', k=10, scheme='Quantiles', legend=True, \n",
    "              legend_kwds={'loc': 'upper left'})\n"
   ]
  },
  {
   "cell_type": "markdown",
   "metadata": {},
   "source": [
    "2. Plot travel density by drop off location\n",
    "\n",
    "Use area normalization, quantile visualization as before but this time aggregte activity by drop off taxi zone"
   ]
  },
  {
   "cell_type": "code",
   "execution_count": null,
   "metadata": {
    "deletable": false,
    "nbgrader": {
     "cell_type": "code",
     "checksum": "1a121be765ba40fab92cc8bf34a82551",
     "grade": true,
     "grade_id": "cell-570d2591ab5ef5d3",
     "locked": false,
     "points": 1,
     "schema_version": 3,
     "solution": true,
     "task": false
    }
   },
   "outputs": [],
   "source": [
    "yellowTaxi_cleaned"
   ]
  },
  {
   "cell_type": "code",
   "execution_count": null,
   "metadata": {},
   "outputs": [],
   "source": [
    "travel_density_DOL  = yellowTaxi_cleaned.groupby(['DOLocationID']).agg({'PULocationID':'count'})\n",
    "travel_density_DOL.rename(columns={'PULocationID':'N_trips'}, inplace=True) \n",
    "travel_density_DOL.reset_index()\n",
    "\n",
    "travel_density_DOL1 = taxi.merge(travel_density_DOL, left_on='location_i', right_on='DOLocationID')\n",
    "travel_density_DOL1"
   ]
  },
  {
   "cell_type": "code",
   "execution_count": null,
   "metadata": {},
   "outputs": [],
   "source": [
    "travel_density_DOL1['travel_density']=travel_density_DOL1['N_trips']/travel_density_DOL1['shape_area']\n",
    "travel_density_DOL1"
   ]
  },
  {
   "cell_type": "code",
   "execution_count": null,
   "metadata": {},
   "outputs": [],
   "source": [
    "travel_density_DOL1.plot(figsize=(10,10), column='travel_density', legend=True)"
   ]
  },
  {
   "cell_type": "code",
   "execution_count": null,
   "metadata": {},
   "outputs": [],
   "source": [
    "#Travel density by drop off location\n",
    "\n",
    "fig, ax = plt.subplots(1, figsize=(10,10))\n",
    "\n",
    "travel_density_DOL1.plot(ax=ax, column='travel_density', k=10, scheme='Quantiles', legend=True, \n",
    "              legend_kwds={'loc': 'upper left'})\n"
   ]
  },
  {
   "cell_type": "markdown",
   "metadata": {},
   "source": [
    "3. Explore total number of trips, average speed and total distance by day of the week and visualize in a bar plot\n",
    "\n",
    "(hint: first make a column for day of week, \n",
    "\n",
    "then group by for getting metrics, remember 'count()' for number of trips, 'mean()' for average and 'sum()' for getting total)"
   ]
  },
  {
   "cell_type": "code",
   "execution_count": null,
   "metadata": {
    "deletable": false,
    "nbgrader": {
     "cell_type": "code",
     "checksum": "3344bf42535290001c777f37a4841479",
     "grade": true,
     "grade_id": "cell-9fe0ed52860fdce5",
     "locked": false,
     "points": 2,
     "schema_version": 3,
     "solution": true,
     "task": false
    }
   },
   "outputs": [],
   "source": [
    "yellowTaxi_cleaned"
   ]
  },
  {
   "cell_type": "code",
   "execution_count": null,
   "metadata": {},
   "outputs": [],
   "source": [
    "yellowTaxi_cleaned3 = yellowTaxi_cleaned.copy()\n",
    "yellowTaxi_cleaned3['day_of_week']= yellowTaxi_cleaned['tpep_pickup_datetime'].dt.day_name()\n",
    "yellowTaxi_cleaned3.head()"
   ]
  },
  {
   "cell_type": "code",
   "execution_count": null,
   "metadata": {},
   "outputs": [],
   "source": [
    "agg_by_day_of_week  = yellowTaxi_cleaned3.groupby(['day_of_week']).agg({'PULocationID':'count','speed':'mean','trip_distance':'sum'})\n",
    "agg_by_day_of_week.rename(columns={'speed':'Avrg_speed','trip_distance':'Total_distance','PULocationID':'No_of_trips'}, inplace=True) \n",
    "agg_by_day_of_week=agg_by_day_of_week.reset_index()\n",
    "agg_by_day_of_week"
   ]
  },
  {
   "cell_type": "code",
   "execution_count": null,
   "metadata": {},
   "outputs": [],
   "source": [
    "agg_by_day_of_week.plot.bar()"
   ]
  },
  {
   "cell_type": "code",
   "execution_count": null,
   "metadata": {},
   "outputs": [],
   "source": [
    "agg_by_day_of_week.plot.bar(x=\"day_of_week\", y=\"No_of_trips\", rot=70, title=\"Total number of trips by day of the week \")"
   ]
  },
  {
   "cell_type": "code",
   "execution_count": null,
   "metadata": {},
   "outputs": [],
   "source": [
    "agg_by_day_of_week.plot.bar(x=\"day_of_week\", y=\"Avrg_speed\", rot=70, title=\"Average speed by day of the week \")"
   ]
  },
  {
   "cell_type": "code",
   "execution_count": null,
   "metadata": {},
   "outputs": [],
   "source": [
    "agg_by_day_of_week.plot.bar(x=\"day_of_week\", y=\"Total_distance\", rot=70, title=\"Total distance by day of the week \")"
   ]
  },
  {
   "cell_type": "markdown",
   "metadata": {},
   "source": [
    "4. Identify and visualize on the map the top 10 and bottom 10 areas by largest trip density, average speed and average distance (grouped by origin) "
   ]
  },
  {
   "cell_type": "code",
   "execution_count": null,
   "metadata": {
    "deletable": false,
    "nbgrader": {
     "cell_type": "code",
     "checksum": "98f223f88f7b4bb893919382dc6c74a4",
     "grade": true,
     "grade_id": "cell-c20d588dfe10d2f1",
     "locked": false,
     "points": 2,
     "schema_version": 3,
     "solution": true,
     "task": false
    }
   },
   "outputs": [],
   "source": [
    "#Trip density grouped by origin\n",
    "yellowTaxi_cleaned\n",
    "grouped_by_origin  = yellowTaxi_cleaned.groupby(['PULocationID']).agg({'DOLocationID':'count','speed':'mean','trip_distance':'mean'})\n",
    "grouped_by_origin.rename(columns={'speed':'Avrg_speed','trip_distance':'Avrg_distance','DOLocationID':'No_of_trips'}, inplace=True) \n",
    "grouped_by_origin=grouped_by_origin.reset_index()\n",
    "grouped_by_origin"
   ]
  },
  {
   "cell_type": "code",
   "execution_count": null,
   "metadata": {},
   "outputs": [],
   "source": [
    "grouped_by_origin_Viz = taxi.merge(grouped_by_origin, left_on='location_i', right_on='PULocationID')\n",
    "grouped_by_origin_Viz['trip_density']=grouped_by_origin_Viz['No_of_trips']/grouped_by_origin_Viz['shape_area']\n",
    "grouped_by_origin_Viz"
   ]
  },
  {
   "cell_type": "code",
   "execution_count": null,
   "metadata": {},
   "outputs": [],
   "source": [
    "highest10 = grouped_by_origin_Viz.nlargest(10,'trip_density')\n",
    "lowest10=grouped_by_origin_Viz.nsmallest(10,'trip_density')\n",
    "\n",
    "top_pricesqft= highest10['trip_density'].min()\n",
    "below_pricesqft= lowest10['trip_density'].max()\n",
    "\n",
    "import matplotlib.patches as mpatches\n",
    "fig,ax = plt.subplots(figsize=(10,10))\n",
    "grouped_by_origin_Viz.plot(facecolor='lightyellow',hatch='---',ax=ax)\n",
    "grouped_by_origin_Viz.loc[grouped_by_origin_Viz['trip_density']>=top_pricesqft].plot(facecolor='darkblue',ax=ax)\n",
    "grouped_by_origin_Viz.loc[grouped_by_origin_Viz['trip_density']<=below_pricesqft].plot(facecolor='darkred',ax=ax)\n",
    "\n",
    "LegendElement = [mpatches.Patch(facecolor='darkblue', hatch='//', label='Highest trip_density grouped by origin'),\n",
    "                mpatches.Patch(facecolor='darkred', hatch='//', label='Lowest trip_density grouped by origin'),\n",
    "                mpatches.Patch(facecolor='darkblue', label='Transaction>20'),]"
   ]
  },
  {
   "cell_type": "code",
   "execution_count": null,
   "metadata": {},
   "outputs": [],
   "source": [
    "highest10 = grouped_by_origin_Viz.nlargest(10,'Avrg_speed')\n",
    "lowest10=grouped_by_origin_Viz.nsmallest(10,'Avrg_speed')\n",
    "\n",
    "top_pricesqft= highest10['Avrg_speed'].min()\n",
    "below_pricesqft= lowest10['Avrg_speed'].max()\n",
    "\n",
    "import matplotlib.patches as mpatches\n",
    "fig,ax = plt.subplots(figsize=(10,10))\n",
    "grouped_by_origin_Viz.plot(facecolor='lightblue',hatch='---',ax=ax)\n",
    "grouped_by_origin_Viz.loc[grouped_by_origin_Viz['Avrg_speed']>=top_pricesqft].plot(facecolor='black',ax=ax)\n",
    "grouped_by_origin_Viz.loc[grouped_by_origin_Viz['Avrg_speed']<=below_pricesqft].plot(facecolor='maroon',ax=ax)\n",
    "\n",
    "LegendElement = [mpatches.Patch(facecolor='black', hatch='//', label='Highest Avrg_speed grouped by origin'),\n",
    "                mpatches.Patch(facecolor='maroon', hatch='//', label='Lowest Avrg_speed grouped by origin'),\n",
    "                mpatches.Patch(facecolor='darkblue', label='Transaction>20'),]"
   ]
  },
  {
   "cell_type": "code",
   "execution_count": null,
   "metadata": {},
   "outputs": [],
   "source": [
    "highest10 = grouped_by_origin_Viz.nlargest(10,'Avrg_distance')\n",
    "lowest10=grouped_by_origin_Viz.nsmallest(10,'Avrg_distance')\n",
    "\n",
    "top_pricesqft= highest10['Avrg_distance'].min()\n",
    "below_pricesqft= lowest10['Avrg_distance'].max()\n",
    "\n",
    "import matplotlib.patches as mpatches\n",
    "fig,ax = plt.subplots(figsize=(10,10))\n",
    "grouped_by_origin_Viz.plot(facecolor='lightgreen',hatch='---',ax=ax)\n",
    "grouped_by_origin_Viz.loc[grouped_by_origin_Viz['Avrg_distance']>=top_pricesqft].plot(facecolor='lightyellow',ax=ax)\n",
    "grouped_by_origin_Viz.loc[grouped_by_origin_Viz['Avrg_distance']<=below_pricesqft].plot(facecolor='maroon',ax=ax)\n",
    "\n",
    "LegendElement = [mpatches.Patch(facecolor='lightyellow', hatch='//', label='Highest Avrg_distance grouped by origin'),\n",
    "                mpatches.Patch(facecolor='maroon', hatch='//', label='Lowest Avrg_distance grouped by origin'),\n",
    "                mpatches.Patch(facecolor='darkblue', label='Transaction>20'),]"
   ]
  }
 ],
 "metadata": {
  "kernelspec": {
   "display_name": "Python [conda env:PUI]",
   "language": "python",
   "name": "conda-env-PUI-py"
  },
  "language_info": {
   "codemirror_mode": {
    "name": "ipython",
    "version": 3
   },
   "file_extension": ".py",
   "mimetype": "text/x-python",
   "name": "python",
   "nbconvert_exporter": "python",
   "pygments_lexer": "ipython3",
   "version": "3.8.10"
  }
 },
 "nbformat": 4,
 "nbformat_minor": 2
}
