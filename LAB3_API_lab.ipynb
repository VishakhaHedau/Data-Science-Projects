{
 "cells": [
  {
   "cell_type": "markdown",
   "metadata": {},
   "source": [
    "## API lab\n",
    "\n",
    "### Introduction:\n",
    "\n",
    "While many data sets are provided though downloadable files, some are provided through application programming interface (API) which allows the code to access some data without downloading the entire dataset.\n",
    "\n",
    "APIs provide sets of functions and procedures that allow accessing the features or data from an application or other service.\n",
    "\n",
    "\n",
    "#### REST API\n",
    "REST is essentially a set of useful conventions for structuring a web API. 'Web API' means an API that you interact with over HTTP, making requests to specific URLs, and often getting relevant data back in the response.\n",
    "\n",
    "### Uses\n",
    "- Scraping real time information - useful for example for accessing travel route info from mapping applications, social media feed. And any other data that being updated in real time or is changing quickly. Another example of this is stock price data. It doesn’t really make sense to regenerate a data set and download it every minute \n",
    "- Getting only the desired tables through filtering instead of downloading the entire data sets. Reddit comments are one example. It doesn’t make much sense (plus won't be permitted) to download the entire Reddit database if we want only some information\n",
    "\n",
    "### General Terminology\n",
    "\n",
    "#### Types of requests\n",
    "characterize what action we are going to take by referring to the API\n",
    "\n",
    "- GET: retrieve information (like search results). This is the most common type of request. Using it, we can get the data we are interested in from those that the API is ready to share.\n",
    "- POST: adds new data to the server. Using this type of request, you can, for example, add a new item to your inventory.\n",
    "- PUT: changes existing information. For example, using this type of request, it would be possible to change the color or value of an existing product.\n",
    "- DELETE: deletes existing information\n",
    "\n",
    "#### Status codes\n",
    "briefly describe the result of the call.\n",
    "\n",
    "- 200 – OK. The request was successful. The answer itself depends on the method used (GET, POST, etc.) and the API specification.\n",
    "- 204 – No Content. The server successfully processed the request and did not return any content.\n",
    "- 301 – Moved Permanently. The server responds that the requested page (endpoint) has been moved to another address and redirects to this address.\n",
    "- 400 – Bad Request. The server cannot process the request because the client-side errors (incorrect request format).\n",
    "- 401 – Unauthorized. Occurs when authentication was failed, due to incorrect credentials or even their absence.\n",
    "- 403 – Forbidden. Access to the specified resource is denied.\n",
    "- 404 – Not Found. The requested resource was not found on the server.\n",
    "- 500 – Internal Server Error. Occurs when an unknown error has occurred on the server.\n",
    "\n",
    "#### Endpoints\n",
    "Usually, an Endpoint is a specific address (for example, https://weather-in-london.com/forecast), by referring to which you get access to certain features/data (in this example above – the weather forecast for London). Commonly, the name (address) of the endpoint corresponds to the functionality it provides."
   ]
  },
  {
   "cell_type": "markdown",
   "metadata": {},
   "source": [
    "### HereMap API\n",
    "Provides mapping, location data and routing information services worldwide. Routing info is available for transit, walking, driving, bike modes.\n"
   ]
  },
  {
   "cell_type": "code",
   "execution_count": 60,
   "metadata": {},
   "outputs": [],
   "source": [
    "import pandas as pd\n",
    "import glob #Unix style pathname pattern expansion\n",
    "import numpy as np\n",
    "from dateutil import parser #powerful extensions to datetime; offers a generic date/time string parser\n",
    "import time\n",
    "from tqdm import tqdm #Customisable progressbar for iterators\n",
    "try: #spelling depends on enviroment version \n",
    "    import urllib2 as urllib #URL handling module\n",
    "except ImportError:\n",
    "    import urllib.request as urllib\n",
    "import json\n",
    "import geopandas as gpd\n",
    "import sys\n",
    "from IPython.display import clear_output #Clears the output of the current cell receiving output\n",
    "import requests #the module for making HTTP requests in Python; provides GET funcionality"
   ]
  },
  {
   "cell_type": "markdown",
   "metadata": {},
   "source": [
    "#### Request API key by creating free account \n",
    "https://developer.here.com/sign-up?create=Freemium-Basic&keepState=true&step=account"
   ]
  },
  {
   "cell_type": "markdown",
   "metadata": {},
   "source": [
    "#### Example 1: getting driving time"
   ]
  },
  {
   "cell_type": "markdown",
   "metadata": {},
   "source": [
    "#### API endpoint\n",
    "https://developer.here.com/documentation/routing-api/8.3.1/dev_guide/topics/send-request.html"
   ]
  },
  {
   "cell_type": "markdown",
   "metadata": {},
   "source": [
    "#### Sample request\n",
    "\n",
    "An API request needs an endpoint link with API key to fetch data. In some cases, you may also need appID and appCode to make a request. When you make a account in a particular API service, you will be asked to create and name your app. When you finish this step, you will be provided with a unique API key together with appID and appCode as a unique identifier for your app.\n",
    "\n",
    "Please not that various APIs have certain restrictions on their usage. Please make sure to read the the usage terms before making acccount (especially if you are asked to enter your payment info beforehand!)\n",
    "\n",
    "HereMap API has 250k free requests per month. (And it does not ask for credit card info when you create an account)\n",
    "\n",
    "Also, please note the below example uses an API key for this lab's demonstration purposes only. Please create your HereMap account and get your unique API key when attempting the lab or homeworks yourself.\n",
    "\n",
    "retreive a driving route between the two given points"
   ]
  },
  {
   "cell_type": "code",
   "execution_count": 61,
   "metadata": {},
   "outputs": [],
   "source": [
    "# enter your api key from HereMap\n",
    "apiKey = 'PeGRmBEmT4i0EL5OqB4VhZDyRhLyqqW8U0dO-QtfOaU'\n",
    "\n",
    "lon_pickup, lat_pickup = -73.972136, 40.744301 ##origin: A point in Manhattan (around E 35th street)\n",
    "lon_dropoff, lat_dropoff = -74.172945, 40.680108 # destination: Newark airport"
   ]
  },
  {
   "cell_type": "markdown",
   "metadata": {},
   "source": [
    "Note the driving API endpoint is 'https://route.ls.hereapi.com/routing/7.2/calculateroute.json?apiKey={}&waypoint0=geo!{},{}&waypoint1=geo!{},{}&mode=fastest;car;traffic:disabled', which essentially gives the driving directions from origin to destination together with a summary of the whole trip.\n",
    "\n",
    "For the above origin-destination lat-longs, the endpoint will look like\n",
    "\n",
    "'https://route.ls.hereapi.com/routing/7.2/calculateroute.json?apiKey=W6GB9G-e0QHV5Nes77OLAX5FxecH7IHEIuObpc6WJnU&waypoint0=geo!40.744301,-73.972136&waypoint1=geo!40.680108,-74.172945&mode=fastest;car;traffic:disabled'\n",
    "\n",
    "Basically, the origin lat-long go in after the 'waypoint0=geo!' field and destination lat-long go in after 'waypoint1=geo!' field. Instead of manually putting these lat-long in the code, the pythonic way to do this is by the 'format' function. Wherever we need to insert variables, we put '{}' in the url and then specify the variables in their respective order of appearing in the url in the 'format' command.\n",
    "\n"
   ]
  },
  {
   "cell_type": "code",
   "execution_count": 62,
   "metadata": {},
   "outputs": [
    {
     "name": "stdout",
     "output_type": "stream",
     "text": [
      "https://route.ls.hereapi.com/routing/7.2/calculateroute.json?apiKey=PeGRmBEmT4i0EL5OqB4VhZDyRhLyqqW8U0dO-QtfOaU&waypoint0=geo!40.744301,-73.972136&waypoint1=geo!40.680108,-74.172945&mode=fastest;car;traffic:disabled\n"
     ]
    }
   ],
   "source": [
    "url = str('https://route.ls.hereapi.com/routing/7.2/calculateroute.json?apiKey={}&waypoint0=geo!{},{}&waypoint1=geo!{},{}&mode=fastest;car;traffic:disabled'.format(\n",
    "    apiKey, lat_pickup, lon_pickup, lat_dropoff, lon_dropoff))\n",
    "\n",
    "print(url)"
   ]
  },
  {
   "cell_type": "markdown",
   "metadata": {},
   "source": [
    "Now we'll make a request with the below command"
   ]
  },
  {
   "cell_type": "code",
   "execution_count": 63,
   "metadata": {},
   "outputs": [],
   "source": [
    "data = urllib.urlopen(url).read().decode('utf-8')\n",
    "data = json.loads(data)"
   ]
  },
  {
   "cell_type": "markdown",
   "metadata": {},
   "source": [
    "The fetched data gives driving directions together with a summary of the whole trip"
   ]
  },
  {
   "cell_type": "code",
   "execution_count": 64,
   "metadata": {},
   "outputs": [
    {
     "data": {
      "text/plain": [
       "{'response': {'metaInfo': {'timestamp': '2021-10-08T02:24:33Z',\n",
       "   'mapVersion': '8.30.125.151',\n",
       "   'moduleVersion': '7.2.202139-9450',\n",
       "   'interfaceVersion': '2.6.77',\n",
       "   'availableMapVersion': ['8.30.125.151']},\n",
       "  'route': [{'waypoint': [{'linkId': '+973152345',\n",
       "      'mappedPosition': {'latitude': 40.7441169, 'longitude': -73.9722743},\n",
       "      'originalPosition': {'latitude': 40.744301, 'longitude': -73.9721361},\n",
       "      'type': 'stopOver',\n",
       "      'spot': 0.0864198,\n",
       "      'sideOfStreet': 'right',\n",
       "      'mappedRoadName': 'E 35th St',\n",
       "      'label': 'E 35th St',\n",
       "      'shapeIndex': 0,\n",
       "      'source': 'user'},\n",
       "     {'linkId': '-1288125068',\n",
       "      'mappedPosition': {'latitude': 40.6790655, 'longitude': -74.1703952},\n",
       "      'originalPosition': {'latitude': 40.6801079, 'longitude': -74.172945},\n",
       "      'type': 'stopOver',\n",
       "      'spot': 0.1372378,\n",
       "      'sideOfStreet': 'neither',\n",
       "      'mappedRoadName': 'New Jersey Tpke S',\n",
       "      'label': 'New Jersey Tpke S - I-95',\n",
       "      'shapeIndex': 243,\n",
       "      'source': 'user'}],\n",
       "    'mode': {'type': 'fastest',\n",
       "     'transportModes': ['car'],\n",
       "     'trafficMode': 'disabled',\n",
       "     'feature': []},\n",
       "    'leg': [{'start': {'linkId': '+973152345',\n",
       "       'mappedPosition': {'latitude': 40.7441169, 'longitude': -73.9722743},\n",
       "       'originalPosition': {'latitude': 40.744301, 'longitude': -73.9721361},\n",
       "       'type': 'stopOver',\n",
       "       'spot': 0.0864198,\n",
       "       'sideOfStreet': 'right',\n",
       "       'mappedRoadName': 'E 35th St',\n",
       "       'label': 'E 35th St',\n",
       "       'shapeIndex': 0,\n",
       "       'source': 'user'},\n",
       "      'end': {'linkId': '-1288125068',\n",
       "       'mappedPosition': {'latitude': 40.6790655, 'longitude': -74.1703952},\n",
       "       'originalPosition': {'latitude': 40.6801079, 'longitude': -74.172945},\n",
       "       'type': 'stopOver',\n",
       "       'spot': 0.1372378,\n",
       "       'sideOfStreet': 'neither',\n",
       "       'mappedRoadName': 'New Jersey Tpke S',\n",
       "       'label': 'New Jersey Tpke S - I-95',\n",
       "       'shapeIndex': 243,\n",
       "       'source': 'user'},\n",
       "      'length': 25922,\n",
       "      'travelTime': 1733,\n",
       "      'maneuver': [{'position': {'latitude': 40.7441169,\n",
       "         'longitude': -73.9722743},\n",
       "        'instruction': 'Head toward <span class=\"toward_street\">1st Ave</span> on <span class=\"street\">E 35th St</span>. <span class=\"distance-description\">Go for <span class=\"length\">74 m</span>.</span>',\n",
       "        'travelTime': 27,\n",
       "        'length': 74,\n",
       "        'id': 'M1',\n",
       "        '_type': 'PrivateTransportManeuverType'},\n",
       "       {'position': {'latitude': 40.7444501, 'longitude': -73.9730287},\n",
       "        'instruction': 'Continue on <span class=\"next-street\">E 35th St</span>. <span class=\"distance-description\">Go for <span class=\"length\">166 m</span>.</span>',\n",
       "        'travelTime': 40,\n",
       "        'length': 166,\n",
       "        'id': 'M2',\n",
       "        '_type': 'PrivateTransportManeuverType'},\n",
       "       {'position': {'latitude': 40.7451797, 'longitude': -73.974756},\n",
       "        'instruction': 'Continue on <span class=\"next-street\">E 35th St</span>. <span class=\"distance-description\">Go for <span class=\"length\">63 m</span>.</span>',\n",
       "        'travelTime': 30,\n",
       "        'length': 63,\n",
       "        'id': 'M3',\n",
       "        '_type': 'PrivateTransportManeuverType'},\n",
       "       {'position': {'latitude': 40.7454586, 'longitude': -73.9754105},\n",
       "        'instruction': 'Turn <span class=\"direction\">left</span> onto <span class=\"next-street\">2nd Ave</span>. <span class=\"distance-description\">Go for <span class=\"length\">85 m</span>.</span>',\n",
       "        'travelTime': 23,\n",
       "        'length': 85,\n",
       "        'id': 'M4',\n",
       "        '_type': 'PrivateTransportManeuverType'},\n",
       "       {'position': {'latitude': 40.7447934, 'longitude': -73.975904},\n",
       "        'instruction': 'Turn <span class=\"direction\">right</span> onto <span class=\"next-street\">E 34th St</span>. <span class=\"distance-description\">Go for <span class=\"length\">2.1 km</span>.</span>',\n",
       "        'travelTime': 387,\n",
       "        'length': 2094,\n",
       "        'id': 'M5',\n",
       "        '_type': 'PrivateTransportManeuverType'},\n",
       "       {'position': {'latitude': 40.7539451, 'longitude': -73.9976084},\n",
       "        'instruction': 'Turn <span class=\"direction\">right</span> onto <span class=\"next-street\">Dyer Ave</span> toward <span class=\"sign\"><span lang=\"en\">Lincoln Tunnel</span></span>. <span class=\"distance-description\">Go for <span class=\"length\">170 m</span>.</span>',\n",
       "        'travelTime': 35,\n",
       "        'length': 170,\n",
       "        'id': 'M6',\n",
       "        '_type': 'PrivateTransportManeuverType'},\n",
       "       {'position': {'latitude': 40.7551146, 'longitude': -73.9963853},\n",
       "        'instruction': 'Take ramp onto <span class=\"number\">RT-495</span> <span class=\"next-street\">(Lincoln Tunnel Expy)</span> toward <span class=\"sign\"><span lang=\"en\">Lincoln Tunnel</span></span>. <span class=\"distance-description\">Go for <span class=\"length\">177 m</span>.</span>',\n",
       "        'travelTime': 24,\n",
       "        'length': 177,\n",
       "        'id': 'M7',\n",
       "        '_type': 'PrivateTransportManeuverType'},\n",
       "       {'position': {'latitude': 40.7562411, 'longitude': -73.9949691},\n",
       "        'instruction': 'Keep <span class=\"direction\">left</span> onto <span class=\"number\">RT-495</span> <span class=\"next-street\">(Lincoln Tunnel Expy)</span>. <span class=\"distance-description\">Go for <span class=\"length\">1.5 km</span>.</span>',\n",
       "        'travelTime': 110,\n",
       "        'length': 1502,\n",
       "        'id': 'M8',\n",
       "        '_type': 'PrivateTransportManeuverType'},\n",
       "       {'position': {'latitude': 40.7630646, 'longitude': -74.0100324},\n",
       "        'instruction': 'Continue on <span class=\"number\">RT-495</span> <span class=\"next-street\">(Lincoln Tunnel)</span>. <span class=\"distance-description\">Go for <span class=\"length\">4.5 km</span>.</span>',\n",
       "        'travelTime': 292,\n",
       "        'length': 4455,\n",
       "        'id': 'M9',\n",
       "        '_type': 'PrivateTransportManeuverType'},\n",
       "       {'position': {'latitude': 40.7767653, 'longitude': -74.0429807},\n",
       "        'instruction': 'Take the <span class=\"direction\">left</span> exit onto <span class=\"number\">I-95</span> <span class=\"next-street\">(New Jersey Tpke S)</span>. <span class=\"distance-description\">Go for <span class=\"length\">17.1 km</span>.</span>',\n",
       "        'travelTime': 765,\n",
       "        'length': 17136,\n",
       "        'id': 'M10',\n",
       "        '_type': 'PrivateTransportManeuverType'},\n",
       "       {'position': {'latitude': 40.6790655, 'longitude': -74.1703952},\n",
       "        'instruction': 'Arrive at <span class=\"street\">New Jersey Tpke S</span> <span class=\"number\">(I-95)</span>.',\n",
       "        'travelTime': 0,\n",
       "        'length': 0,\n",
       "        'id': 'M11',\n",
       "        '_type': 'PrivateTransportManeuverType'}]}],\n",
       "    'summary': {'distance': 25922,\n",
       "     'trafficTime': 1825,\n",
       "     'baseTime': 1733,\n",
       "     'flags': ['tollroad', 'tunnel', 'motorway', 'builtUpArea'],\n",
       "     'text': 'The trip takes <span class=\"length\">25.9 km</span> and <span class=\"time\">29 mins</span>.',\n",
       "     'travelTime': 1733,\n",
       "     '_type': 'RouteSummaryType'}}],\n",
       "  'language': 'en-us'}}"
      ]
     },
     "execution_count": 64,
     "metadata": {},
     "output_type": "execute_result"
    }
   ],
   "source": [
    "data"
   ]
  },
  {
   "cell_type": "markdown",
   "metadata": {},
   "source": [
    "The retrived output contains all information in the 'response' key. In the 'response', there is information about intermediate directions (which street to take a turn, etc.) in the 'route' key. Also present in the 'route' key is the summary of the trip (time, distance, road types etc.)"
   ]
  },
  {
   "cell_type": "markdown",
   "metadata": {},
   "source": [
    "Let's print the time and distance of the whole trip"
   ]
  },
  {
   "cell_type": "code",
   "execution_count": 65,
   "metadata": {},
   "outputs": [
    {
     "data": {
      "text/plain": [
       "1733"
      ]
     },
     "execution_count": 65,
     "metadata": {},
     "output_type": "execute_result"
    }
   ],
   "source": [
    "# get travel time in seconds\n",
    "data['response']['route'][0]['summary']['travelTime']"
   ]
  },
  {
   "cell_type": "code",
   "execution_count": 66,
   "metadata": {},
   "outputs": [
    {
     "data": {
      "text/plain": [
       "25922"
      ]
     },
     "execution_count": 66,
     "metadata": {},
     "output_type": "execute_result"
    }
   ],
   "source": [
    "# travel distance in meters\n",
    "data['response']['route'][0]['summary']['distance']"
   ]
  },
  {
   "cell_type": "markdown",
   "metadata": {},
   "source": [
    "#### Example 2: getting transit time"
   ]
  },
  {
   "cell_type": "markdown",
   "metadata": {},
   "source": [
    "#### API endpoint\n",
    "https://developer.here.com/documentation/public-transit/dev_guide/index.html"
   ]
  },
  {
   "cell_type": "code",
   "execution_count": 67,
   "metadata": {},
   "outputs": [
    {
     "data": {
      "text/plain": [
       "{'routes': [{'id': 'R00142f-C0',\n",
       "   'sections': [{'id': 'R00142f-C0-S0',\n",
       "     'type': 'pedestrian',\n",
       "     'departure': {'time': '2021-10-07T22:29:00-04:00',\n",
       "      'place': {'type': 'place',\n",
       "       'location': {'lat': 40.744301, 'lng': -73.972136}}},\n",
       "     'arrival': {'time': '2021-10-07T22:32:00-04:00',\n",
       "      'place': {'name': 'E 34 St/1 AV',\n",
       "       'type': 'station',\n",
       "       'location': {'lat': 40.744007, 'lng': -73.97394},\n",
       "       'id': '717062322'}},\n",
       "     'transport': {'mode': 'pedestrian'}},\n",
       "    {'id': 'R00142f-C0-S1',\n",
       "     'type': 'transit',\n",
       "     'departure': {'time': '2021-10-07T22:32:00-04:00',\n",
       "      'place': {'name': 'E 34 St/1 AV',\n",
       "       'type': 'station',\n",
       "       'location': {'lat': 40.744007, 'lng': -73.97394},\n",
       "       'id': '717062322'},\n",
       "      'delay': -60},\n",
       "     'arrival': {'time': '2021-10-07T22:43:00-04:00',\n",
       "      'place': {'name': 'W 34 St/8 AV',\n",
       "       'type': 'station',\n",
       "       'location': {'lat': 40.752301, 'lng': -73.993588},\n",
       "       'id': '717060738'},\n",
       "      'delay': 0},\n",
       "     'transport': {'mode': 'bus',\n",
       "      'name': 'M34-SBS',\n",
       "      'category': 'Bus',\n",
       "      'color': '#006CB7',\n",
       "      'textColor': '#FFFFFF',\n",
       "      'headsign': 'SELECT BUS JAVITS CTR 12 AV CROSSTOWN',\n",
       "      'shortName': 'M34-SBS',\n",
       "      'longName': 'East Side - Javits Center'},\n",
       "     'agency': {'id': '2YdMTA00',\n",
       "      'name': 'MTA New York City Transit',\n",
       "      'website': 'http://www.mta.info'}},\n",
       "    {'id': 'R00142f-C0-S2',\n",
       "     'type': 'pedestrian',\n",
       "     'departure': {'time': '2021-10-07T22:43:00-04:00',\n",
       "      'place': {'name': 'W 34 St/8 AV',\n",
       "       'type': 'station',\n",
       "       'location': {'lat': 40.752301, 'lng': -73.993588},\n",
       "       'id': '717060738'}},\n",
       "     'arrival': {'time': '2021-10-07T22:46:00-04:00',\n",
       "      'place': {'name': '34 St-Penn Station',\n",
       "       'type': 'station',\n",
       "       'location': {'lat': 40.752287, 'lng': -73.993391},\n",
       "       'id': '717080595'}},\n",
       "     'transport': {'mode': 'pedestrian'}},\n",
       "    {'id': 'R00142f-C0-S3',\n",
       "     'type': 'transit',\n",
       "     'departure': {'time': '2021-10-07T22:49:00-04:00',\n",
       "      'place': {'name': '34 St-Penn Station',\n",
       "       'type': 'station',\n",
       "       'location': {'lat': 40.752287, 'lng': -73.993391},\n",
       "       'id': '717080595'}},\n",
       "     'arrival': {'time': '2021-10-07T23:01:00-04:00',\n",
       "      'place': {'name': 'Fulton St',\n",
       "       'type': 'station',\n",
       "       'location': {'lat': 40.710197, 'lng': -74.007691},\n",
       "       'id': '717080616'}},\n",
       "     'transport': {'mode': 'subway',\n",
       "      'name': 'A',\n",
       "      'category': 'Subway, Metro',\n",
       "      'color': '#2850AD',\n",
       "      'textColor': '#FFFFFF',\n",
       "      'headsign': 'Far Rockaway-Mott Av',\n",
       "      'shortName': 'A',\n",
       "      'longName': '8 Avenue Express'},\n",
       "     'agency': {'id': '2GzMTA00',\n",
       "      'name': 'MTA New York City Transit',\n",
       "      'website': 'http://www.mta.info'}},\n",
       "    {'id': 'R00142f-C0-S4',\n",
       "     'type': 'pedestrian',\n",
       "     'departure': {'time': '2021-10-07T23:01:00-04:00',\n",
       "      'place': {'name': 'Fulton St',\n",
       "       'type': 'station',\n",
       "       'location': {'lat': 40.710197, 'lng': -74.007691},\n",
       "       'id': '717080616'}},\n",
       "     'arrival': {'time': '2021-10-07T23:05:00-04:00',\n",
       "      'place': {'type': 'place',\n",
       "       'location': {'lat': 40.708592, 'lng': -74.008704}}},\n",
       "     'transport': {'mode': 'pedestrian'}}]}]}"
      ]
     },
     "execution_count": 67,
     "metadata": {},
     "output_type": "execute_result"
    }
   ],
   "source": [
    "apiKey = 'PeGRmBEmT4i0EL5OqB4VhZDyRhLyqqW8U0dO-QtfOaU'\n",
    "lon_pickup, lat_pickup = -73.972136, 40.744301\n",
    "lon_dropoff, lat_dropoff = -74.008704, 40.708592\n",
    "\n",
    "url = str('https://transit.router.hereapi.com/v8/routes?apiKey={}&origin={},{}&destination={},{}').format(apiKey, lat_pickup, lon_pickup, \n",
    "                                                                                                        lat_dropoff, lon_dropoff)\n",
    "# url = str('https://transit.ls.hereapi.com/v8/route.json?apiKey={}&routing=all&dep={},{}&arr={},{}&time=2021-09-21T07%3A30%3A00'.format(apiKey, lat_pickup, lon_pickup, \n",
    "#                                                                                                         lat_dropoff, lon_dropoff))\n",
    "\n",
    "data = urllib.urlopen(url).read().decode('utf-8')\n",
    "data = json.loads(data)\n",
    "data"
   ]
  },
  {
   "cell_type": "markdown",
   "metadata": {},
   "source": [
    "Note that retrieved output keys are different from what we obtained in case of driving direction request. \n",
    "\n",
    "Here all data is present in the 'routes' key with information regarding intermediate stations. There are multiple transit sections with each segment, representing either a pedestrian or a transit segment, containing departure and arrival times, duration, and coordinates. To get the overall duration of the trip, we just need departure time from first segment and arrival time at last segment.\n",
    "\n",
    "Important: You may get the retrieved repsonse other than above if any transit route is not available from specified origin to destination. \n",
    "Invalid responses are 'Timestamp out of validity period' and 'No result found'"
   ]
  },
  {
   "cell_type": "markdown",
   "metadata": {},
   "source": [
    "total travel time: subtract last segment arrival time and first segment departure time to get total time\n",
    "\n",
    "'parser.parse is a tool to convert str into timestamps"
   ]
  },
  {
   "cell_type": "code",
   "execution_count": 68,
   "metadata": {},
   "outputs": [
    {
     "data": {
      "text/plain": [
       "1920"
      ]
     },
     "execution_count": 68,
     "metadata": {},
     "output_type": "execute_result"
    }
   ],
   "source": [
    "x = parser.parse(data['routes'][0]['sections'][-1]['departure']['time']) - parser.parse(data['routes'][0]['sections'][0]['departure']['time'])\n",
    "x.seconds"
   ]
  },
  {
   "cell_type": "markdown",
   "metadata": {},
   "source": [
    "Converting to minutes"
   ]
  },
  {
   "cell_type": "code",
   "execution_count": 69,
   "metadata": {},
   "outputs": [
    {
     "data": {
      "text/plain": [
       "32.0"
      ]
     },
     "execution_count": 69,
     "metadata": {},
     "output_type": "execute_result"
    }
   ],
   "source": [
    "x.seconds/60"
   ]
  },
  {
   "cell_type": "markdown",
   "metadata": {},
   "source": [
    "## Now access information for a sample of selected origin-destination points"
   ]
  },
  {
   "cell_type": "code",
   "execution_count": 70,
   "metadata": {},
   "outputs": [
    {
     "ename": "FileNotFoundError",
     "evalue": "[Errno 2] No such file or directory: 'samplePoints.csv'",
     "output_type": "error",
     "traceback": [
      "\u001b[0;31m---------------------------------------------------------------------------\u001b[0m",
      "\u001b[0;31mFileNotFoundError\u001b[0m                         Traceback (most recent call last)",
      "\u001b[0;32m/tmp/ipykernel_84/1858068526.py\u001b[0m in \u001b[0;36m<module>\u001b[0;34m\u001b[0m\n\u001b[1;32m      1\u001b[0m \u001b[0;31m# sample points lat-longs\u001b[0m\u001b[0;34m\u001b[0m\u001b[0;34m\u001b[0m\u001b[0;34m\u001b[0m\u001b[0m\n\u001b[1;32m      2\u001b[0m \u001b[0;34m\u001b[0m\u001b[0m\n\u001b[0;32m----> 3\u001b[0;31m \u001b[0mdf\u001b[0m \u001b[0;34m=\u001b[0m \u001b[0mpd\u001b[0m\u001b[0;34m.\u001b[0m\u001b[0mread_csv\u001b[0m\u001b[0;34m(\u001b[0m\u001b[0;34m'samplePoints.csv'\u001b[0m\u001b[0;34m)\u001b[0m\u001b[0;34m\u001b[0m\u001b[0;34m\u001b[0m\u001b[0m\n\u001b[0m\u001b[1;32m      4\u001b[0m \u001b[0mdf\u001b[0m\u001b[0;34m.\u001b[0m\u001b[0mhead\u001b[0m\u001b[0;34m(\u001b[0m\u001b[0;34m)\u001b[0m\u001b[0;34m\u001b[0m\u001b[0;34m\u001b[0m\u001b[0m\n",
      "\u001b[0;32m/opt/conda/envs/PUI/lib/python3.8/site-packages/pandas/util/_decorators.py\u001b[0m in \u001b[0;36mwrapper\u001b[0;34m(*args, **kwargs)\u001b[0m\n\u001b[1;32m    309\u001b[0m                     \u001b[0mstacklevel\u001b[0m\u001b[0;34m=\u001b[0m\u001b[0mstacklevel\u001b[0m\u001b[0;34m,\u001b[0m\u001b[0;34m\u001b[0m\u001b[0;34m\u001b[0m\u001b[0m\n\u001b[1;32m    310\u001b[0m                 )\n\u001b[0;32m--> 311\u001b[0;31m             \u001b[0;32mreturn\u001b[0m \u001b[0mfunc\u001b[0m\u001b[0;34m(\u001b[0m\u001b[0;34m*\u001b[0m\u001b[0margs\u001b[0m\u001b[0;34m,\u001b[0m \u001b[0;34m**\u001b[0m\u001b[0mkwargs\u001b[0m\u001b[0;34m)\u001b[0m\u001b[0;34m\u001b[0m\u001b[0;34m\u001b[0m\u001b[0m\n\u001b[0m\u001b[1;32m    312\u001b[0m \u001b[0;34m\u001b[0m\u001b[0m\n\u001b[1;32m    313\u001b[0m         \u001b[0;32mreturn\u001b[0m \u001b[0mwrapper\u001b[0m\u001b[0;34m\u001b[0m\u001b[0;34m\u001b[0m\u001b[0m\n",
      "\u001b[0;32m/opt/conda/envs/PUI/lib/python3.8/site-packages/pandas/io/parsers/readers.py\u001b[0m in \u001b[0;36mread_csv\u001b[0;34m(filepath_or_buffer, sep, delimiter, header, names, index_col, usecols, squeeze, prefix, mangle_dupe_cols, dtype, engine, converters, true_values, false_values, skipinitialspace, skiprows, skipfooter, nrows, na_values, keep_default_na, na_filter, verbose, skip_blank_lines, parse_dates, infer_datetime_format, keep_date_col, date_parser, dayfirst, cache_dates, iterator, chunksize, compression, thousands, decimal, lineterminator, quotechar, quoting, doublequote, escapechar, comment, encoding, encoding_errors, dialect, error_bad_lines, warn_bad_lines, on_bad_lines, delim_whitespace, low_memory, memory_map, float_precision, storage_options)\u001b[0m\n\u001b[1;32m    584\u001b[0m     \u001b[0mkwds\u001b[0m\u001b[0;34m.\u001b[0m\u001b[0mupdate\u001b[0m\u001b[0;34m(\u001b[0m\u001b[0mkwds_defaults\u001b[0m\u001b[0;34m)\u001b[0m\u001b[0;34m\u001b[0m\u001b[0;34m\u001b[0m\u001b[0m\n\u001b[1;32m    585\u001b[0m \u001b[0;34m\u001b[0m\u001b[0m\n\u001b[0;32m--> 586\u001b[0;31m     \u001b[0;32mreturn\u001b[0m \u001b[0m_read\u001b[0m\u001b[0;34m(\u001b[0m\u001b[0mfilepath_or_buffer\u001b[0m\u001b[0;34m,\u001b[0m \u001b[0mkwds\u001b[0m\u001b[0;34m)\u001b[0m\u001b[0;34m\u001b[0m\u001b[0;34m\u001b[0m\u001b[0m\n\u001b[0m\u001b[1;32m    587\u001b[0m \u001b[0;34m\u001b[0m\u001b[0m\n\u001b[1;32m    588\u001b[0m \u001b[0;34m\u001b[0m\u001b[0m\n",
      "\u001b[0;32m/opt/conda/envs/PUI/lib/python3.8/site-packages/pandas/io/parsers/readers.py\u001b[0m in \u001b[0;36m_read\u001b[0;34m(filepath_or_buffer, kwds)\u001b[0m\n\u001b[1;32m    480\u001b[0m \u001b[0;34m\u001b[0m\u001b[0m\n\u001b[1;32m    481\u001b[0m     \u001b[0;31m# Create the parser.\u001b[0m\u001b[0;34m\u001b[0m\u001b[0;34m\u001b[0m\u001b[0;34m\u001b[0m\u001b[0m\n\u001b[0;32m--> 482\u001b[0;31m     \u001b[0mparser\u001b[0m \u001b[0;34m=\u001b[0m \u001b[0mTextFileReader\u001b[0m\u001b[0;34m(\u001b[0m\u001b[0mfilepath_or_buffer\u001b[0m\u001b[0;34m,\u001b[0m \u001b[0;34m**\u001b[0m\u001b[0mkwds\u001b[0m\u001b[0;34m)\u001b[0m\u001b[0;34m\u001b[0m\u001b[0;34m\u001b[0m\u001b[0m\n\u001b[0m\u001b[1;32m    483\u001b[0m \u001b[0;34m\u001b[0m\u001b[0m\n\u001b[1;32m    484\u001b[0m     \u001b[0;32mif\u001b[0m \u001b[0mchunksize\u001b[0m \u001b[0;32mor\u001b[0m \u001b[0miterator\u001b[0m\u001b[0;34m:\u001b[0m\u001b[0;34m\u001b[0m\u001b[0;34m\u001b[0m\u001b[0m\n",
      "\u001b[0;32m/opt/conda/envs/PUI/lib/python3.8/site-packages/pandas/io/parsers/readers.py\u001b[0m in \u001b[0;36m__init__\u001b[0;34m(self, f, engine, **kwds)\u001b[0m\n\u001b[1;32m    809\u001b[0m             \u001b[0mself\u001b[0m\u001b[0;34m.\u001b[0m\u001b[0moptions\u001b[0m\u001b[0;34m[\u001b[0m\u001b[0;34m\"has_index_names\"\u001b[0m\u001b[0;34m]\u001b[0m \u001b[0;34m=\u001b[0m \u001b[0mkwds\u001b[0m\u001b[0;34m[\u001b[0m\u001b[0;34m\"has_index_names\"\u001b[0m\u001b[0;34m]\u001b[0m\u001b[0;34m\u001b[0m\u001b[0;34m\u001b[0m\u001b[0m\n\u001b[1;32m    810\u001b[0m \u001b[0;34m\u001b[0m\u001b[0m\n\u001b[0;32m--> 811\u001b[0;31m         \u001b[0mself\u001b[0m\u001b[0;34m.\u001b[0m\u001b[0m_engine\u001b[0m \u001b[0;34m=\u001b[0m \u001b[0mself\u001b[0m\u001b[0;34m.\u001b[0m\u001b[0m_make_engine\u001b[0m\u001b[0;34m(\u001b[0m\u001b[0mself\u001b[0m\u001b[0;34m.\u001b[0m\u001b[0mengine\u001b[0m\u001b[0;34m)\u001b[0m\u001b[0;34m\u001b[0m\u001b[0;34m\u001b[0m\u001b[0m\n\u001b[0m\u001b[1;32m    812\u001b[0m \u001b[0;34m\u001b[0m\u001b[0m\n\u001b[1;32m    813\u001b[0m     \u001b[0;32mdef\u001b[0m \u001b[0mclose\u001b[0m\u001b[0;34m(\u001b[0m\u001b[0mself\u001b[0m\u001b[0;34m)\u001b[0m\u001b[0;34m:\u001b[0m\u001b[0;34m\u001b[0m\u001b[0;34m\u001b[0m\u001b[0m\n",
      "\u001b[0;32m/opt/conda/envs/PUI/lib/python3.8/site-packages/pandas/io/parsers/readers.py\u001b[0m in \u001b[0;36m_make_engine\u001b[0;34m(self, engine)\u001b[0m\n\u001b[1;32m   1038\u001b[0m             )\n\u001b[1;32m   1039\u001b[0m         \u001b[0;31m# error: Too many arguments for \"ParserBase\"\u001b[0m\u001b[0;34m\u001b[0m\u001b[0;34m\u001b[0m\u001b[0;34m\u001b[0m\u001b[0m\n\u001b[0;32m-> 1040\u001b[0;31m         \u001b[0;32mreturn\u001b[0m \u001b[0mmapping\u001b[0m\u001b[0;34m[\u001b[0m\u001b[0mengine\u001b[0m\u001b[0;34m]\u001b[0m\u001b[0;34m(\u001b[0m\u001b[0mself\u001b[0m\u001b[0;34m.\u001b[0m\u001b[0mf\u001b[0m\u001b[0;34m,\u001b[0m \u001b[0;34m**\u001b[0m\u001b[0mself\u001b[0m\u001b[0;34m.\u001b[0m\u001b[0moptions\u001b[0m\u001b[0;34m)\u001b[0m  \u001b[0;31m# type: ignore[call-arg]\u001b[0m\u001b[0;34m\u001b[0m\u001b[0;34m\u001b[0m\u001b[0m\n\u001b[0m\u001b[1;32m   1041\u001b[0m \u001b[0;34m\u001b[0m\u001b[0m\n\u001b[1;32m   1042\u001b[0m     \u001b[0;32mdef\u001b[0m \u001b[0m_failover_to_python\u001b[0m\u001b[0;34m(\u001b[0m\u001b[0mself\u001b[0m\u001b[0;34m)\u001b[0m\u001b[0;34m:\u001b[0m\u001b[0;34m\u001b[0m\u001b[0;34m\u001b[0m\u001b[0m\n",
      "\u001b[0;32m/opt/conda/envs/PUI/lib/python3.8/site-packages/pandas/io/parsers/c_parser_wrapper.py\u001b[0m in \u001b[0;36m__init__\u001b[0;34m(self, src, **kwds)\u001b[0m\n\u001b[1;32m     49\u001b[0m \u001b[0;34m\u001b[0m\u001b[0m\n\u001b[1;32m     50\u001b[0m         \u001b[0;31m# open handles\u001b[0m\u001b[0;34m\u001b[0m\u001b[0;34m\u001b[0m\u001b[0;34m\u001b[0m\u001b[0m\n\u001b[0;32m---> 51\u001b[0;31m         \u001b[0mself\u001b[0m\u001b[0;34m.\u001b[0m\u001b[0m_open_handles\u001b[0m\u001b[0;34m(\u001b[0m\u001b[0msrc\u001b[0m\u001b[0;34m,\u001b[0m \u001b[0mkwds\u001b[0m\u001b[0;34m)\u001b[0m\u001b[0;34m\u001b[0m\u001b[0;34m\u001b[0m\u001b[0m\n\u001b[0m\u001b[1;32m     52\u001b[0m         \u001b[0;32massert\u001b[0m \u001b[0mself\u001b[0m\u001b[0;34m.\u001b[0m\u001b[0mhandles\u001b[0m \u001b[0;32mis\u001b[0m \u001b[0;32mnot\u001b[0m \u001b[0;32mNone\u001b[0m\u001b[0;34m\u001b[0m\u001b[0;34m\u001b[0m\u001b[0m\n\u001b[1;32m     53\u001b[0m \u001b[0;34m\u001b[0m\u001b[0m\n",
      "\u001b[0;32m/opt/conda/envs/PUI/lib/python3.8/site-packages/pandas/io/parsers/base_parser.py\u001b[0m in \u001b[0;36m_open_handles\u001b[0;34m(self, src, kwds)\u001b[0m\n\u001b[1;32m    220\u001b[0m         \u001b[0mLet\u001b[0m \u001b[0mthe\u001b[0m \u001b[0mreaders\u001b[0m \u001b[0mopen\u001b[0m \u001b[0mIOHandles\u001b[0m \u001b[0mafter\u001b[0m \u001b[0mthey\u001b[0m \u001b[0mare\u001b[0m \u001b[0mdone\u001b[0m \u001b[0;32mwith\u001b[0m \u001b[0mtheir\u001b[0m \u001b[0mpotential\u001b[0m \u001b[0mraises\u001b[0m\u001b[0;34m.\u001b[0m\u001b[0;34m\u001b[0m\u001b[0;34m\u001b[0m\u001b[0m\n\u001b[1;32m    221\u001b[0m         \"\"\"\n\u001b[0;32m--> 222\u001b[0;31m         self.handles = get_handle(\n\u001b[0m\u001b[1;32m    223\u001b[0m             \u001b[0msrc\u001b[0m\u001b[0;34m,\u001b[0m\u001b[0;34m\u001b[0m\u001b[0;34m\u001b[0m\u001b[0m\n\u001b[1;32m    224\u001b[0m             \u001b[0;34m\"r\"\u001b[0m\u001b[0;34m,\u001b[0m\u001b[0;34m\u001b[0m\u001b[0;34m\u001b[0m\u001b[0m\n",
      "\u001b[0;32m/opt/conda/envs/PUI/lib/python3.8/site-packages/pandas/io/common.py\u001b[0m in \u001b[0;36mget_handle\u001b[0;34m(path_or_buf, mode, encoding, compression, memory_map, is_text, errors, storage_options)\u001b[0m\n\u001b[1;32m    699\u001b[0m         \u001b[0;32mif\u001b[0m \u001b[0mioargs\u001b[0m\u001b[0;34m.\u001b[0m\u001b[0mencoding\u001b[0m \u001b[0;32mand\u001b[0m \u001b[0;34m\"b\"\u001b[0m \u001b[0;32mnot\u001b[0m \u001b[0;32min\u001b[0m \u001b[0mioargs\u001b[0m\u001b[0;34m.\u001b[0m\u001b[0mmode\u001b[0m\u001b[0;34m:\u001b[0m\u001b[0;34m\u001b[0m\u001b[0;34m\u001b[0m\u001b[0m\n\u001b[1;32m    700\u001b[0m             \u001b[0;31m# Encoding\u001b[0m\u001b[0;34m\u001b[0m\u001b[0;34m\u001b[0m\u001b[0;34m\u001b[0m\u001b[0m\n\u001b[0;32m--> 701\u001b[0;31m             handle = open(\n\u001b[0m\u001b[1;32m    702\u001b[0m                 \u001b[0mhandle\u001b[0m\u001b[0;34m,\u001b[0m\u001b[0;34m\u001b[0m\u001b[0;34m\u001b[0m\u001b[0m\n\u001b[1;32m    703\u001b[0m                 \u001b[0mioargs\u001b[0m\u001b[0;34m.\u001b[0m\u001b[0mmode\u001b[0m\u001b[0;34m,\u001b[0m\u001b[0;34m\u001b[0m\u001b[0;34m\u001b[0m\u001b[0m\n",
      "\u001b[0;31mFileNotFoundError\u001b[0m: [Errno 2] No such file or directory: 'samplePoints.csv'"
     ]
    }
   ],
   "source": [
    "# sample points lat-longs\n",
    "\n",
    "df = pd.read_csv('samplePoints.csv')\n",
    "df.head()"
   ]
  },
  {
   "cell_type": "code",
   "execution_count": null,
   "metadata": {},
   "outputs": [],
   "source": [
    "len(df) ##one random point per each zip code"
   ]
  },
  {
   "cell_type": "markdown",
   "metadata": {},
   "source": [
    "Function for getting driving time for a dataframe of above type"
   ]
  },
  {
   "cell_type": "code",
   "execution_count": 71,
   "metadata": {},
   "outputs": [],
   "source": [
    "def driving(file, apiKey): \n",
    "    '''\n",
    "    Input: the file that contain origin-destination lan/long information; keys from Map\n",
    "    Output: list of driving times corresponding the input O-D pairs\n",
    "    '''\n",
    "    duration_list= []  # list for storing times\n",
    "    for index, row in tqdm(file.iterrows()): # iterating through all rows of sample points\n",
    "        lon_pickup = row['lon_pickup']  \n",
    "        lat_pickup = row['lat_pickup']\n",
    "        lon_dropoff = row['lon_dropoff']\n",
    "        lat_dropoff = row['lat_dropoff']\n",
    "        \n",
    "        # specifying origin-desination lat-longs in the endpoint and making request\n",
    "        url = str('https://route.ls.hereapi.com/routing/7.2/calculateroute.json?apiKey={}&waypoint0=geo!{},{}&waypoint1=geo!{},{}&mode=fastest;car;traffic:disabled'.format(apiKey, lat_pickup, lon_pickup, lat_dropoff, lon_dropoff))\n",
    "        data = urllib.urlopen(url).read().decode('utf-8')\n",
    "        data = json.loads(data)\n",
    "        \n",
    "        # append travel time to 'duration' list, nan if no travel time retrieved\n",
    "        try:    \n",
    "            duration = data['response']['route'][0]['summary']['travelTime']\n",
    "        except:\n",
    "            duration = np.nan\n",
    "            \n",
    "        duration_list.append(duration)\n",
    "\n",
    "    return duration_list  "
   ]
  },
  {
   "cell_type": "markdown",
   "metadata": {},
   "source": [
    "Passing 10 random O-D pairs"
   ]
  },
  {
   "cell_type": "code",
   "execution_count": 72,
   "metadata": {},
   "outputs": [
    {
     "data": {
      "text/html": [
       "<div>\n",
       "<style scoped>\n",
       "    .dataframe tbody tr th:only-of-type {\n",
       "        vertical-align: middle;\n",
       "    }\n",
       "\n",
       "    .dataframe tbody tr th {\n",
       "        vertical-align: top;\n",
       "    }\n",
       "\n",
       "    .dataframe thead th {\n",
       "        text-align: right;\n",
       "    }\n",
       "</style>\n",
       "<table border=\"1\" class=\"dataframe\">\n",
       "  <thead>\n",
       "    <tr style=\"text-align: right;\">\n",
       "      <th></th>\n",
       "      <th>LocationID</th>\n",
       "      <th>lon_pickup</th>\n",
       "      <th>lat_pickup</th>\n",
       "      <th>LocationID2</th>\n",
       "      <th>lon_dropoff</th>\n",
       "      <th>lat_dropoff</th>\n",
       "    </tr>\n",
       "  </thead>\n",
       "  <tbody>\n",
       "    <tr>\n",
       "      <th>0</th>\n",
       "      <td>110</td>\n",
       "      <td>-74.128342</td>\n",
       "      <td>40.545780</td>\n",
       "      <td>254</td>\n",
       "      <td>-73.858948</td>\n",
       "      <td>40.882157</td>\n",
       "    </tr>\n",
       "    <tr>\n",
       "      <th>1</th>\n",
       "      <td>51</td>\n",
       "      <td>-73.828264</td>\n",
       "      <td>40.873973</td>\n",
       "      <td>92</td>\n",
       "      <td>-73.828859</td>\n",
       "      <td>40.761102</td>\n",
       "    </tr>\n",
       "    <tr>\n",
       "      <th>2</th>\n",
       "      <td>166</td>\n",
       "      <td>-73.961764</td>\n",
       "      <td>40.809457</td>\n",
       "      <td>234</td>\n",
       "      <td>-73.990458</td>\n",
       "      <td>40.740337</td>\n",
       "    </tr>\n",
       "    <tr>\n",
       "      <th>3</th>\n",
       "      <td>207</td>\n",
       "      <td>-73.899353</td>\n",
       "      <td>40.763986</td>\n",
       "      <td>248</td>\n",
       "      <td>-73.872289</td>\n",
       "      <td>40.834165</td>\n",
       "    </tr>\n",
       "    <tr>\n",
       "      <th>4</th>\n",
       "      <td>195</td>\n",
       "      <td>-74.009178</td>\n",
       "      <td>40.675549</td>\n",
       "      <td>68</td>\n",
       "      <td>-73.999917</td>\n",
       "      <td>40.748428</td>\n",
       "    </tr>\n",
       "    <tr>\n",
       "      <th>5</th>\n",
       "      <td>251</td>\n",
       "      <td>-74.125348</td>\n",
       "      <td>40.616880</td>\n",
       "      <td>114</td>\n",
       "      <td>-73.997380</td>\n",
       "      <td>40.728340</td>\n",
       "    </tr>\n",
       "    <tr>\n",
       "      <th>6</th>\n",
       "      <td>71</td>\n",
       "      <td>-73.937966</td>\n",
       "      <td>40.644288</td>\n",
       "      <td>118</td>\n",
       "      <td>-74.132979</td>\n",
       "      <td>40.586555</td>\n",
       "    </tr>\n",
       "    <tr>\n",
       "      <th>7</th>\n",
       "      <td>139</td>\n",
       "      <td>-73.744234</td>\n",
       "      <td>40.677098</td>\n",
       "      <td>202</td>\n",
       "      <td>-73.949952</td>\n",
       "      <td>40.761900</td>\n",
       "    </tr>\n",
       "    <tr>\n",
       "      <th>8</th>\n",
       "      <td>76</td>\n",
       "      <td>-73.876821</td>\n",
       "      <td>40.660935</td>\n",
       "      <td>240</td>\n",
       "      <td>-73.881978</td>\n",
       "      <td>40.894599</td>\n",
       "    </tr>\n",
       "    <tr>\n",
       "      <th>9</th>\n",
       "      <td>165</td>\n",
       "      <td>-73.956825</td>\n",
       "      <td>40.620924</td>\n",
       "      <td>258</td>\n",
       "      <td>-73.855767</td>\n",
       "      <td>40.688721</td>\n",
       "    </tr>\n",
       "  </tbody>\n",
       "</table>\n",
       "</div>"
      ],
      "text/plain": [
       "   LocationID  lon_pickup  lat_pickup  LocationID2  lon_dropoff  lat_dropoff\n",
       "0         110  -74.128342   40.545780          254   -73.858948    40.882157\n",
       "1          51  -73.828264   40.873973           92   -73.828859    40.761102\n",
       "2         166  -73.961764   40.809457          234   -73.990458    40.740337\n",
       "3         207  -73.899353   40.763986          248   -73.872289    40.834165\n",
       "4         195  -74.009178   40.675549           68   -73.999917    40.748428\n",
       "5         251  -74.125348   40.616880          114   -73.997380    40.728340\n",
       "6          71  -73.937966   40.644288          118   -74.132979    40.586555\n",
       "7         139  -73.744234   40.677098          202   -73.949952    40.761900\n",
       "8          76  -73.876821   40.660935          240   -73.881978    40.894599\n",
       "9         165  -73.956825   40.620924          258   -73.855767    40.688721"
      ]
     },
     "execution_count": 72,
     "metadata": {},
     "output_type": "execute_result"
    }
   ],
   "source": [
    "sample = df.sample(10, random_state=2020)\n",
    "sample.reset_index(drop=True, inplace=True)\n",
    "\n",
    "sample"
   ]
  },
  {
   "cell_type": "markdown",
   "metadata": {},
   "source": [
    "Calling the function to get responses from API"
   ]
  },
  {
   "cell_type": "code",
   "execution_count": 73,
   "metadata": {},
   "outputs": [
    {
     "name": "stderr",
     "output_type": "stream",
     "text": [
      "10it [00:01,  6.73it/s]\n"
     ]
    },
    {
     "data": {
      "text/html": [
       "<div>\n",
       "<style scoped>\n",
       "    .dataframe tbody tr th:only-of-type {\n",
       "        vertical-align: middle;\n",
       "    }\n",
       "\n",
       "    .dataframe tbody tr th {\n",
       "        vertical-align: top;\n",
       "    }\n",
       "\n",
       "    .dataframe thead th {\n",
       "        text-align: right;\n",
       "    }\n",
       "</style>\n",
       "<table border=\"1\" class=\"dataframe\">\n",
       "  <thead>\n",
       "    <tr style=\"text-align: right;\">\n",
       "      <th></th>\n",
       "      <th>LocationID</th>\n",
       "      <th>lon_pickup</th>\n",
       "      <th>lat_pickup</th>\n",
       "      <th>LocationID2</th>\n",
       "      <th>lon_dropoff</th>\n",
       "      <th>lat_dropoff</th>\n",
       "      <th>driving_time</th>\n",
       "    </tr>\n",
       "  </thead>\n",
       "  <tbody>\n",
       "    <tr>\n",
       "      <th>0</th>\n",
       "      <td>110</td>\n",
       "      <td>-74.128342</td>\n",
       "      <td>40.545780</td>\n",
       "      <td>254</td>\n",
       "      <td>-73.858948</td>\n",
       "      <td>40.882157</td>\n",
       "      <td>4358</td>\n",
       "    </tr>\n",
       "    <tr>\n",
       "      <th>1</th>\n",
       "      <td>51</td>\n",
       "      <td>-73.828264</td>\n",
       "      <td>40.873973</td>\n",
       "      <td>92</td>\n",
       "      <td>-73.828859</td>\n",
       "      <td>40.761102</td>\n",
       "      <td>1274</td>\n",
       "    </tr>\n",
       "    <tr>\n",
       "      <th>2</th>\n",
       "      <td>166</td>\n",
       "      <td>-73.961764</td>\n",
       "      <td>40.809457</td>\n",
       "      <td>234</td>\n",
       "      <td>-73.990458</td>\n",
       "      <td>40.740337</td>\n",
       "      <td>1279</td>\n",
       "    </tr>\n",
       "    <tr>\n",
       "      <th>3</th>\n",
       "      <td>207</td>\n",
       "      <td>-73.899353</td>\n",
       "      <td>40.763986</td>\n",
       "      <td>248</td>\n",
       "      <td>-73.872289</td>\n",
       "      <td>40.834165</td>\n",
       "      <td>1216</td>\n",
       "    </tr>\n",
       "    <tr>\n",
       "      <th>4</th>\n",
       "      <td>195</td>\n",
       "      <td>-74.009178</td>\n",
       "      <td>40.675549</td>\n",
       "      <td>68</td>\n",
       "      <td>-73.999917</td>\n",
       "      <td>40.748428</td>\n",
       "      <td>1144</td>\n",
       "    </tr>\n",
       "    <tr>\n",
       "      <th>5</th>\n",
       "      <td>251</td>\n",
       "      <td>-74.125348</td>\n",
       "      <td>40.616880</td>\n",
       "      <td>114</td>\n",
       "      <td>-73.997380</td>\n",
       "      <td>40.728340</td>\n",
       "      <td>2036</td>\n",
       "    </tr>\n",
       "    <tr>\n",
       "      <th>6</th>\n",
       "      <td>71</td>\n",
       "      <td>-73.937966</td>\n",
       "      <td>40.644288</td>\n",
       "      <td>118</td>\n",
       "      <td>-74.132979</td>\n",
       "      <td>40.586555</td>\n",
       "      <td>2261</td>\n",
       "    </tr>\n",
       "    <tr>\n",
       "      <th>7</th>\n",
       "      <td>139</td>\n",
       "      <td>-73.744234</td>\n",
       "      <td>40.677098</td>\n",
       "      <td>202</td>\n",
       "      <td>-73.949952</td>\n",
       "      <td>40.761900</td>\n",
       "      <td>2333</td>\n",
       "    </tr>\n",
       "    <tr>\n",
       "      <th>8</th>\n",
       "      <td>76</td>\n",
       "      <td>-73.876821</td>\n",
       "      <td>40.660935</td>\n",
       "      <td>240</td>\n",
       "      <td>-73.881978</td>\n",
       "      <td>40.894599</td>\n",
       "      <td>2640</td>\n",
       "    </tr>\n",
       "    <tr>\n",
       "      <th>9</th>\n",
       "      <td>165</td>\n",
       "      <td>-73.956825</td>\n",
       "      <td>40.620924</td>\n",
       "      <td>258</td>\n",
       "      <td>-73.855767</td>\n",
       "      <td>40.688721</td>\n",
       "      <td>1965</td>\n",
       "    </tr>\n",
       "  </tbody>\n",
       "</table>\n",
       "</div>"
      ],
      "text/plain": [
       "   LocationID  lon_pickup  lat_pickup  LocationID2  lon_dropoff  lat_dropoff  \\\n",
       "0         110  -74.128342   40.545780          254   -73.858948    40.882157   \n",
       "1          51  -73.828264   40.873973           92   -73.828859    40.761102   \n",
       "2         166  -73.961764   40.809457          234   -73.990458    40.740337   \n",
       "3         207  -73.899353   40.763986          248   -73.872289    40.834165   \n",
       "4         195  -74.009178   40.675549           68   -73.999917    40.748428   \n",
       "5         251  -74.125348   40.616880          114   -73.997380    40.728340   \n",
       "6          71  -73.937966   40.644288          118   -74.132979    40.586555   \n",
       "7         139  -73.744234   40.677098          202   -73.949952    40.761900   \n",
       "8          76  -73.876821   40.660935          240   -73.881978    40.894599   \n",
       "9         165  -73.956825   40.620924          258   -73.855767    40.688721   \n",
       "\n",
       "   driving_time  \n",
       "0          4358  \n",
       "1          1274  \n",
       "2          1279  \n",
       "3          1216  \n",
       "4          1144  \n",
       "5          2036  \n",
       "6          2261  \n",
       "7          2333  \n",
       "8          2640  \n",
       "9          1965  "
      ]
     },
     "execution_count": 73,
     "metadata": {},
     "output_type": "execute_result"
    }
   ],
   "source": [
    "sample['driving_time'] = driving(sample, apiKey)\n",
    "sample"
   ]
  },
  {
   "cell_type": "markdown",
   "metadata": {},
   "source": [
    "### NYC Open data API: \n",
    "NYC open data offers API for almost every available data from crime, housing, 311, taxi etc.\n",
    "Also its free for the most part and no account needed\n",
    "\n",
    "https://opendata.cityofnewyork.us/"
   ]
  },
  {
   "cell_type": "markdown",
   "metadata": {},
   "source": [
    "#### Example: Endpoint for 2018 taxi data\n",
    "https://data.cityofnewyork.us/resource/t29m-gskq.json"
   ]
  },
  {
   "cell_type": "code",
   "execution_count": 74,
   "metadata": {},
   "outputs": [],
   "source": [
    "# some parameters to filter the data. We can specify as many parameters as columns in the table.\n",
    "# reference: https://dev.socrata.com/foundry/data.cityofnewyork.us/t29m-gskq\n",
    "\n",
    "# extracting info for a specific O-D pair corresponding to near E 35th st as pick up and Newark airport as drop off\n",
    "# this is around the same pick-up and drop-off location we used to get driving time from HereMap API\n",
    "parameter = {'pulocationid':162, 'dolocationid':1}\n",
    "\n"
   ]
  },
  {
   "cell_type": "markdown",
   "metadata": {},
   "source": [
    "making API request\n",
    "\n",
    "'requests' is another package of making web requests. Highly uselful in the case of REST APIs and we can provide parameters together in one line of code. We'll use the 'get' method to retrieve data"
   ]
  },
  {
   "cell_type": "code",
   "execution_count": 75,
   "metadata": {},
   "outputs": [],
   "source": [
    "url =  \"https://data.cityofnewyork.us/resource/t29m-gskq.json\"\n",
    "r = requests.get(url = url, params=parameter)\n",
    "data = r.json()"
   ]
  },
  {
   "cell_type": "markdown",
   "metadata": {},
   "source": [
    "fisrt three returned observations"
   ]
  },
  {
   "cell_type": "code",
   "execution_count": 76,
   "metadata": {},
   "outputs": [
    {
     "data": {
      "text/plain": [
       "[{'vendorid': '1',\n",
       "  'tpep_pickup_datetime': '2018-02-14T13:10:19.000',\n",
       "  'tpep_dropoff_datetime': '2018-02-14T13:53:15.000',\n",
       "  'passenger_count': '1',\n",
       "  'trip_distance': '17.40',\n",
       "  'ratecodeid': '3',\n",
       "  'store_and_fwd_flag': 'N',\n",
       "  'pulocationid': '162',\n",
       "  'dolocationid': '1',\n",
       "  'payment_type': '1',\n",
       "  'fare_amount': '68.5',\n",
       "  'extra': '0',\n",
       "  'mta_tax': '0',\n",
       "  'tip_amount': '12',\n",
       "  'tolls_amount': '10.5',\n",
       "  'improvement_surcharge': '0.3',\n",
       "  'total_amount': '91.3'},\n",
       " {'vendorid': '2',\n",
       "  'tpep_pickup_datetime': '2018-02-14T14:25:43.000',\n",
       "  'tpep_dropoff_datetime': '2018-02-14T15:05:18.000',\n",
       "  'passenger_count': '2',\n",
       "  'trip_distance': '17.40',\n",
       "  'ratecodeid': '3',\n",
       "  'store_and_fwd_flag': 'N',\n",
       "  'pulocationid': '162',\n",
       "  'dolocationid': '1',\n",
       "  'payment_type': '1',\n",
       "  'fare_amount': '68',\n",
       "  'extra': '0',\n",
       "  'mta_tax': '0',\n",
       "  'tip_amount': '0',\n",
       "  'tolls_amount': '16.1',\n",
       "  'improvement_surcharge': '0.3',\n",
       "  'total_amount': '84.4'},\n",
       " {'vendorid': '1',\n",
       "  'tpep_pickup_datetime': '2018-02-14T14:38:48.000',\n",
       "  'tpep_dropoff_datetime': '2018-02-14T15:36:03.000',\n",
       "  'passenger_count': '1',\n",
       "  'trip_distance': '21.70',\n",
       "  'ratecodeid': '3',\n",
       "  'store_and_fwd_flag': 'N',\n",
       "  'pulocationid': '162',\n",
       "  'dolocationid': '1',\n",
       "  'payment_type': '2',\n",
       "  'fare_amount': '81',\n",
       "  'extra': '0',\n",
       "  'mta_tax': '0',\n",
       "  'tip_amount': '0',\n",
       "  'tolls_amount': '15.49',\n",
       "  'improvement_surcharge': '0.3',\n",
       "  'total_amount': '96.79'}]"
      ]
     },
     "execution_count": 76,
     "metadata": {},
     "output_type": "execute_result"
    }
   ],
   "source": [
    "data[:3]"
   ]
  },
  {
   "cell_type": "markdown",
   "metadata": {},
   "source": [
    "Note that the returned request contains information reagrding pick up and drop off times, distance covered, fare amount, number of passengers etc. Essentially, it returns all info provided by TLC in any csv file."
   ]
  },
  {
   "cell_type": "markdown",
   "metadata": {},
   "source": [
    "Let's get travel time from first observation"
   ]
  },
  {
   "cell_type": "code",
   "execution_count": 77,
   "metadata": {},
   "outputs": [
    {
     "data": {
      "text/plain": [
       "datetime.timedelta(seconds=2576)"
      ]
     },
     "execution_count": 77,
     "metadata": {},
     "output_type": "execute_result"
    }
   ],
   "source": [
    "# travel time in seconds\n",
    "parser.parse(data[0]['tpep_dropoff_datetime']) - parser.parse(data[0]['tpep_pickup_datetime'])"
   ]
  },
  {
   "cell_type": "markdown",
   "metadata": {},
   "source": [
    "Note the travel time returned is around 40 minutes compared to around 28 minutes from driving time retrieved from HereMap API before. Also note time can vary based on the pick up times, the above time of 40 min correspond to pick up around 7pm."
   ]
  },
  {
   "cell_type": "markdown",
   "metadata": {},
   "source": [
    "\n",
    "\n",
    "#### get yellow taxi times for O-D pairs as before\n",
    "\n",
    "#### Note: taxi data can be full of absurd values in terms of travel times/fares/distances. So we need to filter out all noise while we extract. \n",
    "#### We'll make the same checks for filtering as we did in the taxi data lab\n",
    "\n",
    "1. Get rid of observations with travel time > 1 min and < 100 min\n",
    "2. Speed (distance/time) should be > 2mph and <80mph\n",
    "3. Fare should be < 300 USD and > 2.5 USD\n",
    "4. distance traveled < 100 and > 0.3"
   ]
  },
  {
   "cell_type": "code",
   "execution_count": 78,
   "metadata": {},
   "outputs": [],
   "source": [
    "def taxiTime(df):\n",
    "    \n",
    "    times = [] # list for storing travel times\n",
    "    \n",
    "    for index, row in df.iterrows(): # iterating through all rows of sample points\n",
    "        \n",
    "        # specify parameters for making request\n",
    "        parameters = {'pulocationid':int(row['LocationID']), 'dolocationid':int(row['LocationID2'])}\n",
    "        \n",
    "        url =  \"https://data.cityofnewyork.us/resource/t29m-gskq.json\"\n",
    "        r = requests.get(url = url, params=parameters)\n",
    "        data = r.json()\n",
    "        \n",
    "        travelTime = []\n",
    "        \n",
    "        for obs in data: # iterating through each returned observation for the returned data \n",
    "            \n",
    "            # making sanity checks and appending times to 'traveTime' list\n",
    "            try:\n",
    "                time = parser.parse(obs['tpep_dropoff_datetime']) - parser.parse(obs['tpep_pickup_datetime'])\n",
    "                time = time.total_seconds()\n",
    "                fare = float(obs['fare_amount'])\n",
    "                distance = float(obs['trip_distance'])\n",
    "                speed = distance/(time/3600)\n",
    "\n",
    "                if (time < 6000 and time > 60 and fare < 200  \n",
    "                    and fare > 2.5 and fare < 300 and speed < 80  and speed > 2 and distance > 0.3 and \n",
    "                    distance < 100):\n",
    "                    travelTime.append(time)\n",
    "                    \n",
    "            except: \n",
    "                pass\n",
    "            \n",
    "        # now appending the mean of travel times retrieved above to the 'times' list\n",
    "    \n",
    "        times.append(np.mean(travelTime))\n",
    "        \n",
    "        \n",
    "    return times"
   ]
  },
  {
   "cell_type": "code",
   "execution_count": 79,
   "metadata": {},
   "outputs": [
    {
     "name": "stderr",
     "output_type": "stream",
     "text": [
      "/opt/conda/envs/PUI/lib/python3.8/site-packages/numpy/core/fromnumeric.py:3440: RuntimeWarning: Mean of empty slice.\n",
      "  return _methods._mean(a, axis=axis, dtype=dtype,\n",
      "/opt/conda/envs/PUI/lib/python3.8/site-packages/numpy/core/_methods.py:189: RuntimeWarning: invalid value encountered in double_scalars\n",
      "  ret = ret.dtype.type(ret / rcount)\n"
     ]
    },
    {
     "data": {
      "text/html": [
       "<div>\n",
       "<style scoped>\n",
       "    .dataframe tbody tr th:only-of-type {\n",
       "        vertical-align: middle;\n",
       "    }\n",
       "\n",
       "    .dataframe tbody tr th {\n",
       "        vertical-align: top;\n",
       "    }\n",
       "\n",
       "    .dataframe thead th {\n",
       "        text-align: right;\n",
       "    }\n",
       "</style>\n",
       "<table border=\"1\" class=\"dataframe\">\n",
       "  <thead>\n",
       "    <tr style=\"text-align: right;\">\n",
       "      <th></th>\n",
       "      <th>LocationID</th>\n",
       "      <th>lon_pickup</th>\n",
       "      <th>lat_pickup</th>\n",
       "      <th>LocationID2</th>\n",
       "      <th>lon_dropoff</th>\n",
       "      <th>lat_dropoff</th>\n",
       "      <th>driving_time</th>\n",
       "      <th>TLC_avgtime</th>\n",
       "    </tr>\n",
       "  </thead>\n",
       "  <tbody>\n",
       "    <tr>\n",
       "      <th>0</th>\n",
       "      <td>110</td>\n",
       "      <td>-74.128342</td>\n",
       "      <td>40.545780</td>\n",
       "      <td>254</td>\n",
       "      <td>-73.858948</td>\n",
       "      <td>40.882157</td>\n",
       "      <td>4358</td>\n",
       "      <td>NaN</td>\n",
       "    </tr>\n",
       "    <tr>\n",
       "      <th>1</th>\n",
       "      <td>51</td>\n",
       "      <td>-73.828264</td>\n",
       "      <td>40.873973</td>\n",
       "      <td>92</td>\n",
       "      <td>-73.828859</td>\n",
       "      <td>40.761102</td>\n",
       "      <td>1274</td>\n",
       "      <td>1398.000000</td>\n",
       "    </tr>\n",
       "    <tr>\n",
       "      <th>2</th>\n",
       "      <td>166</td>\n",
       "      <td>-73.961764</td>\n",
       "      <td>40.809457</td>\n",
       "      <td>234</td>\n",
       "      <td>-73.990458</td>\n",
       "      <td>40.740337</td>\n",
       "      <td>1279</td>\n",
       "      <td>1834.531062</td>\n",
       "    </tr>\n",
       "    <tr>\n",
       "      <th>3</th>\n",
       "      <td>207</td>\n",
       "      <td>-73.899353</td>\n",
       "      <td>40.763986</td>\n",
       "      <td>248</td>\n",
       "      <td>-73.872289</td>\n",
       "      <td>40.834165</td>\n",
       "      <td>1216</td>\n",
       "      <td>NaN</td>\n",
       "    </tr>\n",
       "    <tr>\n",
       "      <th>4</th>\n",
       "      <td>195</td>\n",
       "      <td>-74.009178</td>\n",
       "      <td>40.675549</td>\n",
       "      <td>68</td>\n",
       "      <td>-73.999917</td>\n",
       "      <td>40.748428</td>\n",
       "      <td>1144</td>\n",
       "      <td>2149.000000</td>\n",
       "    </tr>\n",
       "    <tr>\n",
       "      <th>5</th>\n",
       "      <td>251</td>\n",
       "      <td>-74.125348</td>\n",
       "      <td>40.616880</td>\n",
       "      <td>114</td>\n",
       "      <td>-73.997380</td>\n",
       "      <td>40.728340</td>\n",
       "      <td>2036</td>\n",
       "      <td>NaN</td>\n",
       "    </tr>\n",
       "    <tr>\n",
       "      <th>6</th>\n",
       "      <td>71</td>\n",
       "      <td>-73.937966</td>\n",
       "      <td>40.644288</td>\n",
       "      <td>118</td>\n",
       "      <td>-74.132979</td>\n",
       "      <td>40.586555</td>\n",
       "      <td>2261</td>\n",
       "      <td>3126.000000</td>\n",
       "    </tr>\n",
       "    <tr>\n",
       "      <th>7</th>\n",
       "      <td>139</td>\n",
       "      <td>-73.744234</td>\n",
       "      <td>40.677098</td>\n",
       "      <td>202</td>\n",
       "      <td>-73.949952</td>\n",
       "      <td>40.761900</td>\n",
       "      <td>2333</td>\n",
       "      <td>NaN</td>\n",
       "    </tr>\n",
       "    <tr>\n",
       "      <th>8</th>\n",
       "      <td>76</td>\n",
       "      <td>-73.876821</td>\n",
       "      <td>40.660935</td>\n",
       "      <td>240</td>\n",
       "      <td>-73.881978</td>\n",
       "      <td>40.894599</td>\n",
       "      <td>2640</td>\n",
       "      <td>3203.666667</td>\n",
       "    </tr>\n",
       "    <tr>\n",
       "      <th>9</th>\n",
       "      <td>165</td>\n",
       "      <td>-73.956825</td>\n",
       "      <td>40.620924</td>\n",
       "      <td>258</td>\n",
       "      <td>-73.855767</td>\n",
       "      <td>40.688721</td>\n",
       "      <td>1965</td>\n",
       "      <td>2622.000000</td>\n",
       "    </tr>\n",
       "  </tbody>\n",
       "</table>\n",
       "</div>"
      ],
      "text/plain": [
       "   LocationID  lon_pickup  lat_pickup  LocationID2  lon_dropoff  lat_dropoff  \\\n",
       "0         110  -74.128342   40.545780          254   -73.858948    40.882157   \n",
       "1          51  -73.828264   40.873973           92   -73.828859    40.761102   \n",
       "2         166  -73.961764   40.809457          234   -73.990458    40.740337   \n",
       "3         207  -73.899353   40.763986          248   -73.872289    40.834165   \n",
       "4         195  -74.009178   40.675549           68   -73.999917    40.748428   \n",
       "5         251  -74.125348   40.616880          114   -73.997380    40.728340   \n",
       "6          71  -73.937966   40.644288          118   -74.132979    40.586555   \n",
       "7         139  -73.744234   40.677098          202   -73.949952    40.761900   \n",
       "8          76  -73.876821   40.660935          240   -73.881978    40.894599   \n",
       "9         165  -73.956825   40.620924          258   -73.855767    40.688721   \n",
       "\n",
       "   driving_time  TLC_avgtime  \n",
       "0          4358          NaN  \n",
       "1          1274  1398.000000  \n",
       "2          1279  1834.531062  \n",
       "3          1216          NaN  \n",
       "4          1144  2149.000000  \n",
       "5          2036          NaN  \n",
       "6          2261  3126.000000  \n",
       "7          2333          NaN  \n",
       "8          2640  3203.666667  \n",
       "9          1965  2622.000000  "
      ]
     },
     "execution_count": 79,
     "metadata": {},
     "output_type": "execute_result"
    }
   ],
   "source": [
    "sample['TLC_avgtime'] = taxiTime(sample)\n",
    "sample"
   ]
  },
  {
   "cell_type": "markdown",
   "metadata": {},
   "source": [
    "### Homework\n",
    "\n",
    "1. Extract 2018/2019 FHV and shared FHV data and compare with taxi times from TLC and driving times from HereMap API for 50 random O-D pairs.\n",
    "2. Extra credit: Using geocoding API from HereMAPs"
   ]
  },
  {
   "cell_type": "markdown",
   "metadata": {},
   "source": [
    "### Retrieving FHV and shared FHV data\n",
    "\n",
    "#### FHV (for hire vehicles) refers to cars belonging to privately owned companies and entities like Uber, Lyft etc. Shared for hire vehicles (SFHV) trips are where two or more people share the same trip (UberPool etc.)\n",
    "\n",
    "\n",
    "use API endpoint: https://data.cityofnewyork.us/resource/u6nh-b56h.json\n",
    "\n",
    "for shared FHV, use parameter 'SR_flag': 1 and 0 for non shared FHV"
   ]
  },
  {
   "cell_type": "markdown",
   "metadata": {},
   "source": [
    "### Task 1: get sample request for a single O-D pair for both FHV and shared FHV"
   ]
  },
  {
   "cell_type": "code",
   "execution_count": 80,
   "metadata": {},
   "outputs": [
    {
     "data": {
      "text/plain": [
       "[{'dispatching_base_num': 'B02835',\n",
       "  'pickup_datetime': '2019-01-01T01:51:19.000',\n",
       "  'dropoff_datetime': '2019-01-01T02:37:34.000',\n",
       "  'pulocationid': '162',\n",
       "  'dolocationid': '1',\n",
       "  'sr_flag': '1'}]"
      ]
     },
     "execution_count": 80,
     "metadata": {},
     "output_type": "execute_result"
    }
   ],
   "source": [
    "# write parameters here for FHV\n",
    "parameter_FHV= {'pulocationid':162, 'dolocationid':1, 'sr_flag':\"1\"}\n",
    "url=  \"https://data.cityofnewyork.us/resource/u6nh-b56h.json\"\n",
    "r = requests.get(url = url, \n",
    "                 params=parameter_FHV)\n",
    "data = r.json()\n",
    "data[:1]"
   ]
  },
  {
   "cell_type": "code",
   "execution_count": 81,
   "metadata": {
    "deletable": false,
    "nbgrader": {
     "cell_type": "code",
     "checksum": "a81bc0d64ebda52b2972089b73c2fb28",
     "grade": true,
     "grade_id": "cell-e88d7dcbaafdd1aa",
     "locked": false,
     "points": 1,
     "schema_version": 3,
     "solution": true,
     "task": false
    }
   },
   "outputs": [
    {
     "data": {
      "text/plain": [
       "[{'dispatching_base_num': 'B02510',\n",
       "  'pickup_datetime': '2019-01-01T04:07:00.000',\n",
       "  'dropoff_datetime': '2019-01-01T04:42:46.000',\n",
       "  'pulocationid': '162',\n",
       "  'dolocationid': '1'}]"
      ]
     },
     "execution_count": 81,
     "metadata": {},
     "output_type": "execute_result"
    }
   ],
   "source": [
    "# write parameters here for shared FHV\n",
    "\n",
    "parameter_shared_FHV = {'pulocationid':162, 'dolocationid':1, '$where':\"sr_flag is null\"}\n",
    "#get shared FHV travel time from one observation for above O-D pair\n",
    "url_1=  \"https://data.cityofnewyork.us/resource/u6nh-b56h.json\"\n",
    "r_1= requests.get(url = url_1, \n",
    "                  params=parameter_shared_FHV)\n",
    "data_1 = r_1.json()\n",
    "data_1[:1]"
   ]
  },
  {
   "cell_type": "code",
   "execution_count": null,
   "metadata": {
    "deletable": false,
    "nbgrader": {
     "cell_type": "code",
     "checksum": "3899dc74297e53d51b3400c447f35223",
     "grade": true,
     "grade_id": "cell-e9ed5a61ca8d6ae8",
     "locked": false,
     "points": 1,
     "schema_version": 3,
     "solution": true,
     "task": false
    }
   },
   "outputs": [],
   "source": []
  },
  {
   "cell_type": "markdown",
   "metadata": {},
   "source": [
    "### Task 2. Write the function for getting FHV and Shared FHV times for 50 sample O-D pairs. \n",
    "\n",
    "#### Hint: see above that the returned FHV/shared FHV data has column names 'pickup_datetime' and 'dropoff_datetime' instead of 'tpep_pickup_datetime' and 'tpep_dropoff_datetime' used in the functions above. So make sure to change these names when writing the code below\n",
    "\n",
    "\n",
    "Also make necessary filtering to remove outliers. Remember, in this data, just travel times are available, so we don't need any other variable outlier filtering."
   ]
  },
  {
   "cell_type": "code",
   "execution_count": 82,
   "metadata": {},
   "outputs": [
    {
     "ename": "FileNotFoundError",
     "evalue": "[Errno 2] No such file or directory: 'samplePoints.csv'",
     "output_type": "error",
     "traceback": [
      "\u001b[0;31m---------------------------------------------------------------------------\u001b[0m",
      "\u001b[0;31mFileNotFoundError\u001b[0m                         Traceback (most recent call last)",
      "\u001b[0;32m/tmp/ipykernel_84/3137798404.py\u001b[0m in \u001b[0;36m<module>\u001b[0;34m\u001b[0m\n\u001b[1;32m      1\u001b[0m \u001b[0;31m# sample points\u001b[0m\u001b[0;34m\u001b[0m\u001b[0;34m\u001b[0m\u001b[0;34m\u001b[0m\u001b[0m\n\u001b[1;32m      2\u001b[0m \u001b[0;34m\u001b[0m\u001b[0m\n\u001b[0;32m----> 3\u001b[0;31m \u001b[0mdf\u001b[0m \u001b[0;34m=\u001b[0m \u001b[0mpd\u001b[0m\u001b[0;34m.\u001b[0m\u001b[0mread_csv\u001b[0m\u001b[0;34m(\u001b[0m\u001b[0;34m'samplePoints.csv'\u001b[0m\u001b[0;34m)\u001b[0m\u001b[0;34m\u001b[0m\u001b[0;34m\u001b[0m\u001b[0m\n\u001b[0m\u001b[1;32m      4\u001b[0m \u001b[0msample\u001b[0m \u001b[0;34m=\u001b[0m \u001b[0mdf\u001b[0m\u001b[0;34m.\u001b[0m\u001b[0msample\u001b[0m\u001b[0;34m(\u001b[0m\u001b[0;36m50\u001b[0m\u001b[0;34m,\u001b[0m \u001b[0mrandom_state\u001b[0m\u001b[0;34m=\u001b[0m\u001b[0;36m2020\u001b[0m\u001b[0;34m)\u001b[0m\u001b[0;34m\u001b[0m\u001b[0;34m\u001b[0m\u001b[0m\n\u001b[1;32m      5\u001b[0m \u001b[0msample\u001b[0m\u001b[0;34m.\u001b[0m\u001b[0mhead\u001b[0m\u001b[0;34m(\u001b[0m\u001b[0;34m)\u001b[0m\u001b[0;34m\u001b[0m\u001b[0;34m\u001b[0m\u001b[0m\n",
      "\u001b[0;32m/opt/conda/envs/PUI/lib/python3.8/site-packages/pandas/util/_decorators.py\u001b[0m in \u001b[0;36mwrapper\u001b[0;34m(*args, **kwargs)\u001b[0m\n\u001b[1;32m    309\u001b[0m                     \u001b[0mstacklevel\u001b[0m\u001b[0;34m=\u001b[0m\u001b[0mstacklevel\u001b[0m\u001b[0;34m,\u001b[0m\u001b[0;34m\u001b[0m\u001b[0;34m\u001b[0m\u001b[0m\n\u001b[1;32m    310\u001b[0m                 )\n\u001b[0;32m--> 311\u001b[0;31m             \u001b[0;32mreturn\u001b[0m \u001b[0mfunc\u001b[0m\u001b[0;34m(\u001b[0m\u001b[0;34m*\u001b[0m\u001b[0margs\u001b[0m\u001b[0;34m,\u001b[0m \u001b[0;34m**\u001b[0m\u001b[0mkwargs\u001b[0m\u001b[0;34m)\u001b[0m\u001b[0;34m\u001b[0m\u001b[0;34m\u001b[0m\u001b[0m\n\u001b[0m\u001b[1;32m    312\u001b[0m \u001b[0;34m\u001b[0m\u001b[0m\n\u001b[1;32m    313\u001b[0m         \u001b[0;32mreturn\u001b[0m \u001b[0mwrapper\u001b[0m\u001b[0;34m\u001b[0m\u001b[0;34m\u001b[0m\u001b[0m\n",
      "\u001b[0;32m/opt/conda/envs/PUI/lib/python3.8/site-packages/pandas/io/parsers/readers.py\u001b[0m in \u001b[0;36mread_csv\u001b[0;34m(filepath_or_buffer, sep, delimiter, header, names, index_col, usecols, squeeze, prefix, mangle_dupe_cols, dtype, engine, converters, true_values, false_values, skipinitialspace, skiprows, skipfooter, nrows, na_values, keep_default_na, na_filter, verbose, skip_blank_lines, parse_dates, infer_datetime_format, keep_date_col, date_parser, dayfirst, cache_dates, iterator, chunksize, compression, thousands, decimal, lineterminator, quotechar, quoting, doublequote, escapechar, comment, encoding, encoding_errors, dialect, error_bad_lines, warn_bad_lines, on_bad_lines, delim_whitespace, low_memory, memory_map, float_precision, storage_options)\u001b[0m\n\u001b[1;32m    584\u001b[0m     \u001b[0mkwds\u001b[0m\u001b[0;34m.\u001b[0m\u001b[0mupdate\u001b[0m\u001b[0;34m(\u001b[0m\u001b[0mkwds_defaults\u001b[0m\u001b[0;34m)\u001b[0m\u001b[0;34m\u001b[0m\u001b[0;34m\u001b[0m\u001b[0m\n\u001b[1;32m    585\u001b[0m \u001b[0;34m\u001b[0m\u001b[0m\n\u001b[0;32m--> 586\u001b[0;31m     \u001b[0;32mreturn\u001b[0m \u001b[0m_read\u001b[0m\u001b[0;34m(\u001b[0m\u001b[0mfilepath_or_buffer\u001b[0m\u001b[0;34m,\u001b[0m \u001b[0mkwds\u001b[0m\u001b[0;34m)\u001b[0m\u001b[0;34m\u001b[0m\u001b[0;34m\u001b[0m\u001b[0m\n\u001b[0m\u001b[1;32m    587\u001b[0m \u001b[0;34m\u001b[0m\u001b[0m\n\u001b[1;32m    588\u001b[0m \u001b[0;34m\u001b[0m\u001b[0m\n",
      "\u001b[0;32m/opt/conda/envs/PUI/lib/python3.8/site-packages/pandas/io/parsers/readers.py\u001b[0m in \u001b[0;36m_read\u001b[0;34m(filepath_or_buffer, kwds)\u001b[0m\n\u001b[1;32m    480\u001b[0m \u001b[0;34m\u001b[0m\u001b[0m\n\u001b[1;32m    481\u001b[0m     \u001b[0;31m# Create the parser.\u001b[0m\u001b[0;34m\u001b[0m\u001b[0;34m\u001b[0m\u001b[0;34m\u001b[0m\u001b[0m\n\u001b[0;32m--> 482\u001b[0;31m     \u001b[0mparser\u001b[0m \u001b[0;34m=\u001b[0m \u001b[0mTextFileReader\u001b[0m\u001b[0;34m(\u001b[0m\u001b[0mfilepath_or_buffer\u001b[0m\u001b[0;34m,\u001b[0m \u001b[0;34m**\u001b[0m\u001b[0mkwds\u001b[0m\u001b[0;34m)\u001b[0m\u001b[0;34m\u001b[0m\u001b[0;34m\u001b[0m\u001b[0m\n\u001b[0m\u001b[1;32m    483\u001b[0m \u001b[0;34m\u001b[0m\u001b[0m\n\u001b[1;32m    484\u001b[0m     \u001b[0;32mif\u001b[0m \u001b[0mchunksize\u001b[0m \u001b[0;32mor\u001b[0m \u001b[0miterator\u001b[0m\u001b[0;34m:\u001b[0m\u001b[0;34m\u001b[0m\u001b[0;34m\u001b[0m\u001b[0m\n",
      "\u001b[0;32m/opt/conda/envs/PUI/lib/python3.8/site-packages/pandas/io/parsers/readers.py\u001b[0m in \u001b[0;36m__init__\u001b[0;34m(self, f, engine, **kwds)\u001b[0m\n\u001b[1;32m    809\u001b[0m             \u001b[0mself\u001b[0m\u001b[0;34m.\u001b[0m\u001b[0moptions\u001b[0m\u001b[0;34m[\u001b[0m\u001b[0;34m\"has_index_names\"\u001b[0m\u001b[0;34m]\u001b[0m \u001b[0;34m=\u001b[0m \u001b[0mkwds\u001b[0m\u001b[0;34m[\u001b[0m\u001b[0;34m\"has_index_names\"\u001b[0m\u001b[0;34m]\u001b[0m\u001b[0;34m\u001b[0m\u001b[0;34m\u001b[0m\u001b[0m\n\u001b[1;32m    810\u001b[0m \u001b[0;34m\u001b[0m\u001b[0m\n\u001b[0;32m--> 811\u001b[0;31m         \u001b[0mself\u001b[0m\u001b[0;34m.\u001b[0m\u001b[0m_engine\u001b[0m \u001b[0;34m=\u001b[0m \u001b[0mself\u001b[0m\u001b[0;34m.\u001b[0m\u001b[0m_make_engine\u001b[0m\u001b[0;34m(\u001b[0m\u001b[0mself\u001b[0m\u001b[0;34m.\u001b[0m\u001b[0mengine\u001b[0m\u001b[0;34m)\u001b[0m\u001b[0;34m\u001b[0m\u001b[0;34m\u001b[0m\u001b[0m\n\u001b[0m\u001b[1;32m    812\u001b[0m \u001b[0;34m\u001b[0m\u001b[0m\n\u001b[1;32m    813\u001b[0m     \u001b[0;32mdef\u001b[0m \u001b[0mclose\u001b[0m\u001b[0;34m(\u001b[0m\u001b[0mself\u001b[0m\u001b[0;34m)\u001b[0m\u001b[0;34m:\u001b[0m\u001b[0;34m\u001b[0m\u001b[0;34m\u001b[0m\u001b[0m\n",
      "\u001b[0;32m/opt/conda/envs/PUI/lib/python3.8/site-packages/pandas/io/parsers/readers.py\u001b[0m in \u001b[0;36m_make_engine\u001b[0;34m(self, engine)\u001b[0m\n\u001b[1;32m   1038\u001b[0m             )\n\u001b[1;32m   1039\u001b[0m         \u001b[0;31m# error: Too many arguments for \"ParserBase\"\u001b[0m\u001b[0;34m\u001b[0m\u001b[0;34m\u001b[0m\u001b[0;34m\u001b[0m\u001b[0m\n\u001b[0;32m-> 1040\u001b[0;31m         \u001b[0;32mreturn\u001b[0m \u001b[0mmapping\u001b[0m\u001b[0;34m[\u001b[0m\u001b[0mengine\u001b[0m\u001b[0;34m]\u001b[0m\u001b[0;34m(\u001b[0m\u001b[0mself\u001b[0m\u001b[0;34m.\u001b[0m\u001b[0mf\u001b[0m\u001b[0;34m,\u001b[0m \u001b[0;34m**\u001b[0m\u001b[0mself\u001b[0m\u001b[0;34m.\u001b[0m\u001b[0moptions\u001b[0m\u001b[0;34m)\u001b[0m  \u001b[0;31m# type: ignore[call-arg]\u001b[0m\u001b[0;34m\u001b[0m\u001b[0;34m\u001b[0m\u001b[0m\n\u001b[0m\u001b[1;32m   1041\u001b[0m \u001b[0;34m\u001b[0m\u001b[0m\n\u001b[1;32m   1042\u001b[0m     \u001b[0;32mdef\u001b[0m \u001b[0m_failover_to_python\u001b[0m\u001b[0;34m(\u001b[0m\u001b[0mself\u001b[0m\u001b[0;34m)\u001b[0m\u001b[0;34m:\u001b[0m\u001b[0;34m\u001b[0m\u001b[0;34m\u001b[0m\u001b[0m\n",
      "\u001b[0;32m/opt/conda/envs/PUI/lib/python3.8/site-packages/pandas/io/parsers/c_parser_wrapper.py\u001b[0m in \u001b[0;36m__init__\u001b[0;34m(self, src, **kwds)\u001b[0m\n\u001b[1;32m     49\u001b[0m \u001b[0;34m\u001b[0m\u001b[0m\n\u001b[1;32m     50\u001b[0m         \u001b[0;31m# open handles\u001b[0m\u001b[0;34m\u001b[0m\u001b[0;34m\u001b[0m\u001b[0;34m\u001b[0m\u001b[0m\n\u001b[0;32m---> 51\u001b[0;31m         \u001b[0mself\u001b[0m\u001b[0;34m.\u001b[0m\u001b[0m_open_handles\u001b[0m\u001b[0;34m(\u001b[0m\u001b[0msrc\u001b[0m\u001b[0;34m,\u001b[0m \u001b[0mkwds\u001b[0m\u001b[0;34m)\u001b[0m\u001b[0;34m\u001b[0m\u001b[0;34m\u001b[0m\u001b[0m\n\u001b[0m\u001b[1;32m     52\u001b[0m         \u001b[0;32massert\u001b[0m \u001b[0mself\u001b[0m\u001b[0;34m.\u001b[0m\u001b[0mhandles\u001b[0m \u001b[0;32mis\u001b[0m \u001b[0;32mnot\u001b[0m \u001b[0;32mNone\u001b[0m\u001b[0;34m\u001b[0m\u001b[0;34m\u001b[0m\u001b[0m\n\u001b[1;32m     53\u001b[0m \u001b[0;34m\u001b[0m\u001b[0m\n",
      "\u001b[0;32m/opt/conda/envs/PUI/lib/python3.8/site-packages/pandas/io/parsers/base_parser.py\u001b[0m in \u001b[0;36m_open_handles\u001b[0;34m(self, src, kwds)\u001b[0m\n\u001b[1;32m    220\u001b[0m         \u001b[0mLet\u001b[0m \u001b[0mthe\u001b[0m \u001b[0mreaders\u001b[0m \u001b[0mopen\u001b[0m \u001b[0mIOHandles\u001b[0m \u001b[0mafter\u001b[0m \u001b[0mthey\u001b[0m \u001b[0mare\u001b[0m \u001b[0mdone\u001b[0m \u001b[0;32mwith\u001b[0m \u001b[0mtheir\u001b[0m \u001b[0mpotential\u001b[0m \u001b[0mraises\u001b[0m\u001b[0;34m.\u001b[0m\u001b[0;34m\u001b[0m\u001b[0;34m\u001b[0m\u001b[0m\n\u001b[1;32m    221\u001b[0m         \"\"\"\n\u001b[0;32m--> 222\u001b[0;31m         self.handles = get_handle(\n\u001b[0m\u001b[1;32m    223\u001b[0m             \u001b[0msrc\u001b[0m\u001b[0;34m,\u001b[0m\u001b[0;34m\u001b[0m\u001b[0;34m\u001b[0m\u001b[0m\n\u001b[1;32m    224\u001b[0m             \u001b[0;34m\"r\"\u001b[0m\u001b[0;34m,\u001b[0m\u001b[0;34m\u001b[0m\u001b[0;34m\u001b[0m\u001b[0m\n",
      "\u001b[0;32m/opt/conda/envs/PUI/lib/python3.8/site-packages/pandas/io/common.py\u001b[0m in \u001b[0;36mget_handle\u001b[0;34m(path_or_buf, mode, encoding, compression, memory_map, is_text, errors, storage_options)\u001b[0m\n\u001b[1;32m    699\u001b[0m         \u001b[0;32mif\u001b[0m \u001b[0mioargs\u001b[0m\u001b[0;34m.\u001b[0m\u001b[0mencoding\u001b[0m \u001b[0;32mand\u001b[0m \u001b[0;34m\"b\"\u001b[0m \u001b[0;32mnot\u001b[0m \u001b[0;32min\u001b[0m \u001b[0mioargs\u001b[0m\u001b[0;34m.\u001b[0m\u001b[0mmode\u001b[0m\u001b[0;34m:\u001b[0m\u001b[0;34m\u001b[0m\u001b[0;34m\u001b[0m\u001b[0m\n\u001b[1;32m    700\u001b[0m             \u001b[0;31m# Encoding\u001b[0m\u001b[0;34m\u001b[0m\u001b[0;34m\u001b[0m\u001b[0;34m\u001b[0m\u001b[0m\n\u001b[0;32m--> 701\u001b[0;31m             handle = open(\n\u001b[0m\u001b[1;32m    702\u001b[0m                 \u001b[0mhandle\u001b[0m\u001b[0;34m,\u001b[0m\u001b[0;34m\u001b[0m\u001b[0;34m\u001b[0m\u001b[0m\n\u001b[1;32m    703\u001b[0m                 \u001b[0mioargs\u001b[0m\u001b[0;34m.\u001b[0m\u001b[0mmode\u001b[0m\u001b[0;34m,\u001b[0m\u001b[0;34m\u001b[0m\u001b[0;34m\u001b[0m\u001b[0m\n",
      "\u001b[0;31mFileNotFoundError\u001b[0m: [Errno 2] No such file or directory: 'samplePoints.csv'"
     ]
    }
   ],
   "source": [
    "# sample points\n",
    "\n",
    "df = pd.read_csv('samplePoints.csv')\n",
    "sample = df.sample(50, random_state=2020)\n",
    "sample.head()"
   ]
  },
  {
   "cell_type": "code",
   "execution_count": null,
   "metadata": {
    "deletable": false,
    "nbgrader": {
     "cell_type": "code",
     "checksum": "0ab87fb9a6d41ae9dc5ed7645c4e6f25",
     "grade": true,
     "grade_id": "cell-d60c71ad845cdfc7",
     "locked": false,
     "points": 1,
     "schema_version": 3,
     "solution": true,
     "task": false
    }
   },
   "outputs": [],
   "source": [
    "df.dtypes"
   ]
  },
  {
   "cell_type": "code",
   "execution_count": null,
   "metadata": {
    "deletable": false,
    "nbgrader": {
     "cell_type": "code",
     "checksum": "4ca98e123fa99e616f97c3a6f572785b",
     "grade": true,
     "grade_id": "cell-cb4561977f83513e",
     "locked": false,
     "points": 1,
     "schema_version": 3,
     "solution": true,
     "task": false
    }
   },
   "outputs": [],
   "source": [
    "def times_SFHV(df):\n",
    "    #SHRED_FHV LOOP\n",
    "    shared_FHV= [] # list for storing travel times\n",
    "    \n",
    "    for index, row in df.iterrows(): # iterating through all rows of sample points\n",
    "        \n",
    "        # specify parameters for making request\n",
    "        parameter_shared_FHV = {'pulocationid':int(row['LocationID']), 'dolocationid':int(row['LocationID2']), '$where':'sr_flag is null'}\n",
    "        \n",
    "        url=  \"https://data.cityofnewyork.us/resource/u6nh-b56h.json\"\n",
    "        r = requests.get(url = url, params=parameter_shared_FHV)\n",
    "        data = r.json()\n",
    "        \n",
    "        travelTime = []\n",
    "        \n",
    "        for obs in data: # iterating through each returned observation for the returned data \n",
    "            \n",
    "            # making sanity checks and appending times to 'traveTime' list\n",
    "            try:\n",
    "                time = parser.parse(obs['dropoff_datetime']) - parser.parse(obs['pickup_datetime'])\n",
    "                time = time.total_seconds()\n",
    "                \n",
    "                if (time < 6000 and time > 60 ):\n",
    "                    travelTime.append(time)\n",
    "        \n",
    "            except: \n",
    "                pass\n",
    "            \n",
    "        # now appending the mean of travel times retrieved above to the 'times' list\n",
    "\n",
    "        shared_FHV.append(np.mean(travelTime))\n",
    "    return shared_FHV"
   ]
  },
  {
   "cell_type": "code",
   "execution_count": null,
   "metadata": {},
   "outputs": [],
   "source": [
    "def times_FHV(df):\n",
    "\n",
    "    FHV_times = [] # list for storing travel times\n",
    "    \n",
    "    for index, row in df.iterrows(): # iterating through all rows of sample points\n",
    "        \n",
    "        # specify parameters for making request\n",
    "        parameter_FHV = {'pulocationid':int(row['LocationID']), 'dolocationid':int(row['LocationID2']), 'sr_flag':'1'}\n",
    "        \n",
    "        url_1=  \"https://data.cityofnewyork.us/resource/u6nh-b56h.json\"\n",
    "        r_1= requests.get(url = url_1, params=parameter_FHV)\n",
    "        data_1 = r_1.json()\n",
    "        \n",
    "        travelTime = []\n",
    "        \n",
    "        for obs in data_1: # iterating through each returned observation for the returned data \n",
    "            \n",
    "            # making sanity checks and appending times to 'traveTime' list\n",
    "            try:\n",
    "                time = parser.parse(obs['dropoff_datetime']) - parser.parse(obs['pickup_datetime'])\n",
    "                time = time.total_seconds()\n",
    "                \n",
    "                if (time < 6000 and time > 60):\n",
    "                    travelTime.append(time)\n",
    "                    \n",
    "            except: \n",
    "                pass\n",
    "            \n",
    "        # now appending the mean of travel times retrieved above to the 'times' list\n",
    "    \n",
    "        FHV_times.append(np.mean(travelTime))\n",
    "        \n",
    "        \n",
    "    return FHV_times"
   ]
  },
  {
   "cell_type": "code",
   "execution_count": null,
   "metadata": {},
   "outputs": [],
   "source": [
    "sample['SFHVtimes'] = times_SFHV(sample)\n",
    "sample['FHVtimes'] = times_FHV(sample)\n",
    "sample"
   ]
  },
  {
   "cell_type": "code",
   "execution_count": null,
   "metadata": {},
   "outputs": [],
   "source": [
    "# write function for getting average FHV and SFHV times\n",
    "#### hint: function will essentially be the same as for FHV except for the change in the request parameters and returning \n",
    "def FHVtimes(df):\n",
    "    parameter_FHV = {'pulocationid':162, 'dolocationid':1, 'sr_flag':0}\n",
    "\n",
    "    return (FHV_times,SFHV_times)"
   ]
  },
  {
   "cell_type": "code",
   "execution_count": null,
   "metadata": {},
   "outputs": [],
   "source": [
    "## requests from API (call the above function)\n",
    "sample1 = sample.dropna()\n",
    "sample1"
   ]
  },
  {
   "cell_type": "markdown",
   "metadata": {},
   "source": [
    "### Task 3: Comparison of times for FHV and shared FHV"
   ]
  },
  {
   "cell_type": "code",
   "execution_count": null,
   "metadata": {},
   "outputs": [],
   "source": [
    "## check number of 'Nan' values (if any) retrieved from travel times\n",
    "\n",
    "sample.isnull().sum()"
   ]
  },
  {
   "cell_type": "code",
   "execution_count": null,
   "metadata": {
    "deletable": false,
    "nbgrader": {
     "cell_type": "code",
     "checksum": "f318ed4755c49f8437dcbf9a832e297c",
     "grade": true,
     "grade_id": "cell-3e3f4e2bd8a3491e",
     "locked": false,
     "points": 1,
     "schema_version": 3,
     "solution": true,
     "task": false
    }
   },
   "outputs": [],
   "source": [
    "# remove the rows if any of the retrieved FHV or shared FHV times has 'Nan'\n",
    "sample1 = sample.dropna()\n",
    "sample1"
   ]
  },
  {
   "cell_type": "code",
   "execution_count": null,
   "metadata": {
    "deletable": false,
    "nbgrader": {
     "cell_type": "code",
     "checksum": "4d0d75abc13ab8deefd24ac7fe9a7b32",
     "grade": true,
     "grade_id": "cell-f778cee509e3a316",
     "locked": false,
     "points": 1,
     "schema_version": 3,
     "solution": true,
     "task": false
    }
   },
   "outputs": [],
   "source": [
    "# make scatter plot comparing FHV times with shared FHV times for the 50 sample O-D pairs\n",
    "# add a FHV=SFHV baseline to see if most of the points are above (FHV time>SFHV time) or below (FHV time<SFHV time)\n",
    "\n",
    "# hint: use plt.plot(var1, var2, 'o') for scatter plots between two variables var1 and var2 of interest"
   ]
  },
  {
   "cell_type": "code",
   "execution_count": null,
   "metadata": {},
   "outputs": [],
   "source": [
    "# YOUR CODE HERE\n",
    "from matplotlib import pyplot as plt\n",
    "plt.plot(sample1['SFHVtimes'], sample1['FHVtimes'], 'o')\n",
    "lineStart = sample1['SFHVtimes'].min()\n",
    "lineEnd = sample1['SFHVtimes'].max()\n",
    "plt.plot([lineStart, lineEnd], [lineStart, lineEnd], 'k-', color = 'r')\n",
    "#raise NotImplementedError()"
   ]
  },
  {
   "cell_type": "markdown",
   "metadata": {},
   "source": [
    "## Extra credit task- Using one other API : geocoding\n",
    "Geocoding referes to converting textual addresses into lat-long. Useful in getting a precise location of a place"
   ]
  },
  {
   "cell_type": "markdown",
   "metadata": {},
   "source": [
    "we'll use HereAPI again for geocoding. Same API key as before will work. The endpoint for geocoding API is https://geocode.search.hereapi.com/v1/geocode \n",
    "Many other companies also provide geocoding API services (eg. Google)\n",
    "\n",
    "To specify an address, we use the 'q' parameter in the endpoint. For example, if we want to get lat-long for '5 Rue Daunou, 75000 Paris, France', we'll use the following endpoint:\n",
    "\n",
    "https://geocode.search.hereapi.com/v1/geocode?q=5+Rue+Daunou%2C+75000+Paris%2C+France&apiKey={}\n",
    "\n",
    "Essentially, we write the addresses as a query with spaces being replaced by '+' and commas being repalced by '%2C'"
   ]
  },
  {
   "cell_type": "code",
   "execution_count": null,
   "metadata": {
    "deletable": false,
    "nbgrader": {
     "cell_type": "code",
     "checksum": "63751b6636c63f854056188720d3cfcf",
     "grade": true,
     "grade_id": "cell-bb6fd2a1906a485a",
     "locked": false,
     "points": 1,
     "schema_version": 3,
     "solution": true,
     "task": false
    }
   },
   "outputs": [],
   "source": [
    "# YOUR CODE HERE\n",
    "## try out a geocode request for a random address. Remember to be precise in specifying the address to remove any ambiguity\n",
    "\n",
    "# API key\n",
    "key = \"PeGRmBEmT4i0EL5OqB4VhZDyRhLyqqW8U0dO-QtfOaU\"\n",
    "\n",
    "# API endpoint with query as your address\n",
    "url = \"https://geocode.search.hereapi.com/v1/geocode?q=65+prospect+street%2C+Stamford%2C+Connecticut2C+United+States&apiKey={}\".format(key)\n",
    "\n",
    "\n",
    "data = urllib.urlopen(url).read().decode('utf-8')\n",
    "data = json.loads(data)\n",
    "data\n",
    "#raise NotImplementedError()"
   ]
  },
  {
   "cell_type": "code",
   "execution_count": null,
   "metadata": {},
   "outputs": [],
   "source": [
    "## get latitude and longitude from returned json request\n",
    "\n",
    "coords = data['items'][0]['access']\n",
    "coords"
   ]
  }
 ],
 "metadata": {
  "kernelspec": {
   "display_name": "Python [conda env:PUI]",
   "language": "python",
   "name": "conda-env-PUI-py"
  },
  "language_info": {
   "codemirror_mode": {
    "name": "ipython",
    "version": 3
   },
   "file_extension": ".py",
   "mimetype": "text/x-python",
   "name": "python",
   "nbconvert_exporter": "python",
   "pygments_lexer": "ipython3",
   "version": "3.8.10"
  }
 },
 "nbformat": 4,
 "nbformat_minor": 2
}
